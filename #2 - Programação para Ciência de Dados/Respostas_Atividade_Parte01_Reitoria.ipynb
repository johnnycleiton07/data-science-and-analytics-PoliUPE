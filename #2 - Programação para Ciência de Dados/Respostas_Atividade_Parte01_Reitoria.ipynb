{
  "cells": [
    {
      "cell_type": "markdown",
      "metadata": {
        "id": "view-in-github",
        "colab_type": "text"
      },
      "source": [
        "<a href=\"https://colab.research.google.com/github/johnnycleiton07/data-science-and-analytics-PoliUPE/blob/main/Respostas_Atividade_Parte01_Reitoria.ipynb\" target=\"_parent\"><img src=\"https://colab.research.google.com/assets/colab-badge.svg\" alt=\"Open In Colab\"/></a>"
      ]
    },
    {
      "cell_type": "markdown",
      "source": [
        "**Alunos**:\n",
        "\n",
        "- Johnny Cleiton\n",
        "- Joss Timoteo\n",
        "- Raphael Feitosa"
      ],
      "metadata": {
        "id": "K3WVv-SjbiLG"
      }
    },
    {
      "cell_type": "markdown",
      "metadata": {
        "id": "DVEozxMjq4qT"
      },
      "source": [
        "## Introduzindo Operações Básicas com Tipos Numéricos e Booleanos"
      ]
    },
    {
      "cell_type": "markdown",
      "metadata": {
        "id": "k3RWYbNB5clO"
      },
      "source": [
        "1 - Compute a saída da seguinte expressão matemática sem realizar nenhuma simplificação:\n",
        "$ a^{2} + \\frac{3}{4} \\times b \\times 987(c - \\frac{10^{-9}}{\\sqrt{0.5^{3}}}) $. Assuma que os valores das variáveis a, b e c correpondam a 2, 4 e 8, respectivamente. Armazene o resultado em uma variável.\n",
        "\n",
        "Dica: consulte os operadores aritméticos disponíveis no Python. Utilize a biblioteca math para operação de raiz."
      ]
    },
    {
      "cell_type": "code",
      "execution_count": null,
      "metadata": {
        "id": "Y6UcwvJw57MC",
        "colab": {
          "base_uri": "https://localhost:8080/"
        },
        "outputId": "1e8d0b7c-b67a-40bb-e9a4-79458fa8f585"
      },
      "outputs": [
        {
          "output_type": "stream",
          "name": "stdout",
          "text": [
            "23691.999991625027\n"
          ]
        }
      ],
      "source": [
        "# Insira a resposta abaixo.\n",
        "import math\n",
        "\n",
        "a = 2\n",
        "b = 4\n",
        "c = 8\n",
        "\n",
        "resultado = a**2 + (3/4) * b * 987 * (c - (10**-9) / math.sqrt(0.5**3))\n",
        "print (resultado)\n"
      ]
    },
    {
      "cell_type": "markdown",
      "metadata": {
        "id": "YTUAjlIWVM6C"
      },
      "source": [
        "2 - Armazene em uma variável o resto da divisão da expressão anterior por 23691."
      ]
    },
    {
      "cell_type": "code",
      "execution_count": null,
      "metadata": {
        "id": "hPB1-d0GVM_9",
        "colab": {
          "base_uri": "https://localhost:8080/"
        },
        "outputId": "c477b859-9a18-4be3-ff17-8df35432e154"
      },
      "outputs": [
        {
          "output_type": "stream",
          "name": "stdout",
          "text": [
            "0.9999916250271781\n"
          ]
        }
      ],
      "source": [
        "# Insira a resposta abaixo.\n",
        "resultado = 23691.999991625027\n",
        "resto = resultado % 23691\n",
        "print(resto)"
      ]
    },
    {
      "cell_type": "markdown",
      "metadata": {
        "id": "Xddy2CmgIqzJ"
      },
      "source": [
        "3 - Cheque se a saída do resto da divisão é ***i) igual a 1***, ***ii) maior que 1***, ***iii) menor ou igual que 1*** e ***iv) diferente de 1***. Utilize a função *print* para exibir a saída de cada checagem. Consulte os operadores relacionais disponívels no Python.\n",
        "> Não precisa usar estrutura de decisão, apenas a expressão com o operador relacional"
      ]
    },
    {
      "cell_type": "code",
      "execution_count": null,
      "metadata": {
        "id": "HfNOkdqdJMVG",
        "colab": {
          "base_uri": "https://localhost:8080/"
        },
        "outputId": "e3b12ad2-dd66-41ea-b00f-01fda09778da"
      },
      "outputs": [
        {
          "output_type": "stream",
          "name": "stdout",
          "text": [
            "False\n"
          ]
        }
      ],
      "source": [
        "# Insira a resposta abaixo.\n",
        "print( resto == 1)"
      ]
    },
    {
      "cell_type": "code",
      "source": [
        "print(resto > 1)"
      ],
      "metadata": {
        "colab": {
          "base_uri": "https://localhost:8080/"
        },
        "id": "QEYMc6N0xcyO",
        "outputId": "5feba0ed-1b80-43e1-9374-80666c64be76"
      },
      "execution_count": null,
      "outputs": [
        {
          "output_type": "stream",
          "name": "stdout",
          "text": [
            "False\n"
          ]
        }
      ]
    },
    {
      "cell_type": "code",
      "source": [
        "print(resto >= 1)"
      ],
      "metadata": {
        "colab": {
          "base_uri": "https://localhost:8080/"
        },
        "id": "VOArFN7tyzAH",
        "outputId": "cc7a3a17-4928-4e2d-e0fb-bf1f8b9ed65f"
      },
      "execution_count": null,
      "outputs": [
        {
          "output_type": "stream",
          "name": "stdout",
          "text": [
            "False\n"
          ]
        }
      ]
    },
    {
      "cell_type": "code",
      "source": [
        "print(resto != 1)"
      ],
      "metadata": {
        "colab": {
          "base_uri": "https://localhost:8080/"
        },
        "id": "OjZkJo3Cy9RJ",
        "outputId": "5756b3cd-9584-41e0-af26-84a47ed0caa7"
      },
      "execution_count": null,
      "outputs": [
        {
          "output_type": "stream",
          "name": "stdout",
          "text": [
            "True\n"
          ]
        }
      ]
    },
    {
      "cell_type": "markdown",
      "metadata": {
        "id": "OhCPDEUc6INz"
      },
      "source": [
        "4 - Escreva a seguinte expressão booleana **(A + B) . (¬B . A)**. Considere que \"+\" indica uma operação  OR; \".\" indica uma operação AND e ''¬'' indica uma operação de negação (NOT). Defina previamente a variávei *A* com valor verdadeiro e a variávei *B* com valor falso."
      ]
    },
    {
      "cell_type": "code",
      "execution_count": null,
      "metadata": {
        "id": "uDy9e_grMP2m",
        "colab": {
          "base_uri": "https://localhost:8080/"
        },
        "outputId": "771de7c3-8301-4de0-dcbc-5fbed5f214a4"
      },
      "outputs": [
        {
          "output_type": "stream",
          "name": "stdout",
          "text": [
            "True\n"
          ]
        }
      ],
      "source": [
        "# Insira a resposta abaixo.\n",
        "a = True\n",
        "b = False\n",
        "\n",
        "booleano = (a or b) and (not(b and a))\n",
        "print (booleano)"
      ]
    },
    {
      "cell_type": "markdown",
      "metadata": {
        "id": "WqIZVzrCpuqp"
      },
      "source": [
        "## Introduzindo Operações com Strings\n",
        "\n",
        "Dica: você pode utilizar a função *help(arg)* para visualizar os métodos que podem ser acessados a partir de uma variável de um tipo qualquer.\n",
        "\n",
        "Segue abaixo alguns exemplos:\n",
        "\n",
        "```\n",
        "# Exemplo usando como argumento a função que representa o tipo de dado\n",
        "help(str)\n",
        "\n",
        "# Exemplo usando uma variavel qualquer\n",
        "a = \"teste\"\n",
        "help(a)\n",
        "\n",
        "# Exemplo utilizando uma variavel do tipo dicionário\n",
        "dicionario = {\"chave\":\"valor\"}\n",
        "help(dicionario)\n",
        "\n",
        "\n",
        "```\n",
        "Você também pode usar a documentação do tipo string\n",
        "https://docs.python.org/pt-br/3/library/stdtypes.html#string-methods\n"
      ]
    },
    {
      "cell_type": "markdown",
      "metadata": {
        "id": "V_Du1ew3MXy8"
      },
      "source": [
        "5 - Defina uma variável com o valor \"hello wORld\". Utilize as funções de string do Python para reproduzir as seguintes saídas: \"Hello World\", \"hello world\", \"HELLO WORLD\".  Dica: para visualizar as funções disponíveis digite em uma célula de código `'str' ` e em seguida tecle tab.\n"
      ]
    },
    {
      "cell_type": "code",
      "execution_count": null,
      "metadata": {
        "id": "tRPJVsT0tbsh",
        "colab": {
          "base_uri": "https://localhost:8080/",
          "height": 36
        },
        "outputId": "fd3a7637-b0e7-4a9d-ffee-c4f2a2a49c3b"
      },
      "outputs": [
        {
          "output_type": "execute_result",
          "data": {
            "text/plain": [
              "'Hello World'"
            ],
            "application/vnd.google.colaboratory.intrinsic+json": {
              "type": "string"
            }
          },
          "metadata": {},
          "execution_count": 8
        }
      ],
      "source": [
        "# Insira a resposta abaixo.\n",
        "texto = \"hello wORld\"\n",
        "\n",
        "# title converte a primeira letra de cada palavra em maiúscula\n",
        "texto.title()"
      ]
    },
    {
      "cell_type": "code",
      "source": [
        "# lower converte todos os caracteres para minúsculas\n",
        "texto.lower()"
      ],
      "metadata": {
        "colab": {
          "base_uri": "https://localhost:8080/",
          "height": 36
        },
        "id": "sL-nl21DJLKH",
        "outputId": "a0f54a92-d745-4617-e969-9bb1730f5d33"
      },
      "execution_count": null,
      "outputs": [
        {
          "output_type": "execute_result",
          "data": {
            "text/plain": [
              "'hello world'"
            ],
            "application/vnd.google.colaboratory.intrinsic+json": {
              "type": "string"
            }
          },
          "metadata": {},
          "execution_count": 9
        }
      ]
    },
    {
      "cell_type": "code",
      "source": [
        "# upper converte todos os caracteres para maiúsculas\n",
        "texto.upper()"
      ],
      "metadata": {
        "colab": {
          "base_uri": "https://localhost:8080/",
          "height": 36
        },
        "id": "EDyzfn-5JOb8",
        "outputId": "d7726256-393d-4b71-ea33-d7596273e90f"
      },
      "execution_count": null,
      "outputs": [
        {
          "output_type": "execute_result",
          "data": {
            "text/plain": [
              "'HELLO WORLD'"
            ],
            "application/vnd.google.colaboratory.intrinsic+json": {
              "type": "string"
            }
          },
          "metadata": {},
          "execution_count": 10
        }
      ]
    },
    {
      "cell_type": "markdown",
      "metadata": {
        "id": "-x6qgUMjN4Po"
      },
      "source": [
        "6 - Dada a seguinte frase \" *Esse é o seu primeiro tweet.* \", remova os espaços em branco das extremidades. Em seguida, substitua a palavra *'primeiro'* por *'segundo'*.\n",
        "\n",
        "\n",
        "\n",
        "**Observação:** a operação para remoção de espaços não atua em um modo '*in-place*', isto é, não altera diretamente o objeto, apenas retorna uma cópia modificada que pode ser armazenada em uma variável. A seguir, pode-se conferir um exemplo de uma operação que não é in-place e requer que assinalemos uma variável para receber a modificação."
      ]
    },
    {
      "cell_type": "code",
      "execution_count": null,
      "metadata": {
        "id": "j-5VN4jTy3vn",
        "colab": {
          "base_uri": "https://localhost:8080/"
        },
        "outputId": "0bcb1abe-ff5b-4aa7-de3f-adcf7e9280a5"
      },
      "outputs": [
        {
          "output_type": "stream",
          "name": "stdout",
          "text": [
            "teste\n",
            "testa\n"
          ]
        }
      ],
      "source": [
        "# EXEMPLO: operação que não atua em modo 'in-place'\n",
        "\n",
        "a = 'teste'\n",
        "\n",
        "# primeiro caso\n",
        "a.replace('ste', 'sta')\n",
        "print(a)\n",
        "\n",
        "# segundo caso\n",
        "a = a.replace('ste', 'sta')\n",
        "print(a)"
      ]
    },
    {
      "cell_type": "code",
      "execution_count": null,
      "metadata": {
        "id": "FStrq8MgO-w1",
        "colab": {
          "base_uri": "https://localhost:8080/"
        },
        "outputId": "e8bc4fc4-8441-428d-908b-7551dc7fe836"
      },
      "outputs": [
        {
          "output_type": "stream",
          "name": "stdout",
          "text": [
            "Esse é o seu segundo tweet\n"
          ]
        }
      ],
      "source": [
        "# Insira a resposta abaixo.\n",
        "frase = \" Esse é o seu primeiro tweet \"\n",
        "frase_sem_espaco = frase.strip()\n",
        "frase_final = frase_sem_espaco.replace(\"primeiro\", \"segundo\")\n",
        "\n",
        "print (frase_final)"
      ]
    },
    {
      "cell_type": "markdown",
      "metadata": {
        "id": "-hy5Hx4mjKpZ"
      },
      "source": [
        "7 - Fazendo uso do resultado da questão anterior, exiba a quantidade de ocorrências da palavra *'segundo'* e em seguida a quantidade de caracteres *'s'*. Dica: existe um método na string que permite a contagem de ocorrências de uma determinada string."
      ]
    },
    {
      "cell_type": "code",
      "execution_count": null,
      "metadata": {
        "id": "2bqwnWxo2brg",
        "colab": {
          "base_uri": "https://localhost:8080/"
        },
        "outputId": "da9c43e9-32d3-4680-98db-9dea2a9b8c2a"
      },
      "outputs": [
        {
          "output_type": "stream",
          "name": "stdout",
          "text": [
            "A palavra segundo aparece 1 vez(es)\n",
            "A letra S aparece 4 vez(es) na frase\n"
          ]
        }
      ],
      "source": [
        "# Insira a resposta abaixo.\n",
        "count_segundo = frase_final.count(\"segundo\")\n",
        "count_s = frase_final.count(\"s\")\n",
        "\n",
        "print (f\"A palavra segundo aparece {count_segundo} vez(es)\")\n",
        "print (f\"A letra S aparece {count_s} vez(es) na frase\")"
      ]
    },
    {
      "cell_type": "markdown",
      "metadata": {
        "id": "Ah4Io41N3q5w"
      },
      "source": [
        "8 - Concatene duas variáveis do tipo strings com valores arbitrários e exiba o resultado.\n",
        "\n",
        "**Observação:** A string resultante deve possuir no mínimo quatro caracteres."
      ]
    },
    {
      "cell_type": "code",
      "execution_count": null,
      "metadata": {
        "id": "VQklMBD-2agi",
        "colab": {
          "base_uri": "https://localhost:8080/"
        },
        "outputId": "61c6da39-7c60-4abf-e31e-531732d669aa"
      },
      "outputs": [
        {
          "output_type": "stream",
          "name": "stdout",
          "text": [
            "banana verde\n"
          ]
        }
      ],
      "source": [
        "# Insira a resposta abaixo.\n",
        "fruta = \"banana\"\n",
        "cor = \"verde\"\n",
        "\n",
        "concatenacao = fruta + \" \" + cor\n",
        "print (concatenacao)"
      ]
    },
    {
      "cell_type": "markdown",
      "metadata": {
        "id": "-8Oy9MrNDJPV"
      },
      "source": [
        "9 - Utilize a indexação e exiba apenas do segundo ao quarto caractere da variável do tipo string resultante questão imediatamente anterior."
      ]
    },
    {
      "cell_type": "code",
      "execution_count": null,
      "metadata": {
        "id": "1qQLmrNrDXmM",
        "colab": {
          "base_uri": "https://localhost:8080/"
        },
        "outputId": "22786045-ad6b-4723-b21d-c4916b125ccf"
      },
      "outputs": [
        {
          "output_type": "stream",
          "name": "stdout",
          "text": [
            "anan\n"
          ]
        }
      ],
      "source": [
        "# Insira a resposta abaixo.\n",
        "\n",
        "# 0=b 1=a 2=n 3=a 4=n 5=a 6=\" \" 7=v 8=e 9=r 10=d 11=e\n",
        "# o último número é o ponto de parada, não de inclusão\n",
        "print (concatenacao[1:5])"
      ]
    },
    {
      "cell_type": "markdown",
      "metadata": {
        "id": "KsBiozVOxEEF"
      },
      "source": [
        "10 - Exiba a string \"Mensagem: \" seguida pela string armazenada na variável *msg* definida abaixo. Dica: utilize a função format() ou *f-string*."
      ]
    },
    {
      "cell_type": "code",
      "execution_count": null,
      "metadata": {
        "id": "nRqtTDFTxDuL",
        "colab": {
          "base_uri": "https://localhost:8080/"
        },
        "outputId": "44a1a9a0-0ef0-480e-cc5d-2a9a1cd5b5c6"
      },
      "outputs": [
        {
          "output_type": "stream",
          "name": "stdout",
          "text": [
            "Mensagem: This is your first tweet.\n",
            "Mensagem: This is your first tweet.\n"
          ]
        }
      ],
      "source": [
        "msg = \"This is your first tweet.\"\n",
        "# Insira a resposta abaixo.\n",
        "\n",
        "#f-string\n",
        "print (f\"Mensagem: {msg}\")\n",
        "\n",
        "#format()\n",
        "print(\"Mensagem: {}\".format(msg))"
      ]
    },
    {
      "cell_type": "markdown",
      "metadata": {
        "id": "6afUv7-Q8XRT"
      },
      "source": [
        "11  - Reproduza as próximas três mensagens a partir das variáveis definidas na célula de código."
      ]
    },
    {
      "cell_type": "markdown",
      "metadata": {
        "id": "j4__WoXI_XGe"
      },
      "source": [
        "**Mensagem**: Definir uma string com três aspas simples permite construir textos com quebra de linha automática."
      ]
    },
    {
      "cell_type": "code",
      "execution_count": null,
      "metadata": {
        "id": "Iluu-cdN_WSD",
        "colab": {
          "base_uri": "https://localhost:8080/"
        },
        "outputId": "0ba6ddfb-d39a-4f59-8b0c-1238884a98f2"
      },
      "outputs": [
        {
          "output_type": "stream",
          "name": "stdout",
          "text": [
            "Definir uma string com três aspas simples permite construir textos com quebra de linha automática.\n"
          ]
        }
      ],
      "source": [
        "tipo_var = \"string\"\n",
        "qtd = \"três\"\n",
        "# Insira a resposta abaixo.\n",
        "print(f\"Definir uma {tipo_var} com {qtd} aspas simples permite construir textos com quebra de linha automática.\")"
      ]
    },
    {
      "cell_type": "markdown",
      "metadata": {
        "id": "9bj-p6aVAYSF"
      },
      "source": [
        "**Mensagem**:  O número pi é aproximadamente 3.14"
      ]
    },
    {
      "cell_type": "code",
      "execution_count": null,
      "metadata": {
        "id": "cUJ1s40-8UIu",
        "colab": {
          "base_uri": "https://localhost:8080/"
        },
        "outputId": "29711c9b-6a2a-4c98-f9cc-7cbc741d4482"
      },
      "outputs": [
        {
          "output_type": "stream",
          "name": "stdout",
          "text": [
            "O número pi é aproximadamente 3.14\n"
          ]
        }
      ],
      "source": [
        "pi = 3.14159\n",
        "# Insira a resposta abaixo.\n",
        "print(f\"O número pi é aproximadamente {pi:.2f}\")"
      ]
    },
    {
      "cell_type": "markdown",
      "metadata": {
        "id": "pkdZ39rrhx4q"
      },
      "source": [
        "**Mensagem**: O meu nome é [*receber string via input*] e eu tenho [*receber inteiro via input*] anos."
      ]
    },
    {
      "cell_type": "code",
      "execution_count": null,
      "metadata": {
        "id": "8ukjvm0ghyD1",
        "colab": {
          "base_uri": "https://localhost:8080/"
        },
        "outputId": "713943fe-3c2f-4f2e-a085-73146986ab75"
      },
      "outputs": [
        {
          "output_type": "stream",
          "name": "stdout",
          "text": [
            "Insira seu nome aqui: José\n",
            "Insira sua idade aqui: 18\n",
            "O meu nome é José e eu tenho 18 anos.\n"
          ]
        }
      ],
      "source": [
        "# Insira a resposta abaixo.\n",
        "nome = input(\"Insira seu nome aqui: \")\n",
        "idade = int(input(\"Insira sua idade aqui: \"))\n",
        "print(f\"O meu nome é {nome} e eu tenho {idade} anos.\")"
      ]
    },
    {
      "cell_type": "markdown",
      "metadata": {
        "id": "WKfYhv8Cqr4u"
      },
      "source": [
        "## Introduzindo Estruturas de Dados\n",
        "\n",
        "Nessa sessão serão exploradas as estruturas de dados do tipo lista, tupla e dicionário. Para realizar os exercícios abaixos baseados em listas podem ser utilizados métodos como *sum(arg), extend(), reverse(), append(), insert(index, element), sort()*."
      ]
    },
    {
      "cell_type": "markdown",
      "metadata": {
        "id": "jdd5yFSNrljL"
      },
      "source": [
        "### Listas"
      ]
    },
    {
      "cell_type": "markdown",
      "metadata": {
        "id": "NUOrqskrkZdF"
      },
      "source": [
        "12 - Realize as seguintes operações:\n",
        "\n",
        "\n",
        "1. Crie uma lista vazia.\n",
        "2. Adicione três elementos do tipo inteiro ao final da lista (*o método para adição de novos elementos em uma lista atua de forma in-place, portanto, basta invocá-lo.*).\n",
        "3. Adicione um novo elemento na segunda posição da lista (*método in-place).\n",
        "4. Exiba a soma dos quatro elementos (*python já possui uma função built-in para esssa operação*.)\n",
        "5. Re-assinale o elemento da terceiro posição com um valor do tipo float.\n",
        "6. Repita o passo 4.\n",
        "7. Inverta os elementos da lista atual. (*função para inversão é in-place*)\n",
        "8. Re-ordene os elementos da lista.\n",
        "9. Armazene uma nova lista em uma variável qualquer com 2 números inteiros.\n",
        "10. Concatena a nova lista criada com a lista resultante do passo 7.\n",
        "11. Exiba o valor máximo e mínimo da resultante do passo anterior.\n"
      ]
    },
    {
      "cell_type": "code",
      "execution_count": null,
      "metadata": {
        "id": "7-HFpK9RtwHb",
        "colab": {
          "base_uri": "https://localhost:8080/"
        },
        "outputId": "03417901-c198-46e5-9308-37cf623c6050"
      },
      "outputs": [
        {
          "output_type": "stream",
          "name": "stdout",
          "text": [
            "Soma dos elementos: 11\n",
            "Soma atualizada: 34.5\n",
            "Lista invertida: [3, 25.5, 5, 1]\n",
            "Lista ordenada: [1, 3, 5, 25.5]\n",
            "Lista concatenada: [1, 3, 5, 25.5, 10, 20]\n",
            "Valor máximo: 25.5\n",
            "Valor mínimo: 1\n"
          ]
        }
      ],
      "source": [
        "# Insira a resposta abaixo.\n",
        "\n",
        "#1\n",
        "lista = []\n",
        "\n",
        "#2\n",
        "lista.append(1)\n",
        "lista.append(2)\n",
        "lista.append(3)\n",
        "\n",
        "#3\n",
        "lista.insert(1, 5)\n",
        "\n",
        "#4\n",
        "print(\"Soma dos elementos:\", sum(lista))\n",
        "\n",
        "#5\n",
        "lista[2] = 25.5\n",
        "\n",
        "#6\n",
        "print(\"Soma atualizada:\", sum(lista))\n",
        "\n",
        "#7\n",
        "lista.reverse()\n",
        "print(\"Lista invertida:\", lista)\n",
        "\n",
        "#8\n",
        "lista.sort()\n",
        "print(\"Lista ordenada:\", lista)\n",
        "\n",
        "#9\n",
        "nova_lista = [10, 20]\n",
        "\n",
        "#10\n",
        "lista_final = lista + nova_lista\n",
        "print(\"Lista concatenada:\", lista_final)\n",
        "\n",
        "#11\n",
        "print(\"Valor máximo:\", max(lista_final))\n",
        "print(\"Valor mínimo:\", min(lista_final))"
      ]
    },
    {
      "cell_type": "markdown",
      "metadata": {
        "id": "0Z5yLIA2hDW3"
      },
      "source": [
        "13 - Converta a string definida abaixo em uma lista de palavras, armazene a lista em uma variável. Dica: cheque as operações disponíveis para strings."
      ]
    },
    {
      "cell_type": "code",
      "execution_count": null,
      "metadata": {
        "id": "ZBsyU1D7hDfA",
        "colab": {
          "base_uri": "https://localhost:8080/"
        },
        "outputId": "be86a474-ac95-4b26-a3aa-30e18abe2ce4"
      },
      "outputs": [
        {
          "output_type": "stream",
          "name": "stdout",
          "text": [
            "['Formação', 'de', 'Recursos', 'Humanos', 'Qualificados', 'em', 'Inteligência', 'Artificial']\n"
          ]
        }
      ],
      "source": [
        "frase = \"Formação de Recursos Humanos Qualificados em Inteligência Artificial\"\n",
        "# Insira a resposta abaixo.\n",
        "print (frase.split())"
      ]
    },
    {
      "cell_type": "markdown",
      "metadata": {
        "id": "Ty3XskmQl95g"
      },
      "source": [
        "14 - Verifique se a palavra \"Humanos\" está contida na lista de palavras criada anteriormente. Exiba True ou False para indicar a resposta."
      ]
    },
    {
      "cell_type": "code",
      "execution_count": null,
      "metadata": {
        "id": "qHQtRHw7l9_q",
        "colab": {
          "base_uri": "https://localhost:8080/"
        },
        "outputId": "c6ffcbf3-5803-4b6e-f7f7-14fd22844847"
      },
      "outputs": [
        {
          "output_type": "stream",
          "name": "stdout",
          "text": [
            "True\n"
          ]
        }
      ],
      "source": [
        "# Insira a resposta abaixo.\n",
        "for Humanos in lista:\n",
        "  print (True)\n",
        "  break\n",
        "else:\n",
        "  print (False)"
      ]
    },
    {
      "cell_type": "markdown",
      "metadata": {
        "id": "GJVq-7Fzo0Xo"
      },
      "source": [
        "15 - Crie automaticamente uma lista contendo 50 elementos de valor 3 e armazene-a em uma variável. Dica: utilize o operador de multiplicação."
      ]
    },
    {
      "cell_type": "code",
      "execution_count": null,
      "metadata": {
        "id": "dORyLchqo0fE",
        "colab": {
          "base_uri": "https://localhost:8080/"
        },
        "outputId": "bf3e0bef-13e6-4da5-e2fe-46563e18fdca"
      },
      "outputs": [
        {
          "output_type": "stream",
          "name": "stdout",
          "text": [
            "[3, 3, 3, 3, 3, 3, 3, 3, 3, 3, 3, 3, 3, 3, 3, 3, 3, 3, 3, 3, 3, 3, 3, 3, 3, 3, 3, 3, 3, 3, 3, 3, 3, 3, 3, 3, 3, 3, 3, 3, 3, 3, 3, 3, 3, 3, 3, 3, 3, 3]\n"
          ]
        }
      ],
      "source": [
        "# Insira a resposta abaixo.\n",
        "lista = [3] * 50\n",
        "print (lista)"
      ]
    },
    {
      "cell_type": "markdown",
      "metadata": {
        "id": "tjXYlf9drhd-"
      },
      "source": [
        "### Tuplas"
      ]
    },
    {
      "cell_type": "markdown",
      "metadata": {
        "id": "mK1S6LhTx8NT"
      },
      "source": [
        "16 - Converta a lista resultante da primeira questão sobre Listas para uma tupla e exiba o tipo de dados do objeto criado. Após realizar o casting, utilize a indexação para exibir todos os elementos com exceção do primeiro e último."
      ]
    },
    {
      "cell_type": "code",
      "execution_count": null,
      "metadata": {
        "id": "VRRDYbbAx7ti",
        "colab": {
          "base_uri": "https://localhost:8080/"
        },
        "outputId": "c55c8d78-49c7-4cff-d6a1-deb936847570"
      },
      "outputs": [
        {
          "output_type": "stream",
          "name": "stdout",
          "text": [
            "<class 'tuple'>\n",
            "(3, 5, 25.5, 10)\n"
          ]
        }
      ],
      "source": [
        "# Insira a resposta abaixo.\n",
        "tupla = tuple(lista_final)\n",
        "print (type(tupla))\n",
        "\n",
        "# slicing para pegar do segundo elemento até o penúltimo\n",
        "print (tupla[1:-1])"
      ]
    },
    {
      "cell_type": "markdown",
      "metadata": {
        "id": "ItO6S8D2_FlO"
      },
      "source": [
        "17 - Exiba os atributos/métodos disponíveis a partir objetos do tipo lista e tuple utilizados na questão anterior. Dica: utilize a função dir."
      ]
    },
    {
      "cell_type": "code",
      "execution_count": null,
      "metadata": {
        "id": "gQt0x4--twHo",
        "colab": {
          "base_uri": "https://localhost:8080/"
        },
        "outputId": "3a08ff7f-35ab-4777-f81e-dd5af5d4d2a9"
      },
      "outputs": [
        {
          "output_type": "stream",
          "name": "stdout",
          "text": [
            "['__add__', '__class__', '__class_getitem__', '__contains__', '__delattr__', '__delitem__', '__dir__', '__doc__', '__eq__', '__format__', '__ge__', '__getattribute__', '__getitem__', '__getstate__', '__gt__', '__hash__', '__iadd__', '__imul__', '__init__', '__init_subclass__', '__iter__', '__le__', '__len__', '__lt__', '__mul__', '__ne__', '__new__', '__reduce__', '__reduce_ex__', '__repr__', '__reversed__', '__rmul__', '__setattr__', '__setitem__', '__sizeof__', '__str__', '__subclasshook__', 'append', 'clear', 'copy', 'count', 'extend', 'index', 'insert', 'pop', 'remove', 'reverse', 'sort']\n",
            "['__add__', '__class__', '__class_getitem__', '__contains__', '__delattr__', '__dir__', '__doc__', '__eq__', '__format__', '__ge__', '__getattribute__', '__getitem__', '__getnewargs__', '__getstate__', '__gt__', '__hash__', '__init__', '__init_subclass__', '__iter__', '__le__', '__len__', '__lt__', '__mul__', '__ne__', '__new__', '__reduce__', '__reduce_ex__', '__repr__', '__rmul__', '__setattr__', '__sizeof__', '__str__', '__subclasshook__', 'count', 'index']\n"
          ]
        }
      ],
      "source": [
        "# Insira a resposta abaixo.\n",
        "print(dir(lista))\n",
        "\n",
        "print(dir(tupla))"
      ]
    },
    {
      "cell_type": "markdown",
      "metadata": {
        "id": "vl1jgOxQtwHp"
      },
      "source": [
        "18 - Crie uma tupla contendo 5 números inteiros quaisquer. Em seguida, exiba o valor máximo e o valor mínimo da tupla criada."
      ]
    },
    {
      "cell_type": "code",
      "execution_count": null,
      "metadata": {
        "id": "Y8EZf8ZCtwHp",
        "colab": {
          "base_uri": "https://localhost:8080/"
        },
        "outputId": "a919e2a9-fe48-43c0-ca6f-d136f3bf5836"
      },
      "outputs": [
        {
          "output_type": "stream",
          "name": "stdout",
          "text": [
            "Vamor mínimo da Tupla: 10\n",
            "Valor máximo da Tupla: 50\n"
          ]
        }
      ],
      "source": [
        "# Insira a resposta abaixo.\n",
        "nova_tupla = (10, 20, 30, 40, 50)\n",
        "\n",
        "minimo = min(nova_tupla)\n",
        "maximo = max(nova_tupla)\n",
        "\n",
        "print (f\"Vamor mínimo da Tupla: {minimo}\")\n",
        "print (f\"Valor máximo da Tupla: {maximo}\")"
      ]
    },
    {
      "cell_type": "markdown",
      "metadata": {
        "id": "BaCwt9hTrafF"
      },
      "source": [
        "### Dicionários"
      ]
    },
    {
      "cell_type": "markdown",
      "metadata": {
        "id": "lSpj33z39Wej"
      },
      "source": [
        "19 - A partir do dicionário inicializado abaixo com quatro items, adicione três novos items com chaves \"three\", \"four\" e \"five\" e valores \"três\", \"quatro\" e \"cinco\"."
      ]
    },
    {
      "cell_type": "code",
      "execution_count": null,
      "metadata": {
        "id": "3Bomk_PZ9W2g"
      },
      "outputs": [],
      "source": [
        "my_dict = {}\n",
        "my_dict[\"one\"] = \"um\"\n",
        "my_dict[\"two\"] = \"dois\"\n",
        "my_dict[(1,2)] = [\"um\",\"dois\"]\n",
        "my_dict[1.3] = \"um ponto três\"\n",
        "\n",
        "my_dict[\"three\"] = \"três\"\n",
        "my_dict[\"four\"] = \"quatro\"\n",
        "my_dict[\"five\"] = \"cinco\""
      ]
    },
    {
      "cell_type": "markdown",
      "metadata": {
        "id": "KXFvgEp-twHp"
      },
      "source": [
        "20 - A partir do dicionário definido anteriormente, remova o item (\"one\", \"um\") do dicionário."
      ]
    },
    {
      "cell_type": "code",
      "execution_count": null,
      "metadata": {
        "id": "YuuzDIuXtwHq",
        "colab": {
          "base_uri": "https://localhost:8080/"
        },
        "outputId": "92235ab4-e75c-4225-dbc5-500492b1e7b0"
      },
      "outputs": [
        {
          "output_type": "stream",
          "name": "stdout",
          "text": [
            "{'two': 'dois', (1, 2): ['um', 'dois'], 1.3: 'um ponto três', 'three': 'três', 'four': 'quatro', 'five': 'cinco'}\n"
          ]
        }
      ],
      "source": [
        "# Insira a resposta abaixo\n",
        "my_dict.pop(\"one\")\n",
        "\n",
        "print (my_dict)"
      ]
    },
    {
      "cell_type": "markdown",
      "metadata": {
        "id": "Pl1J-LIM9XHl"
      },
      "source": [
        "21 - A partir do dicionário definido anteriormente, realize as seguintes operações ordenadamente.\n",
        "\n",
        "1.   Exiba a quantidade de items do dicionário.\n",
        "2.   Gere automaticamente uma lista contendo as  chaves do dicionário.\n",
        "3.   Gere automaticamente uma lista contendo os valores do dicionário.\n",
        "4.   Gere automaticamente uma lista composta por tuplas do tipo (chave, valor).\n",
        "5.   Remova os items cuja chaves são (1,2) e 1.3.\n",
        "6.   Exiba o dicionário final\n",
        "\n",
        "\n",
        "\n",
        "\n",
        "\n"
      ]
    },
    {
      "cell_type": "code",
      "execution_count": null,
      "metadata": {
        "id": "SJBytyCftwHq",
        "colab": {
          "base_uri": "https://localhost:8080/"
        },
        "outputId": "83d1c406-2a01-42b7-c27a-73a427ec3959"
      },
      "outputs": [
        {
          "output_type": "stream",
          "name": "stdout",
          "text": [
            "O dicionário possui 6 itens\n",
            "Lista de chaves: ['two', (1, 2), 1.3, 'three', 'four', 'five']\n",
            "Lista de valores: ['dois', ['um', 'dois'], 'um ponto três', 'três', 'quatro', 'cinco']\n",
            "lista de tuplas: [('two', 'dois'), ((1, 2), ['um', 'dois']), (1.3, 'um ponto três'), ('three', 'três'), ('four', 'quatro'), ('five', 'cinco')]\n",
            "Dicionário final: {'two': 'dois', 'three': 'três', 'four': 'quatro', 'five': 'cinco'}\n"
          ]
        }
      ],
      "source": [
        "# Insira a resposta abaixo\n",
        "\n",
        "# Passo 1\n",
        "print (f\"O dicionário possui {len(my_dict)} itens\")\n",
        "\n",
        "# Passo 2\n",
        "my_dict_keys = list(my_dict.keys())\n",
        "print (f\"Lista de chaves: {my_dict_keys}\")\n",
        "\n",
        "# Passo 3\n",
        "my_dict_values = list(my_dict.values())\n",
        "print (f\"Lista de valores: {my_dict_values}\")\n",
        "\n",
        "# Passo 4\n",
        "my_dict_items = list(my_dict.items())\n",
        "print (f\"lista de tuplas: {my_dict_items}\")\n",
        "\n",
        "# Passo 5\n",
        "my_dict.pop((1,2))\n",
        "my_dict.pop(1.3)\n",
        "\n",
        "# Passo 6\n",
        "print(\"Dicionário final:\", my_dict)"
      ]
    },
    {
      "cell_type": "markdown",
      "metadata": {
        "id": "iNDUUfFPqNsC"
      },
      "source": [
        "22 - A partir dos dicionários '*en*' e '*pt_br*' definidos abaixo, crie um terceiro dicionário denominado '*translator*' cujas chaves são, respectivamente, 'en' e 'pt_br' e os valores sejam os dicionários correspondentes. Exiba o dicionário criado."
      ]
    },
    {
      "cell_type": "code",
      "execution_count": null,
      "metadata": {
        "id": "iIv7lR8zqNy1",
        "colab": {
          "base_uri": "https://localhost:8080/"
        },
        "outputId": "6eb4b3cb-6df6-4089-b46c-d57e35a3ef2f"
      },
      "outputs": [
        {
          "output_type": "stream",
          "name": "stdout",
          "text": [
            "{'en': {1: 'one', 2: 'two', 3: 'three'}, 'pt_br': {1: 'um', 2: 'dois', 3: 'tres'}}\n"
          ]
        }
      ],
      "source": [
        "pt_br = {1:\"um\", 2:\"dois\", 3:\"tres\"}\n",
        "en = {1:\"one\", 2:\"two\", 3:\"three\"}\n",
        "\n",
        "# Insira a resposta abaixo\n",
        "translator = {'en': en, 'pt_br': pt_br}\n",
        "print (translator)"
      ]
    },
    {
      "cell_type": "markdown",
      "source": [
        "resultado esperado\n",
        "```\n",
        "{ \"pt_br\" : {1:\"um\", 2:\"dois\", 3:\"tres\"}, \"en\" : {1:\"one\", 2:\"two\", 3:\"three\"}}\n",
        "```"
      ],
      "metadata": {
        "id": "-6WFsdAaQQj-"
      }
    },
    {
      "cell_type": "markdown",
      "metadata": {
        "id": "cK-nN01LpxwW"
      },
      "source": [
        "### Estruturas de Decisão"
      ]
    },
    {
      "cell_type": "markdown",
      "metadata": {
        "id": "PDkLty8ayY9p"
      },
      "source": [
        "23 - Utilize estruturas de decisão se-senão para construir um script que simule a árvore de decisão disposta na figura abaixo. Para cada nó da árvore, o usuário deve fornecer um valor a ser armazenado em uma variável e utilizado para verificar o fluxo que deve ser seguido até atingir uma das folha, exibindo algum dos valores \"Opção 1\", \"Opção 2\" ou \"Opção 3\".\n",
        "\n",
        "\n",
        "![alt text](https://docs.google.com/uc?export=download&id=1i5518GVTI9vh3proj3C1dblBXOJtHAvP)"
      ]
    },
    {
      "cell_type": "code",
      "execution_count": null,
      "metadata": {
        "id": "YjVkjZGCyZAi",
        "colab": {
          "base_uri": "https://localhost:8080/"
        },
        "outputId": "a58939ef-0044-4995-abc7-a63624194396"
      },
      "outputs": [
        {
          "output_type": "stream",
          "name": "stdout",
          "text": [
            "x1: 1\n",
            "x2: 1\n",
            "x3: 5\n",
            "Opção 2\n"
          ]
        }
      ],
      "source": [
        "# Insira a resposta abaixo.\n",
        "#NÓ 1\n",
        "x1 = float(input(\"x1: \"))\n",
        "\n",
        "if (x1 > 3.77):\n",
        "  print (\"Opção 1\")\n",
        "else:\n",
        "  #NÓ 2\n",
        "  x2 = float(input(\"x2: \"))\n",
        "  if (x2 > 0.5):\n",
        "    #NÓ 3\n",
        "    x3 = float(input(\"x3: \"))\n",
        "    if (x3 >= 0.78):\n",
        "      print (\"Opção 2\")\n",
        "    else:\n",
        "      print (\"Opção 1\")\n",
        "  else:\n",
        "    #NÓ 4\n",
        "    x4 = float(input(\"x4: \"))\n",
        "    if (x4 > 0.25) and (x4 < 0.5):\n",
        "      print (\"Opção 1\")\n",
        "    elif (x4 == 0.5):\n",
        "      print (\"Opção 3\")\n",
        "    elif (x4 > 0.5) or (x4 <= 0.25):\n",
        "      print (\"Opção 2\")\n"
      ]
    },
    {
      "cell_type": "markdown",
      "metadata": {
        "id": "b-Td-fgNp2HM"
      },
      "source": [
        "### Estruturas de Repetição\n",
        "\n",
        "for (with range), while, list comprehension"
      ]
    },
    {
      "cell_type": "markdown",
      "metadata": {
        "id": "mIhOW0di8iZh"
      },
      "source": [
        "24 - Crie um programa que receba do usuário uma entrada referente a string \"Please, type 'q' to quit\". Enquanto o usuário não digitar o caractere 'q', o programa deve exibir \"Sorry, try again.\" e continuar solicitando a informação. Dica: utilize o comando break para interrupção."
      ]
    },
    {
      "cell_type": "code",
      "execution_count": null,
      "metadata": {
        "id": "BKxPv3BB8ihm",
        "colab": {
          "base_uri": "https://localhost:8080/"
        },
        "outputId": "8652a311-78e1-42e6-c845-f2e709497cdb"
      },
      "outputs": [
        {
          "name": "stdout",
          "output_type": "stream",
          "text": [
            "Please, type 'q' to quit: 6\n",
            "Sorry, try again\n",
            "Please, type 'q' to quit: a\n",
            "Sorry, try again\n",
            "Please, type 'q' to quit: q\n"
          ]
        }
      ],
      "source": [
        "# Insira a resposta abaixo.\n",
        "entrada = \"a\"\n",
        "\n",
        "while entrada != \"q\":\n",
        "  entrada = input(\"Please, type 'q' to quit: \")\n",
        "  if (entrada == \"q\"):\n",
        "    break\n",
        "  else:\n",
        "    print (\"Sorry, try again\")"
      ]
    },
    {
      "cell_type": "markdown",
      "metadata": {
        "id": "nnA67LDY8iqI"
      },
      "source": [
        "25 - Crie um programa que imprima apenas os números ímpares entre 1 e 100."
      ]
    },
    {
      "cell_type": "code",
      "execution_count": null,
      "metadata": {
        "id": "2_x3vAUe8izO",
        "colab": {
          "base_uri": "https://localhost:8080/"
        },
        "outputId": "cc7dd462-bb33-4b27-a520-e4e42f87e24d"
      },
      "outputs": [
        {
          "output_type": "stream",
          "name": "stdout",
          "text": [
            "1\n",
            "3\n",
            "5\n",
            "7\n",
            "9\n",
            "11\n",
            "13\n",
            "15\n",
            "17\n",
            "19\n",
            "21\n",
            "23\n",
            "25\n",
            "27\n",
            "29\n",
            "31\n",
            "33\n",
            "35\n",
            "37\n",
            "39\n",
            "41\n",
            "43\n",
            "45\n",
            "47\n",
            "49\n",
            "51\n",
            "53\n",
            "55\n",
            "57\n",
            "59\n",
            "61\n",
            "63\n",
            "65\n",
            "67\n",
            "69\n",
            "71\n",
            "73\n",
            "75\n",
            "77\n",
            "79\n",
            "81\n",
            "83\n",
            "85\n",
            "87\n",
            "89\n",
            "91\n",
            "93\n",
            "95\n",
            "97\n",
            "99\n"
          ]
        }
      ],
      "source": [
        "# Insira a resposta abaixo.\n",
        "for i in range(101):\n",
        "  if (i % 2) != 0:\n",
        "    print (i)\n"
      ]
    },
    {
      "cell_type": "markdown",
      "metadata": {
        "id": "m0QJ9fIe7rOl"
      },
      "source": [
        "26 - A partir da lista definida abaixo, crie uma nova lista contendo apenas os números negativos. Dica: considere utilizar o modo list comprehension."
      ]
    },
    {
      "cell_type": "code",
      "execution_count": null,
      "metadata": {
        "id": "CHAeZEOw7rWc",
        "colab": {
          "base_uri": "https://localhost:8080/"
        },
        "outputId": "cb403af6-8eb7-4cdc-9251-4051cc7baffd"
      },
      "outputs": [
        {
          "output_type": "execute_result",
          "data": {
            "text/plain": [
              "[-6, -22, -17, -21, -11]"
            ]
          },
          "metadata": {},
          "execution_count": 49
        }
      ],
      "source": [
        "lista = [-6, 21, -22, 4, -17, -21, 22, -11, 3, 28]\n",
        "# Insira a resposta abaixo.\n",
        "lista_neg = [n for n in lista if n < 0]\n",
        "\n",
        "lista_neg\n"
      ]
    },
    {
      "cell_type": "markdown",
      "metadata": {
        "id": "-S18HnsCtKqj"
      },
      "source": [
        "## Funções"
      ]
    },
    {
      "cell_type": "markdown",
      "metadata": {
        "id": "cA_GKn6o46WH"
      },
      "source": [
        "27 - Crie uma função que calcule o fatorial de um número passado como argumento. Caso o número seja negativo, retorne um valor nulo. Caso positivo, retorne o resultado do fatorial. Dica: utilize recursividade e lembre-se de considerar que o fatorial de 0 é 1.\n"
      ]
    },
    {
      "cell_type": "code",
      "execution_count": null,
      "metadata": {
        "id": "_hs1s18U45_P",
        "colab": {
          "base_uri": "https://localhost:8080/"
        },
        "outputId": "59be42b5-ce51-458e-b07d-1fac2da47c97"
      },
      "outputs": [
        {
          "output_type": "stream",
          "name": "stdout",
          "text": [
            "Digite o número: 1\n",
            "1\n"
          ]
        }
      ],
      "source": [
        "# Insira a resposta abaixo\n",
        "numero = int(input(\"Digite o número: \"))\n",
        "\n",
        "def fatorial(n):\n",
        "    if n < 0:\n",
        "      # caso o número seja negativo, retorne um valor nulo\n",
        "        return None\n",
        "    elif n == 0:\n",
        "      # lembre-se de considerar que o fatorial de 0 é 1\n",
        "      return 1\n",
        "    else:\n",
        "      # caso positivo, retorne o resultado do fatorial\n",
        "      return n * fatorial(n - 1)\n",
        "\n",
        "print(fatorial(numero))"
      ]
    },
    {
      "cell_type": "markdown",
      "metadata": {
        "id": "XiVGNaWwEBRl"
      },
      "source": [
        "28 - Define uma função que receba um número arbitrário de argumentos e retorne a sua soma. Exiba o resultado de uma chamada dessa função passando como argumentos números inteiros."
      ]
    },
    {
      "cell_type": "code",
      "execution_count": null,
      "metadata": {
        "id": "0SmmOKbJIw-X",
        "colab": {
          "base_uri": "https://localhost:8080/"
        },
        "outputId": "3fa29fb9-89de-4ace-d165-50b38052d582"
      },
      "outputs": [
        {
          "output_type": "stream",
          "name": "stdout",
          "text": [
            "Insira os valores para somar (separados por espaço): 1 8 0 4 7\n",
            "A soma é: 20\n"
          ]
        }
      ],
      "source": [
        "# Insira a resposta abaixo.\n",
        "\n",
        "def soma(*numeros):\n",
        "    return sum(numeros)\n",
        "\n",
        "valores = input(\"Insira os valores para somar (separados por espaço): \")\n",
        "numeros_str = valores.split()\n",
        "numeros_int = [int(num) for num in numeros_str]\n",
        "resultado = soma(*numeros_int)\n",
        "\n",
        "print(\"A soma é:\", resultado)"
      ]
    },
    {
      "cell_type": "markdown",
      "metadata": {
        "id": "vbGhkdcjp5cm"
      },
      "source": [
        "### Funções Especiais\n",
        "\n",
        "Nessa sessão serão explorados exercícios baseados em funções especiais do Python, tais como range, lambda, map, filter, enumerate e zip."
      ]
    },
    {
      "cell_type": "markdown",
      "metadata": {
        "id": "wHkgbW1ICOp_"
      },
      "source": [
        "29 - Utilize a função *range* para criar uma lista de números inteiros que vai de 100 a -100, seguindo uma ordem decrescente e com intervalos de duas unidades. Exiba a lista gerada."
      ]
    },
    {
      "cell_type": "code",
      "execution_count": null,
      "metadata": {
        "id": "s01McQtz1Szd",
        "colab": {
          "base_uri": "https://localhost:8080/"
        },
        "outputId": "a8789f8e-ace8-49eb-a1ec-e402ae699c08"
      },
      "outputs": [
        {
          "output_type": "stream",
          "name": "stdout",
          "text": [
            "-100\n",
            "-98\n",
            "-96\n",
            "-94\n",
            "-92\n",
            "-90\n",
            "-88\n",
            "-86\n",
            "-84\n",
            "-82\n",
            "-80\n",
            "-78\n",
            "-76\n",
            "-74\n",
            "-72\n",
            "-70\n",
            "-68\n",
            "-66\n",
            "-64\n",
            "-62\n",
            "-60\n",
            "-58\n",
            "-56\n",
            "-54\n",
            "-52\n",
            "-50\n",
            "-48\n",
            "-46\n",
            "-44\n",
            "-42\n",
            "-40\n",
            "-38\n",
            "-36\n",
            "-34\n",
            "-32\n",
            "-30\n",
            "-28\n",
            "-26\n",
            "-24\n",
            "-22\n",
            "-20\n",
            "-18\n",
            "-16\n",
            "-14\n",
            "-12\n",
            "-10\n",
            "-8\n",
            "-6\n",
            "-4\n",
            "-2\n",
            "0\n",
            "2\n",
            "4\n",
            "6\n",
            "8\n",
            "10\n",
            "12\n",
            "14\n",
            "16\n",
            "18\n",
            "20\n",
            "22\n",
            "24\n",
            "26\n",
            "28\n",
            "30\n",
            "32\n",
            "34\n",
            "36\n",
            "38\n",
            "40\n",
            "42\n",
            "44\n",
            "46\n",
            "48\n",
            "50\n",
            "52\n",
            "54\n",
            "56\n",
            "58\n",
            "60\n",
            "62\n",
            "64\n",
            "66\n",
            "68\n",
            "70\n",
            "72\n",
            "74\n",
            "76\n",
            "78\n",
            "80\n",
            "82\n",
            "84\n",
            "86\n",
            "88\n",
            "90\n",
            "92\n",
            "94\n",
            "96\n",
            "98\n",
            "100\n"
          ]
        }
      ],
      "source": [
        "# Insira a resposta abaixo.\n",
        "for i in range(-100, 101, 2):\n",
        "  print (i)\n"
      ]
    },
    {
      "cell_type": "markdown",
      "metadata": {
        "id": "qh2Wc1d5_r4S"
      },
      "source": [
        "30 - Uma pesquisa de satisfação dos empregados de uma determinada empresa reuniu dados referente a um questionário no qual foi computado o nível de satisfação do empregado em relação ao salário recebido. Os valores salariais estão armazenados na variávei 'salarios' e pontuação do questionário está armazenada na variável 'satisfacao_empregado'. Realize os seguintes procedimentos.\n",
        "\n",
        "1. A partir da lista satisfacao_empregados, gere uma nova lista com valores normalizados entre 0 e 1.  Fórmula para normalização: $ \\frac{x_i - x_{min}}{x_{max} - x_{min}} $\n",
        "2. Crie a seguinte função: $ f(x) = 0.0004x -0.4 $. A função recebe como entrada um unico número inteiro. Use lambda para definir essa função.\n",
        "3. Utilize a função criada no passo anterior para criar uma nova lista a partir da lista '*salarios*'. Armazene-a em uma variável denominada '*satisfacao_estimada*'.\n",
        "4. Crie uma função que receba como entrada duas listas e compute $ \\frac{1}{n}\\sum_{i=0}^{n}(a_i - b_i)^2 $. Assuma que $n$ seja o número de elementos de qualquer uma das listas e $a$ e $b$ correspondam a valores das listas em uma mesma posição $i$.\n",
        "\n",
        "Dica: considere utilizar a função map e a função anônima lambda para os procedimentos simples como, por exemplo, dos passos 1 ao 3."
      ]
    },
    {
      "cell_type": "code",
      "execution_count": null,
      "metadata": {
        "id": "MoGWCkce_r_6",
        "colab": {
          "base_uri": "https://localhost:8080/"
        },
        "outputId": "07212fd3-335e-4810-f7a5-f7c52d9c887f"
      },
      "outputs": [
        {
          "output_type": "stream",
          "name": "stdout",
          "text": [
            "2.5679065925163142e-33\n"
          ]
        }
      ],
      "source": [
        "# Insira a resposta abaixo.\n",
        "salarios = [1000, 1500, 2000, 2500, 3000, 3500]\n",
        "satisfacao_empregados = [40, 50, 60, 70, 80, 90]\n",
        "\n",
        "# Insira abaixo a funcao para normalizar a lista satisfacao_empregados\n",
        "normalizar = lambda lista: list(map(lambda x: (x - min(lista)) / (max(lista) - min(lista)), lista))\n",
        "satisfacao_empregados_normalizado = normalizar(satisfacao_empregados)\n",
        "\n",
        "# Insira abaixo a funcao para calcular a satisfacao\n",
        "f = lambda x: 0.0004 * x - 0.4\n",
        "\n",
        "# passo 3\n",
        "satisfacao_estimada = list(map(f, salarios))\n",
        "\n",
        "# Insira a funcao para calcular o erro quadratico minimo\n",
        "erro_medio = lambda a, b: (1 / len(a)) * sum(map(lambda x, y: (x - y) ** 2, a, b))\n",
        "\n",
        "\n",
        "print(erro_medio(satisfacao_empregados_normalizado, satisfacao_estimada))"
      ]
    },
    {
      "cell_type": "markdown",
      "metadata": {
        "id": "UxrISLw--kIE"
      },
      "source": [
        "31 - A partir da lista definida abaixo, filtre-a de forma que somente as palavras com menos de 3 caracteres sejam mantidas. Dica: utilize a função filter."
      ]
    },
    {
      "cell_type": "code",
      "execution_count": null,
      "metadata": {
        "id": "onMCh04A-kQF",
        "colab": {
          "base_uri": "https://localhost:8080/"
        },
        "outputId": "2f73b4c9-3c55-47df-f669-5c0c1f69620e"
      },
      "outputs": [
        {
          "output_type": "execute_result",
          "data": {
            "text/plain": [
              "['a.', 'mi', 'eu', 'Ut', 'ut', 'a', 'at', 'in', 'et', 'ac']"
            ]
          },
          "metadata": {},
          "execution_count": 3
        }
      ],
      "source": [
        "lista = ['tempor', 'erat,', 'in,', 'elit', 'Etiam', 'tincidunt.', 'rutrum', 'ut,', 'lacinia', 'Integer', 'Nam', 'turpis', 'Nulla', 'non.', 'vehicula', 'diam', 'porttitor', 'blandit', 'Sed', 'pharetra', 'erat', 'hendrerit', 'tristique', 'vulputate', 'faucibus.', 'augue.', 'potenti.', 'vel', 'eros', 'imperdiet,', 'a.', 'dolor.', 'pretium', 'Fusce', 'sit', 'ornare', 'Morbi', 'quis', 'fringilla', 'lobortis', 'tempus', 'mauris', 'ante,', 'lacus', 'porta.', 'faucibus,', 'quis.', 'vestibulum', 'primis', 'luctus,', 'ullamcorper.', 'augue', 'nec', 'mollis', 'lectus', 'dolor', 'sodales', 'ligula,', 'dignissim', 'sem', 'varius', 'mi', 'eu', 'elit.', 'semper', 'id,', 'tempus.', 'finibus.', 'neque', 'quam.', 'scelerisque', 'lorem', 'diam,', 'Cras', 'nisi', 'Lorem', 'leo,', 'Ut', 'ut', 'feugiat.', 'ante', 'venenatis', 'fermentum', 'congue', 'urna', 'Praesent', 'Donec', 'Vestibulum', 'purus.', 'Nullam', 'tincidunt', 'efficitur', 'velit', 'commodo.', 'iaculis', 'sed,', 'volutpat', 'amet', 'mauris.', 'odio', 'a', 'Interdum', 'neque.', 'risus', 'vitae', 'consectetur', 'adipiscing', 'at', 'Aliquam', 'molestie', 'euismod', 'odio.', 'sed', 'in', 'suscipit', 'augue,', 'sapien', 'posuere', 'euismod,', 'ipsum', 'et.', 'maximus.', 'risus,', 'Suspendisse', 'et', 'facilisis', 'elementum', 'efficitur,', 'ac', 'nulla.', 'quam', 'arcu', 'fames', 'Nunc', 'pharetra,', 'laoreet', 'ligula', 'fermentum,', 'auctor', 'tortor,', 'Curabitur', 'eget', 'finibus', 'ultrices', 'malesuada', 'purus', 'congue,', 'amet,', 'fermentum.', 'dui']\n",
        "\n",
        "# Insira a resposta abaixo.\n",
        "list(filter(lambda palavra: len(palavra) < 3, lista))\n"
      ]
    },
    {
      "cell_type": "markdown",
      "metadata": {
        "id": "Mvu_3JcQ0JZj"
      },
      "source": [
        "32 - A partir da lista definida abaixo, gere automaticamente e exiba um dicionário enumerado do tipo:\n",
        "\n",
        "```\n",
        "dicionario = {0: 'Preprocessing', 1: 'Feature Extraction', 2: 'Feature Selection' ...}\n",
        "\n",
        "```\n",
        "\n",
        "Em seguida, gere a seguinte saída:\n",
        "\n",
        "Step 1 - Preprocessing\n",
        "\n",
        "Step 2 - Feature Extraction\n",
        "\n",
        "Step 3 - Feature Selection\n",
        "\n",
        "Step 4 - Classification\n",
        "\n",
        "Step 5 - Post Processing"
      ]
    },
    {
      "cell_type": "code",
      "execution_count": null,
      "metadata": {
        "id": "jNIHsLKw0Jhm",
        "colab": {
          "base_uri": "https://localhost:8080/"
        },
        "outputId": "32bd4b53-15a6-4e06-93f2-89ab51e92734"
      },
      "outputs": [
        {
          "output_type": "stream",
          "name": "stdout",
          "text": [
            "{0: 'Preprocessing', 1: 'Feature Extraction', 2: 'Feature Selection', 3: 'Classification', 4: 'Post Processing'}\n",
            "Step 1 - Preprocessing\n",
            "Step 2 - Feature Extraction\n",
            "Step 3 - Feature Selection\n",
            "Step 4 - Classification\n",
            "Step 5 - Post Processing\n"
          ]
        }
      ],
      "source": [
        "lst = [\"Preprocessing\", \"Feature Extraction\", \"Feature Selection\", \"Classification\", \"Post Processing\"]\n",
        "\n",
        "# Insira a resposta abaixo.\n",
        "dict = {0: lst[0], 1: lst[1], 2: lst[2], 3: lst[3], 4: lst[4]}\n",
        "\n",
        "print (dict)\n",
        "\n",
        "print (f\"Step 1 - {dict[0]}\")\n",
        "print (f\"Step 2 - {dict[1]}\")\n",
        "print (f\"Step 3 - {dict[2]}\")\n",
        "print (f\"Step 4 - {dict[3]}\")\n",
        "print (f\"Step 5 - {dict[4]}\")"
      ]
    },
    {
      "cell_type": "markdown",
      "metadata": {
        "id": "wb6C_-EszkKA"
      },
      "source": [
        "33 - Realize os seguintes procedimentos:\n",
        "1. Crie uma lista de números inteiros de 1 a 4 com incremento de 1 em 1.\n",
        "2. Crie uma lista contendo quatro strings.\n",
        "3. Utilize uma única estrutura de repetição do tipo *for* para iterar paralelamente sobre os quatro elementos de cada uma das duas listas. Exiba os elementos."
      ]
    },
    {
      "cell_type": "code",
      "execution_count": null,
      "metadata": {
        "id": "2bEJ3OYmzkQy",
        "colab": {
          "base_uri": "https://localhost:8080/"
        },
        "outputId": "f3d8fffa-ac38-4725-b128-e1436fa064ba"
      },
      "outputs": [
        {
          "output_type": "stream",
          "name": "stdout",
          "text": [
            "1 um\n",
            "2 dois\n",
            "3 três\n",
            "4 quatro\n"
          ]
        }
      ],
      "source": [
        "# Insira o código abaixo.\n",
        "numeros = list(range(1, 5, 1))\n",
        "\n",
        "palavras = [\"um\", \"dois\", \"três\", \"quatro\"]\n",
        "\n",
        "# zip une duas ou mais listas em pares correspondentes\n",
        "for numero, palavra in zip(numeros, palavras):\n",
        "    print (numero, palavra)"
      ]
    }
  ],
  "metadata": {
    "colab": {
      "provenance": [],
      "include_colab_link": true
    },
    "kernelspec": {
      "display_name": "Python 3",
      "language": "python",
      "name": "python3"
    },
    "language_info": {
      "codemirror_mode": {
        "name": "ipython",
        "version": 3
      },
      "file_extension": ".py",
      "mimetype": "text/x-python",
      "name": "python",
      "nbconvert_exporter": "python",
      "pygments_lexer": "ipython3",
      "version": "3.6.4"
    }
  },
  "nbformat": 4,
  "nbformat_minor": 0
}