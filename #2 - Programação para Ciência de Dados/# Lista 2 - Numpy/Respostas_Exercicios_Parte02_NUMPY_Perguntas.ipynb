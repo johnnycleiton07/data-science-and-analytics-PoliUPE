{
  "cells": [
    {
      "cell_type": "markdown",
      "metadata": {
        "id": "VGz5Hi19AHfe"
      },
      "source": [
        "### Numpy"
      ]
    },
    {
      "cell_type": "markdown",
      "source": [
        "## Equipe\n",
        "\n",
        "* Johnny Cleiton\n",
        "* Joss Timoteo\n",
        "* Raphael Feitosa"
      ],
      "metadata": {
        "id": "0qvhv6T9K_qQ"
      }
    },
    {
      "cell_type": "markdown",
      "metadata": {
        "id": "jOgJ673PAVe9"
      },
      "source": [
        "1 - Utilize o método `numpy.info` para obter informações do método `numpy.add`."
      ]
    },
    {
      "cell_type": "code",
      "execution_count": 1,
      "metadata": {
        "id": "dd9qnc_KAFDd",
        "colab": {
          "base_uri": "https://localhost:8080/"
        },
        "outputId": "1bb5ccab-1771-444c-9a59-d5c26047580d"
      },
      "outputs": [
        {
          "output_type": "stream",
          "name": "stdout",
          "text": [
            "add(x1, x2, /, out=None, *, where=True, casting='same_kind', order='K', dtype=None, subok=True[, signature])\n",
            "\n",
            "Add arguments element-wise.\n",
            "\n",
            "Parameters\n",
            "----------\n",
            "x1, x2 : array_like\n",
            "    The arrays to be added.\n",
            "    If ``x1.shape != x2.shape``, they must be broadcastable to a common\n",
            "    shape (which becomes the shape of the output).\n",
            "out : ndarray, None, or tuple of ndarray and None, optional\n",
            "    A location into which the result is stored. If provided, it must have\n",
            "    a shape that the inputs broadcast to. If not provided or None,\n",
            "    a freshly-allocated array is returned. A tuple (possible only as a\n",
            "    keyword argument) must have length equal to the number of outputs.\n",
            "where : array_like, optional\n",
            "    This condition is broadcast over the input. At locations where the\n",
            "    condition is True, the `out` array will be set to the ufunc result.\n",
            "    Elsewhere, the `out` array will retain its original value.\n",
            "    Note that if an uninitialized `out` array is created via the default\n",
            "    ``out=None``, locations within it where the condition is False will\n",
            "    remain uninitialized.\n",
            "**kwargs\n",
            "    For other keyword-only arguments, see the\n",
            "    :ref:`ufunc docs <ufuncs.kwargs>`.\n",
            "\n",
            "Returns\n",
            "-------\n",
            "add : ndarray or scalar\n",
            "    The sum of `x1` and `x2`, element-wise.\n",
            "    This is a scalar if both `x1` and `x2` are scalars.\n",
            "\n",
            "Notes\n",
            "-----\n",
            "Equivalent to `x1` + `x2` in terms of array broadcasting.\n",
            "\n",
            "Examples\n",
            "--------\n",
            ">>> np.add(1.0, 4.0)\n",
            "5.0\n",
            ">>> x1 = np.arange(9.0).reshape((3, 3))\n",
            ">>> x2 = np.arange(3.0)\n",
            ">>> np.add(x1, x2)\n",
            "array([[  0.,   2.,   4.],\n",
            "       [  3.,   5.,   7.],\n",
            "       [  6.,   8.,  10.]])\n",
            "\n",
            "The ``+`` operator can be used as a shorthand for ``np.add`` on ndarrays.\n",
            "\n",
            ">>> x1 = np.arange(9.0).reshape((3, 3))\n",
            ">>> x2 = np.arange(3.0)\n",
            ">>> x1 + x2\n",
            "array([[ 0.,  2.,  4.],\n",
            "       [ 3.,  5.,  7.],\n",
            "       [ 6.,  8., 10.]])\n"
          ]
        }
      ],
      "source": [
        "# Insira a resposta abaixo.\n",
        "# o método numpy.info se comporta como o help()\n",
        "import numpy as np\n",
        "\n",
        "np.info(np.add)"
      ]
    },
    {
      "cell_type": "markdown",
      "metadata": {
        "id": "Q5efGWHZh56U"
      },
      "source": [
        "2 - Utilize a função *range* do python para criar automaticamente uma lista de números variando de 0 até 15."
      ]
    },
    {
      "cell_type": "code",
      "execution_count": 6,
      "metadata": {
        "id": "GVsgl1nch5SO",
        "colab": {
          "base_uri": "https://localhost:8080/"
        },
        "outputId": "a690f5ce-2dc3-4d27-bd7e-bd95d16a6ffc"
      },
      "outputs": [
        {
          "output_type": "stream",
          "name": "stdout",
          "text": [
            "[0, 1, 2, 3, 4, 5, 6, 7, 8, 9, 10, 11, 12, 13, 14, 15]\n"
          ]
        }
      ],
      "source": [
        "# Insira a resposta abaixo.\n",
        "lista = list(range(0, 16))\n",
        "print (lista)"
      ]
    },
    {
      "cell_type": "markdown",
      "metadata": {
        "id": "dy8uX84YkCEl"
      },
      "source": [
        "3 - Converta a lista criada para um objeto do tipo numpy array."
      ]
    },
    {
      "cell_type": "code",
      "execution_count": 7,
      "metadata": {
        "id": "NlFDOAPykCLL",
        "colab": {
          "base_uri": "https://localhost:8080/"
        },
        "outputId": "53cc7cc7-4eb0-4893-db90-3bf8a06a0815"
      },
      "outputs": [
        {
          "output_type": "stream",
          "name": "stdout",
          "text": [
            "[ 0  1  2  3  4  5  6  7  8  9 10 11 12 13 14 15]\n"
          ]
        }
      ],
      "source": [
        "# Insira a resposta abaixo.\n",
        "array = np.array(lista)\n",
        "print (array)"
      ]
    },
    {
      "cell_type": "markdown",
      "metadata": {
        "id": "FcO_NxsCvyeU"
      },
      "source": [
        "4 - Crie um  novo array equivalente ao anterior utilizando diretamente os recursos do numpy."
      ]
    },
    {
      "cell_type": "code",
      "execution_count": 8,
      "metadata": {
        "id": "c7_sWaDCvzE4",
        "colab": {
          "base_uri": "https://localhost:8080/"
        },
        "outputId": "0d648e24-b135-44d0-b0cb-4d679357ae6d"
      },
      "outputs": [
        {
          "output_type": "stream",
          "name": "stdout",
          "text": [
            "[ 0  1  2  3  4  5  6  7  8  9 10 11 12 13 14 15]\n"
          ]
        }
      ],
      "source": [
        "# Insira a resposta abaixo.\n",
        "array = np.arange(0, 16)\n",
        "print (array)"
      ]
    },
    {
      "cell_type": "markdown",
      "metadata": {
        "id": "2ziDHfRniNJO"
      },
      "source": [
        "5 - A partir do último array utilizado anteriormente, realize os seguintes procedimentos:\n",
        "\n",
        "1. Exiba o formato atual do array.\n",
        "2. Altere o formato para (4, 4).\n",
        "3. Exiba novamente o formato do array após redimensioná-lo."
      ]
    },
    {
      "cell_type": "code",
      "execution_count": 9,
      "metadata": {
        "id": "XwO6gC8HiNP-",
        "colab": {
          "base_uri": "https://localhost:8080/"
        },
        "outputId": "da6f2aeb-5e59-42d0-dacb-9103ae0fce29"
      },
      "outputs": [
        {
          "output_type": "stream",
          "name": "stdout",
          "text": [
            "Formato original: (16,)\n",
            "Novo formato: (4, 4)\n",
            "[[ 0  1  2  3]\n",
            " [ 4  5  6  7]\n",
            " [ 8  9 10 11]\n",
            " [12 13 14 15]]\n"
          ]
        }
      ],
      "source": [
        "# Insira a resposta abaixo.\n",
        "\n",
        "# Passo 1\n",
        "print (\"Formato original:\", array.shape)\n",
        "\n",
        "# Passo 2\n",
        "array = array.reshape(4, 4)\n",
        "\n",
        "# Passo 3\n",
        "print (\"Novo formato:\", array.shape)\n",
        "print (array)"
      ]
    },
    {
      "cell_type": "markdown",
      "metadata": {
        "id": "0nPZclb0iM5g"
      },
      "source": [
        "6 - Compute a média, mediana e o desvio padrão do array resultante da questão anterior."
      ]
    },
    {
      "cell_type": "code",
      "execution_count": 11,
      "metadata": {
        "id": "FU6RU4zdiNAH",
        "colab": {
          "base_uri": "https://localhost:8080/"
        },
        "outputId": "2521bb3c-00d3-4f19-c00d-d54bd35e44e7"
      },
      "outputs": [
        {
          "output_type": "stream",
          "name": "stdout",
          "text": [
            "Média: 7.5\n",
            "Mediana: 7.5\n",
            "Desvio padrão: 4.6097722286464435\n"
          ]
        }
      ],
      "source": [
        "# Insira a resposta abaixo.\n",
        "media = np.mean(array)\n",
        "mediana = np.median(array)\n",
        "desvio_padrao = np.std(array)\n",
        "\n",
        "print (\"Média:\", media)\n",
        "print (\"Mediana:\", mediana)\n",
        "print (\"Desvio padrão:\", desvio_padrao)"
      ]
    },
    {
      "cell_type": "markdown",
      "metadata": {
        "id": "qAoocu6Gpe2e"
      },
      "source": [
        "7 - Crie uma cópia do array atual  e transforme todos os números em valores negativos."
      ]
    },
    {
      "cell_type": "code",
      "execution_count": 13,
      "metadata": {
        "id": "-8nm9e13pe9L",
        "colab": {
          "base_uri": "https://localhost:8080/"
        },
        "outputId": "e5433439-6f8e-4be7-ee27-a3d149f1b1c0"
      },
      "outputs": [
        {
          "output_type": "stream",
          "name": "stdout",
          "text": [
            "[[  0  -1  -2  -3]\n",
            " [ -4  -5  -6  -7]\n",
            " [ -8  -9 -10 -11]\n",
            " [-12 -13 -14 -15]]\n"
          ]
        }
      ],
      "source": [
        "# Insira a resposta abaixo.\n",
        "\n",
        "# cria uma cópia do array\n",
        "array_negativo = array.copy()\n",
        "\n",
        "# transforma todos os valores em negativos\n",
        "array_negativo = -array_negativo\n",
        "\n",
        "print (array_negativo)"
      ]
    },
    {
      "cell_type": "markdown",
      "source": [
        "8 - Realize os seguintes procedimentos:\n",
        "\n",
        "1. Concatene verticalmente (*row-wise*) o array de números positivos com o array de números negativos.\n",
        "\n",
        "2. Concatene horizontalmente (*column-wise*) o array resultante do passo 1 com ele mesmo.\n",
        "\n",
        "3. Concatene em profundidade três cópias do array resultante do passo anterior, exibindo o formato final.\n",
        "\n",
        "Como fazer?\n",
        "\n",
        "> Analise a documentação das funções `stack`, `hstack` e `dstack` da biblioteca numpy."
      ],
      "metadata": {
        "id": "f5b2e420"
      }
    },
    {
      "cell_type": "code",
      "source": [
        "# Passo 1 - Concatenação vertical (row-wise)\n",
        "array_positivo = array\n",
        "\n",
        "array_vertical = np.vstack((array_positivo, array_negativo))\n",
        "print (\"Vertical (8x4):\\n\", array_vertical)"
      ],
      "metadata": {
        "colab": {
          "base_uri": "https://localhost:8080/"
        },
        "id": "b-TTybxA92aC",
        "outputId": "deb73d8d-1084-4cfa-f383-650678dfa54c"
      },
      "execution_count": 19,
      "outputs": [
        {
          "output_type": "stream",
          "name": "stdout",
          "text": [
            "Vertical (8x4):\n",
            " [[  0   1   2   3]\n",
            " [  4   5   6   7]\n",
            " [  8   9  10  11]\n",
            " [ 12  13  14  15]\n",
            " [  0  -1  -2  -3]\n",
            " [ -4  -5  -6  -7]\n",
            " [ -8  -9 -10 -11]\n",
            " [-12 -13 -14 -15]]\n"
          ]
        }
      ]
    },
    {
      "cell_type": "code",
      "source": [
        "# Passo 2 - Concatenação horizontal (column-wise)\n",
        "array_horizontal = np.hstack((array_vertical, array_vertical))\n",
        "print (\"Horizontal (8x8):\\n\", array_horizontal)"
      ],
      "metadata": {
        "colab": {
          "base_uri": "https://localhost:8080/"
        },
        "id": "3hOcE8Xk-yjT",
        "outputId": "3fe1a1a4-9b7c-48dc-8190-caf9b86bd677"
      },
      "execution_count": 20,
      "outputs": [
        {
          "output_type": "stream",
          "name": "stdout",
          "text": [
            "Horizontal (8x8):\n",
            " [[  0   1   2   3   0   1   2   3]\n",
            " [  4   5   6   7   4   5   6   7]\n",
            " [  8   9  10  11   8   9  10  11]\n",
            " [ 12  13  14  15  12  13  14  15]\n",
            " [  0  -1  -2  -3   0  -1  -2  -3]\n",
            " [ -4  -5  -6  -7  -4  -5  -6  -7]\n",
            " [ -8  -9 -10 -11  -8  -9 -10 -11]\n",
            " [-12 -13 -14 -15 -12 -13 -14 -15]]\n"
          ]
        }
      ]
    },
    {
      "cell_type": "code",
      "source": [
        "# Passo 3 - Concatenação em profundidade (depth-wise)\n",
        "array_profundidade = np.dstack((array_horizontal, array_horizontal, array_horizontal))\n",
        "print (\"Profundidade (8x8x3):\\n\", array_profundidade)\n",
        "print (\"Formato final:\", array_profundidade.shape)"
      ],
      "metadata": {
        "colab": {
          "base_uri": "https://localhost:8080/"
        },
        "id": "jw_esq3G_867",
        "outputId": "5be13c14-b421-4206-f746-a635847ad784"
      },
      "execution_count": 21,
      "outputs": [
        {
          "output_type": "stream",
          "name": "stdout",
          "text": [
            "Profundidade (8x8x3):\n",
            " [[[  0   0   0]\n",
            "  [  1   1   1]\n",
            "  [  2   2   2]\n",
            "  [  3   3   3]\n",
            "  [  0   0   0]\n",
            "  [  1   1   1]\n",
            "  [  2   2   2]\n",
            "  [  3   3   3]]\n",
            "\n",
            " [[  4   4   4]\n",
            "  [  5   5   5]\n",
            "  [  6   6   6]\n",
            "  [  7   7   7]\n",
            "  [  4   4   4]\n",
            "  [  5   5   5]\n",
            "  [  6   6   6]\n",
            "  [  7   7   7]]\n",
            "\n",
            " [[  8   8   8]\n",
            "  [  9   9   9]\n",
            "  [ 10  10  10]\n",
            "  [ 11  11  11]\n",
            "  [  8   8   8]\n",
            "  [  9   9   9]\n",
            "  [ 10  10  10]\n",
            "  [ 11  11  11]]\n",
            "\n",
            " [[ 12  12  12]\n",
            "  [ 13  13  13]\n",
            "  [ 14  14  14]\n",
            "  [ 15  15  15]\n",
            "  [ 12  12  12]\n",
            "  [ 13  13  13]\n",
            "  [ 14  14  14]\n",
            "  [ 15  15  15]]\n",
            "\n",
            " [[  0   0   0]\n",
            "  [ -1  -1  -1]\n",
            "  [ -2  -2  -2]\n",
            "  [ -3  -3  -3]\n",
            "  [  0   0   0]\n",
            "  [ -1  -1  -1]\n",
            "  [ -2  -2  -2]\n",
            "  [ -3  -3  -3]]\n",
            "\n",
            " [[ -4  -4  -4]\n",
            "  [ -5  -5  -5]\n",
            "  [ -6  -6  -6]\n",
            "  [ -7  -7  -7]\n",
            "  [ -4  -4  -4]\n",
            "  [ -5  -5  -5]\n",
            "  [ -6  -6  -6]\n",
            "  [ -7  -7  -7]]\n",
            "\n",
            " [[ -8  -8  -8]\n",
            "  [ -9  -9  -9]\n",
            "  [-10 -10 -10]\n",
            "  [-11 -11 -11]\n",
            "  [ -8  -8  -8]\n",
            "  [ -9  -9  -9]\n",
            "  [-10 -10 -10]\n",
            "  [-11 -11 -11]]\n",
            "\n",
            " [[-12 -12 -12]\n",
            "  [-13 -13 -13]\n",
            "  [-14 -14 -14]\n",
            "  [-15 -15 -15]\n",
            "  [-12 -12 -12]\n",
            "  [-13 -13 -13]\n",
            "  [-14 -14 -14]\n",
            "  [-15 -15 -15]]]\n",
            "Formato final: (8, 8, 3)\n"
          ]
        }
      ]
    },
    {
      "cell_type": "markdown",
      "metadata": {
        "id": "EqJGutyuqOQP"
      },
      "source": [
        "9 - Utilize o array do passo 1 da questão anterior e transforme os valores da segunda e terceira colunas em 1."
      ]
    },
    {
      "cell_type": "code",
      "execution_count": 23,
      "metadata": {
        "id": "TqhdooB0qOXv",
        "colab": {
          "base_uri": "https://localhost:8080/"
        },
        "outputId": "f2662179-0b0e-4cdb-8db2-9ea637890013"
      },
      "outputs": [
        {
          "output_type": "stream",
          "name": "stdout",
          "text": [
            "[[  0   1   1   3]\n",
            " [  4   1   1   7]\n",
            " [  8   1   1  11]\n",
            " [ 12   1   1  15]\n",
            " [  0   1   1  -3]\n",
            " [ -4   1   1  -7]\n",
            " [ -8   1   1 -11]\n",
            " [-12   1   1 -15]]\n"
          ]
        }
      ],
      "source": [
        "# Insira a resposta abaixo.\n",
        "\n",
        "# transformar a 2ª e 3ª colunas em 1\n",
        "array_vertical[:, 1:3] = 1\n",
        "\n",
        "print (array_vertical)"
      ]
    },
    {
      "cell_type": "markdown",
      "metadata": {
        "id": "f0MyTxFXroNr"
      },
      "source": [
        "10 - Adicione 2.5 a todos os valores presentes no array resultante da etapa anterior."
      ]
    },
    {
      "cell_type": "code",
      "execution_count": 25,
      "metadata": {
        "id": "kgfy9kHEroVi",
        "colab": {
          "base_uri": "https://localhost:8080/"
        },
        "outputId": "fe1fea72-2762-4f0d-e186-738fa5780ccf"
      },
      "outputs": [
        {
          "output_type": "stream",
          "name": "stdout",
          "text": [
            "[[  2.5   3.5   3.5   5.5]\n",
            " [  6.5   3.5   3.5   9.5]\n",
            " [ 10.5   3.5   3.5  13.5]\n",
            " [ 14.5   3.5   3.5  17.5]\n",
            " [  2.5   3.5   3.5  -0.5]\n",
            " [ -1.5   3.5   3.5  -4.5]\n",
            " [ -5.5   3.5   3.5  -8.5]\n",
            " [ -9.5   3.5   3.5 -12.5]]\n"
          ]
        }
      ],
      "source": [
        "# Insira a resposta abaixo.\n",
        "array_soma = array_vertical + 2.5\n",
        "\n",
        "print (array_soma)"
      ]
    },
    {
      "cell_type": "markdown",
      "metadata": {
        "id": "zyQGpUvQiNW-"
      },
      "source": [
        "11 - Realize as seguintes operações:\n",
        "1. Crie uma matriz com valor 3 em todas as posições com dimensionalidade (4, 2).\n",
        "2. Crie uma matriz identidade de dimensionalidade (4, 4).\n",
        "3. Compute o produto entre a transposta da primeira matriz e a matriz identidade, apresentando o resultado final."
      ]
    },
    {
      "cell_type": "code",
      "execution_count": 32,
      "metadata": {
        "id": "ncBYLgsSiNdm",
        "colab": {
          "base_uri": "https://localhost:8080/"
        },
        "outputId": "a6ecb99a-546d-4d6c-f843-270c8d8c9912"
      },
      "outputs": [
        {
          "output_type": "stream",
          "name": "stdout",
          "text": [
            "Matriz 4x2 com valor 3:\n",
            " [[3 3]\n",
            " [3 3]\n",
            " [3 3]\n",
            " [3 3]]\n"
          ]
        }
      ],
      "source": [
        "# Insira a resposta abaixo.\n",
        "\n",
        "# Passo 1\n",
        "matriz3 = np.full((4, 2), 3)\n",
        "print (\"Matriz 4x2 com valor 3:\\n\", matriz3)"
      ]
    },
    {
      "cell_type": "code",
      "source": [
        "# Passo 2\n",
        "identidade = np.eye(4)\n",
        "print (\"Matriz identidade 4x4:\\n\", identidade)"
      ],
      "metadata": {
        "colab": {
          "base_uri": "https://localhost:8080/"
        },
        "id": "pVQnvvrqDky7",
        "outputId": "8c9d0a83-196c-4b53-e479-d7687d1662bd"
      },
      "execution_count": 33,
      "outputs": [
        {
          "output_type": "stream",
          "name": "stdout",
          "text": [
            "Matriz identidade 4x4:\n",
            " [[1. 0. 0. 0.]\n",
            " [0. 1. 0. 0.]\n",
            " [0. 0. 1. 0.]\n",
            " [0. 0. 0. 1.]]\n"
          ]
        }
      ]
    },
    {
      "cell_type": "code",
      "source": [
        "# Passo 3\n",
        "resultado = matriz3.T @ identidade\n",
        "print (\"Produto da transposta com a identidade:\\n\", resultado)"
      ],
      "metadata": {
        "colab": {
          "base_uri": "https://localhost:8080/"
        },
        "id": "ioJaswl8DmC0",
        "outputId": "5870c585-e1dd-4d59-f30a-c88054401247"
      },
      "execution_count": 34,
      "outputs": [
        {
          "output_type": "stream",
          "name": "stdout",
          "text": [
            "Produto da transposta com a identidade:\n",
            " [[3. 3. 3. 3.]\n",
            " [3. 3. 3. 3.]]\n"
          ]
        }
      ]
    },
    {
      "cell_type": "markdown",
      "metadata": {
        "id": "HxFz7WugiOiT"
      },
      "source": [
        "12 - Realize as seguintes operações:\n",
        "1. Crie uma nova matriz de valores inteiros de 25 até 49 com dimensionalidade (5,5).\n",
        "2. Crie uma nova matriz com valores uniformemente espaçados entre 0 e 1 e defina a sua dimensionalidade em (5,1).\n",
        "3. Concatene horizontalmente as duas matrizes criadas anteriormente."
      ]
    },
    {
      "cell_type": "code",
      "source": [
        "# Insira a resposta abaixo.\n",
        "\n",
        "# Passo 1\n",
        "matriz_inteiros = np.arange(25, 50).reshape(5, 5)\n",
        "print (\"Matriz 5x5 de inteiros:\\n\", matriz_inteiros)"
      ],
      "metadata": {
        "colab": {
          "base_uri": "https://localhost:8080/"
        },
        "id": "awtcsPUZE4Re",
        "outputId": "b33f1d2f-8d6d-4f07-9f5d-e2458ab88350"
      },
      "execution_count": 35,
      "outputs": [
        {
          "output_type": "stream",
          "name": "stdout",
          "text": [
            "Matriz 5x5 de inteiros:\n",
            " [[25 26 27 28 29]\n",
            " [30 31 32 33 34]\n",
            " [35 36 37 38 39]\n",
            " [40 41 42 43 44]\n",
            " [45 46 47 48 49]]\n"
          ]
        }
      ]
    },
    {
      "cell_type": "code",
      "execution_count": 38,
      "metadata": {
        "id": "nzxfA0UNZ9Fv",
        "colab": {
          "base_uri": "https://localhost:8080/"
        },
        "outputId": "d831983f-0043-44db-8232-34da81b69e79"
      },
      "outputs": [
        {
          "output_type": "stream",
          "name": "stdout",
          "text": [
            "Matriz 5x1 de valores uniformes:\n",
            " [[0.  ]\n",
            " [0.25]\n",
            " [0.5 ]\n",
            " [0.75]\n",
            " [1.  ]]\n"
          ]
        }
      ],
      "source": [
        "# Passo 2\n",
        "matriz_uniforme = np.linspace(0, 1, 5).reshape(5, 1)\n",
        "print (\"Matriz 5x1 de valores uniformes:\\n\", matriz_uniforme)"
      ]
    },
    {
      "cell_type": "code",
      "source": [
        "# Passo 3\n",
        "matriz_concatenada = np.hstack((matriz_inteiros, matriz_uniforme))\n",
        "print (\"Matriz concatenada 5x6:\\n\", matriz_concatenada)"
      ],
      "metadata": {
        "colab": {
          "base_uri": "https://localhost:8080/"
        },
        "id": "7OwtnijeFM7n",
        "outputId": "61686bbe-b26b-4ce0-f33e-4d132e8d6185"
      },
      "execution_count": 39,
      "outputs": [
        {
          "output_type": "stream",
          "name": "stdout",
          "text": [
            "Matriz concatenada 5x6:\n",
            " [[25.   26.   27.   28.   29.    0.  ]\n",
            " [30.   31.   32.   33.   34.    0.25]\n",
            " [35.   36.   37.   38.   39.    0.5 ]\n",
            " [40.   41.   42.   43.   44.    0.75]\n",
            " [45.   46.   47.   48.   49.    1.  ]]\n"
          ]
        }
      ]
    },
    {
      "cell_type": "markdown",
      "metadata": {
        "id": "6897aBLlcw8E"
      },
      "source": [
        "13 - Crie uma nova matriz com dimensionalidade (5,1) com números uniformemente espaçados utilizando um espaço logarítmico ao invés de um espaço linear."
      ]
    },
    {
      "cell_type": "code",
      "execution_count": 40,
      "metadata": {
        "id": "bUZNJgYHcxKR",
        "colab": {
          "base_uri": "https://localhost:8080/"
        },
        "outputId": "9e140357-4b25-4cd1-9a3e-220ad59f2a65"
      },
      "outputs": [
        {
          "output_type": "stream",
          "name": "stdout",
          "text": [
            "Matriz 5x1 com espaço logarítmico:\n",
            " [[ 1.        ]\n",
            " [ 1.77827941]\n",
            " [ 3.16227766]\n",
            " [ 5.62341325]\n",
            " [10.        ]]\n"
          ]
        }
      ],
      "source": [
        "# Insira a resposta abaixo.\n",
        "matriz_log = np.logspace(0, 1, 5).reshape(5, 1)\n",
        "\n",
        "print(\"Matriz 5x1 com espaço logarítmico:\\n\", matriz_log)"
      ]
    },
    {
      "cell_type": "markdown",
      "metadata": {
        "id": "R-V4DIT5k3db"
      },
      "source": [
        "14 - Crie uma função que receba um array e adicione uma borda composta de zeros nos quatro lados do array. Utilize o array resultante da questão anterior para testar o método criado."
      ]
    },
    {
      "cell_type": "code",
      "execution_count": 43,
      "metadata": {
        "id": "jCPkpBUfiQvF",
        "colab": {
          "base_uri": "https://localhost:8080/"
        },
        "outputId": "97eba7cc-2c34-4965-95a2-e97818c1a56d"
      },
      "outputs": [
        {
          "output_type": "stream",
          "name": "stdout",
          "text": [
            "Array com borda de zeros:\n",
            " [[ 0.          0.          0.        ]\n",
            " [ 0.          1.          0.        ]\n",
            " [ 0.          1.77827941  0.        ]\n",
            " [ 0.          3.16227766  0.        ]\n",
            " [ 0.          5.62341325  0.        ]\n",
            " [ 0.         10.          0.        ]\n",
            " [ 0.          0.          0.        ]]\n"
          ]
        }
      ],
      "source": [
        "# Insira a resposta abaixo.\n",
        "def adicionar_borda_zeros(array):\n",
        "    return np.pad(array, pad_width=1, mode='constant', constant_values=0)\n",
        "\n",
        "matriz_com_borda = adicionar_borda_zeros(matriz_log)\n",
        "print (\"Array com borda de zeros:\\n\", matriz_com_borda)"
      ]
    },
    {
      "cell_type": "markdown",
      "metadata": {
        "id": "pfhKurRymAve"
      },
      "source": [
        "15 - Crie um array de 36 números aleatórios oriundos de uma distribuição normal. Exiba o valor máximo, mínimo, a média e o desvio padrão desse array."
      ]
    },
    {
      "cell_type": "code",
      "execution_count": 45,
      "metadata": {
        "id": "ocDrzobIlEFE",
        "colab": {
          "base_uri": "https://localhost:8080/"
        },
        "outputId": "a80e67e0-7a9e-4d7f-e10e-31bb19258996"
      },
      "outputs": [
        {
          "output_type": "stream",
          "name": "stdout",
          "text": [
            "Máximo: 2.1617492589450347\n",
            "Mínimo: -2.128716942516067\n",
            "Média: 0.3004137195608041\n",
            "Desvio padrão: 0.9210067721807428\n"
          ]
        }
      ],
      "source": [
        "# Insira a resposta abaixo.\n",
        "\n",
        "# cria um array de 36 números aleatórios com distribuição normal padrão (média=0, desvio=1)\n",
        "array_normal = np.random.randn(36)\n",
        "\n",
        "print (\"Máximo:\", np.max(array_normal))\n",
        "print (\"Mínimo:\", np.min(array_normal))\n",
        "print (\"Média:\", np.mean(array_normal))\n",
        "print (\"Desvio padrão:\", np.std(array_normal))"
      ]
    }
  ],
  "metadata": {
    "colab": {
      "provenance": []
    },
    "kernelspec": {
      "display_name": "Python 3 (ipykernel)",
      "language": "python",
      "name": "python3"
    },
    "language_info": {
      "codemirror_mode": {
        "name": "ipython",
        "version": 3
      },
      "file_extension": ".py",
      "mimetype": "text/x-python",
      "name": "python",
      "nbconvert_exporter": "python",
      "pygments_lexer": "ipython3",
      "version": "3.9.12"
    }
  },
  "nbformat": 4,
  "nbformat_minor": 0
}