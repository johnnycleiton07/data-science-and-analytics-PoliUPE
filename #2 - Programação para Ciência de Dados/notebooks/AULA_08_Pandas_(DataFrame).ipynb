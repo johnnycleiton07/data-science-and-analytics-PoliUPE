{
  "nbformat": 4,
  "nbformat_minor": 0,
  "metadata": {
    "colab": {
      "private_outputs": true,
      "provenance": []
    },
    "kernelspec": {
      "name": "python3",
      "display_name": "Python 3"
    },
    "language_info": {
      "name": "python"
    }
  },
  "cells": [
    {
      "cell_type": "code",
      "execution_count": null,
      "metadata": {
        "id": "ip01LN9AtQ-_"
      },
      "outputs": [],
      "source": [
        "import pandas as pd\n",
        "import numpy as np"
      ]
    },
    {
      "cell_type": "markdown",
      "source": [
        "# Criação de DataFrame"
      ],
      "metadata": {
        "id": "pOKKzP9mNJl3"
      }
    },
    {
      "cell_type": "code",
      "source": [
        "dados = {\n",
        "    'data': ['2025-01-15', '2025-01-16', '2025-01-16', '2025-01-17', '2025-01-18',\n",
        "             '2025-01-19', '2025-01-20', '2025-01-20', '2025-01-21', '2025-01-22'],\n",
        "    'produto': ['Notebook', 'Mouse', 'Teclado', 'Monitor', 'Notebook',\n",
        "                'Mouse', 'Webcam', 'Teclado', 'Monitor', 'Notebook'],\n",
        "    'categoria': ['Computadores', 'Periféricos', 'Periféricos', 'Monitores', 'Computadores',\n",
        "                  'Periféricos', 'Periféricos', 'Periféricos', 'Monitores', 'Computadores'],\n",
        "    'quantidade': [2, 5, 3, 1, 1, 8, 2, 4, 2, 3],\n",
        "    'preco_unitario': [3500.00, 45.00, 180.00, 890.00, 3200.00,\n",
        "                       52.00, 250.00, 180.00, 920.00, 3800.00],\n",
        "    'vendedor': ['Ana', 'Carlos', 'Ana', 'Beatriz', 'Carlos',\n",
        "                 'Ana', 'Beatriz', 'Carlos', 'Ana', 'Beatriz']\n",
        "}\n"
      ],
      "metadata": {
        "id": "eNtzKsJDuev3"
      },
      "execution_count": null,
      "outputs": []
    },
    {
      "cell_type": "code",
      "source": [
        "df = pd.DataFrame(dados)\n",
        "\n",
        "#df.to_csv(\"vendas.csv\", index = False)"
      ],
      "metadata": {
        "id": "HbKhqdUYuiTI"
      },
      "execution_count": null,
      "outputs": []
    },
    {
      "cell_type": "code",
      "source": [
        "# Uma outra possibilidade seria ler o arquivo em csv\n",
        "#df = pd.read_csv(\"vendas.csv\", index_col = None)"
      ],
      "metadata": {
        "id": "Bmq9ZXTaNRrv"
      },
      "execution_count": null,
      "outputs": []
    },
    {
      "cell_type": "code",
      "source": [
        "df"
      ],
      "metadata": {
        "id": "Q4HuwyVRZxiB"
      },
      "execution_count": null,
      "outputs": []
    },
    {
      "cell_type": "code",
      "source": [
        "df.head()"
      ],
      "metadata": {
        "id": "hwL9YzU-ulft"
      },
      "execution_count": null,
      "outputs": []
    },
    {
      "cell_type": "markdown",
      "source": [
        "# Informações Básicas"
      ],
      "metadata": {
        "id": "MwpsM-i5u7Cz"
      }
    },
    {
      "cell_type": "code",
      "source": [
        "print(\"INFORMAÇÕES BÁSICAS DO DATAFRAME\")\n",
        "print(f\"Dimensões: {df.shape}\")  # (linhas, colunas)\n",
        "print(f\"\\nTipos de dados:\\n{df.dtypes}\")"
      ],
      "metadata": {
        "id": "zWstHn15upVG"
      },
      "execution_count": null,
      "outputs": []
    },
    {
      "cell_type": "code",
      "source": [
        "print(f\"\\nPrimeiras 3 linhas:\")\n",
        "df.head(3)"
      ],
      "metadata": {
        "id": "DpQTM0JeOJHZ"
      },
      "execution_count": null,
      "outputs": []
    },
    {
      "cell_type": "code",
      "source": [
        "print(f\"\\nÚltimas 3 linhas:\\n\")\n",
        "df.tail(3)"
      ],
      "metadata": {
        "id": "sAyNxEczOOBa"
      },
      "execution_count": null,
      "outputs": []
    },
    {
      "cell_type": "code",
      "source": [
        "print(f\"\\nInformações gerais:\")\n",
        "print(df.info())"
      ],
      "metadata": {
        "id": "RkT67dQ0utN_"
      },
      "execution_count": null,
      "outputs": []
    },
    {
      "cell_type": "code",
      "source": [
        "df.isnull()"
      ],
      "metadata": {
        "id": "nGordJCqas2K"
      },
      "execution_count": null,
      "outputs": []
    },
    {
      "cell_type": "code",
      "source": [
        "df.isnull().sum()"
      ],
      "metadata": {
        "id": "SO9U8kXGakbs"
      },
      "execution_count": null,
      "outputs": []
    },
    {
      "cell_type": "markdown",
      "source": [
        "# Criação de novas colunas"
      ],
      "metadata": {
        "id": "FSj_sRRau2AA"
      }
    },
    {
      "cell_type": "code",
      "source": [
        "# Visualizando o dataFrame inicial\n",
        "df"
      ],
      "metadata": {
        "id": "ew7peMKDOmu1"
      },
      "execution_count": null,
      "outputs": []
    },
    {
      "cell_type": "code",
      "source": [
        "# Criando um nova coluna a partir de duas outras existentes\n",
        "df['valor_total'] = df['quantidade'] * df['preco_unitario']\n",
        "df"
      ],
      "metadata": {
        "id": "PFxS5eJ3uxjl"
      },
      "execution_count": null,
      "outputs": []
    },
    {
      "cell_type": "code",
      "source": [
        "# Transformando a coluna data para o tipo datetime\n",
        "df['data'] = pd.to_datetime(df['data'])\n",
        "df"
      ],
      "metadata": {
        "id": "K699XbCVOdKn"
      },
      "execution_count": null,
      "outputs": []
    },
    {
      "cell_type": "code",
      "source": [
        "df.info()"
      ],
      "metadata": {
        "id": "-PyCo_I3Qgvq"
      },
      "execution_count": null,
      "outputs": []
    },
    {
      "cell_type": "code",
      "source": [
        "# Obtendo o mês da venda\n",
        "df['mes'] = df['data'].dt.month\n",
        "df"
      ],
      "metadata": {
        "id": "gOyA0tHfOeZW"
      },
      "execution_count": null,
      "outputs": []
    },
    {
      "cell_type": "code",
      "source": [
        "# Obtendo o dia da semana\n",
        "df['dia_semana'] = df['data'].dt.day_name()\n",
        "df\n"
      ],
      "metadata": {
        "id": "Z2wHqN9WOfVs"
      },
      "execution_count": null,
      "outputs": []
    },
    {
      "cell_type": "code",
      "source": [
        "# Visualizando algumas coluna do dataFrame\n",
        "df[['produto', 'quantidade', 'preco_unitario', 'valor_total', 'dia_semana']]"
      ],
      "metadata": {
        "id": "NVWuYR8oOg1G"
      },
      "execution_count": null,
      "outputs": []
    },
    {
      "cell_type": "markdown",
      "source": [
        "# Seleção de Dados"
      ],
      "metadata": {
        "id": "qoOqapDAu9H_"
      }
    },
    {
      "cell_type": "code",
      "source": [
        "print(\"SELEÇÃO DE DADOS\")\n",
        "print(\"Uma coluna específica:\")\n",
        "df['produto']\n"
      ],
      "metadata": {
        "id": "kc0hCqLnu95H"
      },
      "execution_count": null,
      "outputs": []
    },
    {
      "cell_type": "code",
      "source": [
        "print(\"Múltiplas colunas:\")\n",
        "df[['produto', 'quantidade', 'valor_total']]"
      ],
      "metadata": {
        "id": "ieHcw79aRGyM"
      },
      "execution_count": null,
      "outputs": []
    },
    {
      "cell_type": "code",
      "source": [
        "print(\"Linhas específicas (loc):\")\n",
        "df.loc[0:2, ['produto', 'valor_total']]"
      ],
      "metadata": {
        "id": "a-VobWG5RMuK"
      },
      "execution_count": null,
      "outputs": []
    },
    {
      "cell_type": "code",
      "source": [
        "print(\"\\nPor posição (iloc):\")\n",
        "df.iloc[0:3, [1, 3, 5]] # indicando 0:3 -> index das linhas | [1, 3, 5] ordem das colunas"
      ],
      "metadata": {
        "id": "LHYxts_9RToO"
      },
      "execution_count": null,
      "outputs": []
    },
    {
      "cell_type": "markdown",
      "source": [
        "# Filtragem de dados\n"
      ],
      "metadata": {
        "id": "2KRlLjrzvFGK"
      }
    },
    {
      "cell_type": "code",
      "source": [
        "df"
      ],
      "metadata": {
        "id": "3jFhA4v_c1En"
      },
      "execution_count": null,
      "outputs": []
    },
    {
      "cell_type": "code",
      "source": [
        "print(\"FILTRAGEM DE DADOS\")\n",
        "print(\"Vendas acima de R$ 1000:\")\n",
        "vendas_altas = df[df['valor_total'] > 1000]\n",
        "vendas_altas[['produto', 'valor_total']]"
      ],
      "metadata": {
        "id": "wsd4ywUpvJu3"
      },
      "execution_count": null,
      "outputs": []
    },
    {
      "cell_type": "code",
      "source": [
        "print(\"Produtos da categoria Periféricos:\")\n",
        "perifericos = df[df['categoria'] == 'Periféricos']\n",
        "perifericos[['produto', 'categoria', 'valor_total']]"
      ],
      "metadata": {
        "id": "VrZl82jbR28D"
      },
      "execution_count": null,
      "outputs": []
    },
    {
      "cell_type": "code",
      "source": [
        "print(\"Filtros múltiplos (vendas > 500 E quantidade > 2):\")\n",
        "filtro_multiplo = df[(df['valor_total'] > 500) & (df['quantidade'] > 2)]\n",
        "filtro_multiplo"
      ],
      "metadata": {
        "id": "ir0yEij-R4_c"
      },
      "execution_count": null,
      "outputs": []
    },
    {
      "cell_type": "markdown",
      "source": [
        "# Ordenação"
      ],
      "metadata": {
        "id": "e3jCYVsfvOmo"
      }
    },
    {
      "cell_type": "code",
      "source": [
        "print(\"ORDENAÇÃO DE DADOS\")\n",
        "print(\"Ordenar por valor_total (decrescente):\")\n",
        "df_ordenado = df.sort_values('valor_total', ascending=False)\n",
        "df_ordenado[['produto', 'valor_total']]\n",
        "\n"
      ],
      "metadata": {
        "id": "9HJmhQ6bvM20"
      },
      "execution_count": null,
      "outputs": []
    },
    {
      "cell_type": "code",
      "source": [
        "print(\"\\nOrdenar por múltiplas colunas:\")\n",
        "df_multi_sort = df.sort_values(['categoria', 'valor_total'], ascending=[True, False])\n",
        "df_multi_sort[['categoria', 'produto', 'valor_total']]"
      ],
      "metadata": {
        "id": "2iYPxjgHSSY6"
      },
      "execution_count": null,
      "outputs": []
    },
    {
      "cell_type": "markdown",
      "source": [
        "# Agrupamento e Agregação\n"
      ],
      "metadata": {
        "id": "btUdWTlSvZEL"
      }
    },
    {
      "cell_type": "code",
      "source": [
        "print(\"AGRUPAMENTO E AGREGAÇÃO\")\n",
        "print(\"Total de vendas por categoria:\")\n",
        "vendas_categoria = df.groupby('categoria')['valor_total'].sum()\n",
        "vendas_categoria"
      ],
      "metadata": {
        "id": "pCsmCPChvYF_"
      },
      "execution_count": null,
      "outputs": []
    },
    {
      "cell_type": "code",
      "source": [
        "print(\"\\nEstatísticas por vendedor:\")\n",
        "stats_vendedor = df.groupby('vendedor').agg({\n",
        "    'valor_total': ['sum', 'mean', 'count'],\n",
        "    'quantidade': 'sum'\n",
        "})\n",
        "stats_vendedor"
      ],
      "metadata": {
        "id": "bEe_mk-WSm2U"
      },
      "execution_count": null,
      "outputs": []
    },
    {
      "cell_type": "code",
      "source": [
        "df"
      ],
      "metadata": {
        "id": "7Nf2ASP7SvjH"
      },
      "execution_count": null,
      "outputs": []
    },
    {
      "cell_type": "code",
      "source": [
        "print(\"Total por categoria e produto:\")\n",
        "pivot_table = df.pivot_table(\n",
        "    values='valor_total',\n",
        "    index='categoria',\n",
        "    columns='vendedor',\n",
        "    aggfunc='sum',\n",
        "    fill_value=0\n",
        ")\n",
        "pivot_table"
      ],
      "metadata": {
        "id": "JNU2_HGVvhRd"
      },
      "execution_count": null,
      "outputs": []
    },
    {
      "cell_type": "markdown",
      "source": [
        "# Estatistica Descritiva"
      ],
      "metadata": {
        "id": "r0cY2HUpvp3m"
      }
    },
    {
      "cell_type": "code",
      "source": [
        "print(\"ESTATÍSTICAS DESCRITIVAS\")\n",
        "df[['quantidade', 'preco_unitario', 'valor_total']].describe()"
      ],
      "metadata": {
        "id": "5EGDACmivncA"
      },
      "execution_count": null,
      "outputs": []
    },
    {
      "cell_type": "code",
      "source": [
        "print(\"\\nMédia de vendas por categoria:\")\n",
        "df.groupby('categoria')['valor_total'].mean()"
      ],
      "metadata": {
        "id": "soS8ECYDTIJE"
      },
      "execution_count": null,
      "outputs": []
    },
    {
      "cell_type": "markdown",
      "source": [
        "# Tratamento de Valores Ausentes"
      ],
      "metadata": {
        "id": "5FCqO4NTvt2n"
      }
    },
    {
      "cell_type": "code",
      "source": [
        "# A nossa base não possui valores ausentes\n",
        "df"
      ],
      "metadata": {
        "id": "u0LxKnkNTkdy"
      },
      "execution_count": null,
      "outputs": []
    },
    {
      "cell_type": "code",
      "source": [
        "print(\"TRATAMENTO DE VALORES AUSENTES\")\n",
        "# Adicionando valores ausentes propositalmente\n",
        "df_com_na = df.copy()\n",
        "df_com_na.loc[2, 'vendedor'] = np.nan\n",
        "df_com_na.loc[5, 'preco_unitario'] = np.nan\n",
        "df_com_na"
      ],
      "metadata": {
        "id": "gkkxR2KYvwaD"
      },
      "execution_count": null,
      "outputs": []
    },
    {
      "cell_type": "code",
      "source": [
        "print(\"Verificar valores nulos:\")\n",
        "df_com_na.isnull().sum()"
      ],
      "metadata": {
        "id": "d0Vj3vaRTs7W"
      },
      "execution_count": null,
      "outputs": []
    },
    {
      "cell_type": "code",
      "source": [
        "print(\"\\nPreencher valores nulos:\")\n",
        "df_preenchido = df_com_na.fillna({\n",
        "    'vendedor': 'Desconhecido',\n",
        "    'preco_unitario': df_com_na['preco_unitario'].mean()\n",
        "})\n",
        "df_preenchido[['vendedor', 'preco_unitario']]\n"
      ],
      "metadata": {
        "id": "0unaAHrFTvpk"
      },
      "execution_count": null,
      "outputs": []
    },
    {
      "cell_type": "code",
      "source": [
        "df_com_na"
      ],
      "metadata": {
        "id": "_TSXMiyDP1Oh"
      },
      "execution_count": null,
      "outputs": []
    },
    {
      "cell_type": "code",
      "source": [
        "print(\"\\nRemover linhas com valores nulos:\")\n",
        "df_sem_na = df_com_na.dropna()\n",
        "print(f\"Linhas antes: {len(df_com_na)}, Linhas depois: {len(df_sem_na)}\")\n",
        "print(\"\\n\")"
      ],
      "metadata": {
        "id": "bnnbJH5VT2ZJ"
      },
      "execution_count": null,
      "outputs": []
    },
    {
      "cell_type": "code",
      "source": [
        "df_sem_na"
      ],
      "metadata": {
        "id": "z6h21bwlT5NG"
      },
      "execution_count": null,
      "outputs": []
    },
    {
      "cell_type": "markdown",
      "source": [
        "# Operações com String"
      ],
      "metadata": {
        "id": "yifLkS4UwFV1"
      }
    },
    {
      "cell_type": "code",
      "source": [
        "df"
      ],
      "metadata": {
        "id": "IHiJfA6BQVuZ"
      },
      "execution_count": null,
      "outputs": []
    },
    {
      "cell_type": "code",
      "source": [
        "print(\"OPERAÇÕES COM STRINGS\")\n",
        "df['produto_upper'] = df['produto'].str.upper()\n",
        "df['produto_lower'] = df['produto'].str.lower()\n",
        "df['tamanho_nome'] = df['produto'].str.len()\n",
        "df[[\"produto\", \"produto_upper\", 'produto_lower', \"tamanho_nome\"]]"
      ],
      "metadata": {
        "id": "iTPBKhT1v3gX"
      },
      "execution_count": null,
      "outputs": []
    },
    {
      "cell_type": "code",
      "source": [
        "print(\"\\nProdutos que contêm 'o':\")\n",
        "df[df['produto'].str.contains('o', case=False)]['produto']\n"
      ],
      "metadata": {
        "id": "_FZB5W7JVmHY"
      },
      "execution_count": null,
      "outputs": []
    },
    {
      "cell_type": "markdown",
      "source": [
        "# Aplicar funções personalizadas\n",
        "\n",
        "\n",
        "\n"
      ],
      "metadata": {
        "id": "DFdDrAL4wCmK"
      }
    },
    {
      "cell_type": "code",
      "source": [
        "df"
      ],
      "metadata": {
        "id": "x3mw3ppORA1X"
      },
      "execution_count": null,
      "outputs": []
    },
    {
      "cell_type": "code",
      "source": [
        "df[\"valor_total\"] = df[\"preco_unitario\"] * df[\"quantidade\"]\n",
        "df.head()"
      ],
      "metadata": {
        "id": "9os71PAkRFL6"
      },
      "execution_count": null,
      "outputs": []
    },
    {
      "cell_type": "code",
      "source": [
        "def classificar_venda(valor):\n",
        "    if valor > 5000:\n",
        "        return 'Alta'\n",
        "    elif valor > 1000:\n",
        "        return 'Média'\n",
        "    else:\n",
        "        return 'Baixa'"
      ],
      "metadata": {
        "id": "tZjGEmfjw5Rh"
      },
      "execution_count": null,
      "outputs": []
    },
    {
      "cell_type": "code",
      "source": [
        "df['classificacao_venda'] = df['valor_total'].apply(classificar_venda)\n",
        "df[['produto', 'valor_total', 'classificacao_venda']]"
      ],
      "metadata": {
        "id": "5iG1PdS2VsLP"
      },
      "execution_count": null,
      "outputs": []
    },
    {
      "cell_type": "markdown",
      "source": [
        "# Merge e Join\n"
      ],
      "metadata": {
        "id": "Ny1XkSlmwOsh"
      }
    },
    {
      "cell_type": "code",
      "source": [
        "print(\"MERGE E JOIN DE DATAFRAMES\")\n",
        "\n",
        "# Criando outro DataFrame com informações dos vendedores\n",
        "vendedores_info = pd.DataFrame({\n",
        "    'vendedor': ['Ana', 'Beatriz', 'Carlos'],\n",
        "    'comissao': [0.05, 0.07, 0.06],\n",
        "    'anos_empresa': [3, 5, 2]\n",
        "})"
      ],
      "metadata": {
        "id": "N6UyqIuVwNbj"
      },
      "execution_count": null,
      "outputs": []
    },
    {
      "cell_type": "code",
      "source": [
        "print(\"DataFrame de vendedores:\")\n",
        "vendedores_info"
      ],
      "metadata": {
        "id": "0nq_CreYV_Dd"
      },
      "execution_count": null,
      "outputs": []
    },
    {
      "cell_type": "code",
      "source": [
        "df.head()"
      ],
      "metadata": {
        "id": "qOxogvI4SEqX"
      },
      "execution_count": null,
      "outputs": []
    },
    {
      "cell_type": "code",
      "source": [
        "print(\"\\nMerge com DataFrame principal:\")\n",
        "df_merged = df.merge(vendedores_info, on='vendedor', how='left')\n",
        "df_merged"
      ],
      "metadata": {
        "id": "gg4ysklqWBx0"
      },
      "execution_count": null,
      "outputs": []
    },
    {
      "cell_type": "code",
      "source": [
        "df_merged[['produto', 'vendedor', 'valor_total', 'comissao']]"
      ],
      "metadata": {
        "id": "_STZITsNWbz0"
      },
      "execution_count": null,
      "outputs": []
    },
    {
      "cell_type": "code",
      "source": [
        "df_merged['valor_comissao'] = df_merged['valor_total'] * df_merged['comissao']\n",
        "df_merged[['produto', 'vendedor', 'valor_total', 'comissao', 'valor_comissao']]"
      ],
      "metadata": {
        "id": "oUwRZ9-FWayX"
      },
      "execution_count": null,
      "outputs": []
    },
    {
      "cell_type": "markdown",
      "source": [
        "# Resumo Final\n",
        "\n",
        "\n"
      ],
      "metadata": {
        "id": "ZkkibQZSwdeX"
      }
    },
    {
      "cell_type": "code",
      "source": [
        "print(\"RESUMO FINAL - INSIGHTS DO NEGÓCIO\")\n",
        "print(f\"Total de vendas: R$ {df['valor_total'].sum():,.2f}\")\n",
        "print(f\"Ticket médio: R$ {df['valor_total'].mean():,.2f}\")"
      ],
      "metadata": {
        "id": "mdVdgD0-wSrO"
      },
      "execution_count": null,
      "outputs": []
    },
    {
      "cell_type": "code",
      "source": [
        "df.groupby('produto')['quantidade'].sum()"
      ],
      "metadata": {
        "id": "V1IMqqHPXLRQ"
      },
      "execution_count": null,
      "outputs": []
    },
    {
      "cell_type": "code",
      "source": [
        "df.groupby('produto')['quantidade'].sum()"
      ],
      "metadata": {
        "id": "5BIQ4Xp6XUo7"
      },
      "execution_count": null,
      "outputs": []
    },
    {
      "cell_type": "code",
      "source": [
        "print(f\"Produto mais vendido: {df.groupby('produto')['quantidade'].sum().idxmax()}\")"
      ],
      "metadata": {
        "id": "9PObfjzYW5sY"
      },
      "execution_count": null,
      "outputs": []
    },
    {
      "cell_type": "code",
      "source": [
        "df.groupby('vendedor')['valor_total'].sum()"
      ],
      "metadata": {
        "id": "IyqkYnnrXXsn"
      },
      "execution_count": null,
      "outputs": []
    },
    {
      "cell_type": "code",
      "source": [
        "print(f\"Vendedor com maior faturamento: {df.groupby('vendedor')['valor_total'].sum().idxmax()}\")"
      ],
      "metadata": {
        "id": "6wtAY6Y0XAJ9"
      },
      "execution_count": null,
      "outputs": []
    },
    {
      "cell_type": "code",
      "source": [
        "df.groupby('categoria')['valor_total'].sum()"
      ],
      "metadata": {
        "id": "F1qywv_1XaUc"
      },
      "execution_count": null,
      "outputs": []
    },
    {
      "cell_type": "code",
      "source": [
        "print(f\"Categoria mais lucrativa: {df.groupby('categoria')['valor_total'].sum().idxmax()}\")"
      ],
      "metadata": {
        "id": "EzVpEu22XCqe"
      },
      "execution_count": null,
      "outputs": []
    }
  ]
}