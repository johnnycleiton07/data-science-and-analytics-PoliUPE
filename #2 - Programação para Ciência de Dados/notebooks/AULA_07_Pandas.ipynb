{
  "nbformat": 4,
  "nbformat_minor": 0,
  "metadata": {
    "colab": {
      "private_outputs": true,
      "provenance": []
    },
    "kernelspec": {
      "name": "python3",
      "display_name": "Python 3"
    },
    "language_info": {
      "name": "python"
    }
  },
  "cells": [
    {
      "cell_type": "markdown",
      "source": [
        "# Pandas\n",
        "\n",
        "• Biblioteca escrita sobre o numpy\n",
        "\n",
        "• Oferece diversos recursos para visualização e limpeza de\n",
        "dados, com funcionalidades similares aquelas que temos no\n",
        "Excel"
      ],
      "metadata": {
        "id": "ySIbiQUkMtSj"
      }
    },
    {
      "cell_type": "markdown",
      "source": [
        "Com o Anaconda já instalado, o processo de instalação do\n",
        "Pandas é muito simples:\n",
        "\n",
        "- conda install pandas\n",
        "\n",
        "OU\n",
        "\n",
        "-  pip install pandas"
      ],
      "metadata": {
        "id": "ow_3fTPnMw2N"
      }
    },
    {
      "cell_type": "code",
      "execution_count": null,
      "metadata": {
        "id": "8jX7LrawMnvv"
      },
      "outputs": [],
      "source": [
        "# instalar pandas usando o pip.\n",
        "!pip install pandas"
      ]
    },
    {
      "cell_type": "markdown",
      "source": [
        "## Tipo Series\n",
        "\n",
        "• Pandas possui essencialmente dois objetos, um deles é o Series\n",
        "\n",
        "• Parece muito com o tipo de dados dicionário de Python"
      ],
      "metadata": {
        "id": "Zu9qJ5E6M9qV"
      }
    },
    {
      "cell_type": "code",
      "source": [
        "import numpy as np\n",
        "import pandas as pd\n",
        "\n",
        "rotulo = ['a', 'b', 'c']\n",
        "valores = [3, 17, 30]\n",
        "\n",
        "pd.Series(valores, rotulo)"
      ],
      "metadata": {
        "id": "j6EFIvIvM63G"
      },
      "execution_count": null,
      "outputs": []
    },
    {
      "cell_type": "markdown",
      "source": [
        "ou com numpy"
      ],
      "metadata": {
        "id": "LCsa6sdaNf3g"
      }
    },
    {
      "cell_type": "code",
      "source": [
        "np_valores = np.array(valores)\n",
        "pd.Series(np_valores, rotulo)"
      ],
      "metadata": {
        "id": "DWPjmyKXNPKZ"
      },
      "execution_count": null,
      "outputs": []
    },
    {
      "cell_type": "markdown",
      "source": [
        "operações básicas"
      ],
      "metadata": {
        "id": "Hjv3h2H_Np9F"
      }
    },
    {
      "cell_type": "code",
      "source": [
        "top5Paises1990 = pd.Series([89.5, 66.6, 42.4, 34.6 , 26.9], [\"EUA\", \"JP\", \"AL\", \"UK\", \"FR\"])\n",
        "top5Paises1990"
      ],
      "metadata": {
        "id": "cDhIrkNmNrc6"
      },
      "execution_count": null,
      "outputs": []
    },
    {
      "cell_type": "code",
      "source": [
        "top5Paises2000 = pd.Series([197.4, 128.9, 86.5, 73.9, 70.4], [\"EUA\", \"JP\", \"AL\", \"CG\", \"UK\" ])\n",
        "top5Paises2000"
      ],
      "metadata": {
        "id": "2VArX1BROJRh"
      },
      "execution_count": null,
      "outputs": []
    },
    {
      "cell_type": "code",
      "source": [
        "top5Paises2010 = pd.Series([406, 158.5, 145.5, 126.9, 122], [\"CH\", \"AL\", \"EUA\", \"CG\", \"JP\" ])\n",
        "top5Paises2010"
      ],
      "metadata": {
        "id": "nAvPzcO2OsG-"
      },
      "execution_count": null,
      "outputs": []
    },
    {
      "cell_type": "code",
      "source": [
        "top5Paises2010[\"CH\"]"
      ],
      "metadata": {
        "id": "0eR3wbA0O-QR"
      },
      "execution_count": null,
      "outputs": []
    },
    {
      "cell_type": "code",
      "source": [
        "top5Paises2010 + 20"
      ],
      "metadata": {
        "id": "o9oNxAwUPBHV"
      },
      "execution_count": null,
      "outputs": []
    },
    {
      "cell_type": "markdown",
      "source": [
        "## DataFrame\n",
        "\n",
        "O DataFrame corresponde a um conjunto de Series\n",
        "\n",
        "Podemos vê-lo como uma planilha Excel!"
      ],
      "metadata": {
        "id": "ckVY2Vy_PSn9"
      }
    },
    {
      "cell_type": "code",
      "source": [
        "paises = [\"EUA\", \"JP\", \"AL\", \"UK\", \"FR\", \"CG\", \"CH\"]\n",
        "anos = [\"1990\", \"2000\", \"2010\"]\n",
        "\n",
        "dados = [[89.5, 66.6, 42.4, 34.6 , 26.9, 15, 0],\n",
        "         [197.4, 128.9, 85.5, 70.4, 58.7,73.9, 41.7],\n",
        "         [145.5, 122, 158.5, 59.8, 99.7, 126.9, 406 ]]"
      ],
      "metadata": {
        "id": "UtnqVQMPPY4I"
      },
      "execution_count": null,
      "outputs": []
    },
    {
      "cell_type": "code",
      "source": [
        "df = pd.DataFrame(dados, anos, paises) # dados, índices e colunas"
      ],
      "metadata": {
        "id": "1kjAu6iAPxf7"
      },
      "execution_count": null,
      "outputs": []
    },
    {
      "cell_type": "code",
      "source": [
        "df"
      ],
      "metadata": {
        "id": "8ZrOw70SP_Ms"
      },
      "execution_count": null,
      "outputs": []
    },
    {
      "cell_type": "markdown",
      "source": [
        "Acesso aos dados é similar a notação usada nos dicionários"
      ],
      "metadata": {
        "id": "vnFuFb4zQvqu"
      }
    },
    {
      "cell_type": "code",
      "source": [
        "df['CH']"
      ],
      "metadata": {
        "id": "rh-Xq-zdQyYP"
      },
      "execution_count": null,
      "outputs": []
    },
    {
      "cell_type": "code",
      "source": [
        "df[['CH', 'EUA']]"
      ],
      "metadata": {
        "id": "xxJCqcVVQ0_s"
      },
      "execution_count": null,
      "outputs": []
    },
    {
      "cell_type": "code",
      "source": [
        "df['CH']['2000']"
      ],
      "metadata": {
        "id": "5hE5Yzv4Q4FX"
      },
      "execution_count": null,
      "outputs": []
    },
    {
      "cell_type": "markdown",
      "source": [
        "`df.loc`: Para selecionar linhas ou células do DF usando os rótulos"
      ],
      "metadata": {
        "id": "bZ6zMAMlQ9j_"
      }
    },
    {
      "cell_type": "code",
      "source": [
        "df.loc['2000']"
      ],
      "metadata": {
        "id": "399af-pyRJ-x"
      },
      "execution_count": null,
      "outputs": []
    },
    {
      "cell_type": "code",
      "source": [
        "df.loc[['2000','2010'], ['UK', 'FR']]"
      ],
      "metadata": {
        "id": "zYDyMYlURNFr"
      },
      "execution_count": null,
      "outputs": []
    },
    {
      "cell_type": "code",
      "source": [
        "df.loc[(df['EUA'] > 100)]"
      ],
      "metadata": {
        "id": "ZJxspwMvS41J"
      },
      "execution_count": null,
      "outputs": []
    },
    {
      "cell_type": "code",
      "source": [
        "df.loc[(df['EUA'] > 100), ['EUA']]"
      ],
      "metadata": {
        "id": "Bz_Xoe1pSO5b"
      },
      "execution_count": null,
      "outputs": []
    },
    {
      "cell_type": "markdown",
      "source": [
        "Inserção de novos valores também é similar ao que temos em\n",
        "Dicionários"
      ],
      "metadata": {
        "id": "oCbPXjhuTHT_"
      }
    },
    {
      "cell_type": "code",
      "source": [
        "df['BR'] = [1, 5.9, 8]"
      ],
      "metadata": {
        "id": "KIW8fGyJTJvT"
      },
      "execution_count": null,
      "outputs": []
    },
    {
      "cell_type": "code",
      "source": [
        "df"
      ],
      "metadata": {
        "id": "xO249RasTOXb"
      },
      "execution_count": null,
      "outputs": []
    },
    {
      "cell_type": "markdown",
      "source": [
        "`df.drop` pode ser utilizado para remover linhas (0) ou colunas (1)"
      ],
      "metadata": {
        "id": "vfDO-sIZTSYD"
      }
    },
    {
      "cell_type": "code",
      "source": [
        "df"
      ],
      "metadata": {
        "id": "HN_y_0a5TuSl"
      },
      "execution_count": null,
      "outputs": []
    },
    {
      "cell_type": "code",
      "source": [
        "df.drop(columns=['UK'], axis = 1) # sempre retorna um dataframe com a(s) colunas removidas"
      ],
      "metadata": {
        "id": "QDWLNloFTvjk"
      },
      "execution_count": null,
      "outputs": []
    },
    {
      "cell_type": "code",
      "source": [
        "df"
      ],
      "metadata": {
        "id": "8lHajrWvT053"
      },
      "execution_count": null,
      "outputs": []
    },
    {
      "cell_type": "code",
      "source": [
        "#para remover no objeto corrente, use inplace = True\n",
        "df.drop(columns=['UK'], axis = 1, inplace = True)"
      ],
      "metadata": {
        "id": "9Et804TsT2v0"
      },
      "execution_count": null,
      "outputs": []
    },
    {
      "cell_type": "code",
      "source": [
        "df"
      ],
      "metadata": {
        "id": "ByrW6cDxENJK"
      },
      "execution_count": null,
      "outputs": []
    },
    {
      "cell_type": "markdown",
      "source": [
        "Seleção condicional de valores no DF\n",
        "- Similar ao que temos com numpy array"
      ],
      "metadata": {
        "id": "oqH_gUgMUwTt"
      }
    },
    {
      "cell_type": "code",
      "source": [
        "df"
      ],
      "metadata": {
        "id": "INqFqMSDE9RU"
      },
      "execution_count": null,
      "outputs": []
    },
    {
      "cell_type": "code",
      "source": [
        "# Média de cada coluna\n",
        "media_por_pais = df.mean()"
      ],
      "metadata": {
        "id": "wys8O4n0T_J1"
      },
      "execution_count": null,
      "outputs": []
    },
    {
      "cell_type": "code",
      "source": [
        "media_por_pais"
      ],
      "metadata": {
        "id": "XRrC_hYtU3if"
      },
      "execution_count": null,
      "outputs": []
    },
    {
      "cell_type": "code",
      "source": [
        "media_geral = media_por_pais.mean()"
      ],
      "metadata": {
        "id": "mzV8WBgZU76q"
      },
      "execution_count": null,
      "outputs": []
    },
    {
      "cell_type": "code",
      "source": [
        "media_geral"
      ],
      "metadata": {
        "id": "fmUvXU8qU_yC"
      },
      "execution_count": null,
      "outputs": []
    },
    {
      "cell_type": "code",
      "source": [
        "indices_maiores_media_geral = df > media_geral"
      ],
      "metadata": {
        "id": "ClU0P4dUVD4k"
      },
      "execution_count": null,
      "outputs": []
    },
    {
      "cell_type": "code",
      "source": [
        "# células que apresentam (true) valores maiores que a media geral\n",
        "indices_maiores_media_geral"
      ],
      "metadata": {
        "id": "Vzr8PidaVHLH"
      },
      "execution_count": null,
      "outputs": []
    },
    {
      "cell_type": "code",
      "source": [
        "df[indices_maiores_media_geral]"
      ],
      "metadata": {
        "id": "QpCKzJjCVMuU"
      },
      "execution_count": null,
      "outputs": []
    },
    {
      "cell_type": "markdown",
      "source": [
        "uma outra abordagem seria"
      ],
      "metadata": {
        "id": "_Bxb_N3tVbAS"
      }
    },
    {
      "cell_type": "code",
      "source": [
        "df"
      ],
      "metadata": {
        "id": "RNBhtjoYVc0i"
      },
      "execution_count": null,
      "outputs": []
    },
    {
      "cell_type": "code",
      "source": [
        "# obtendo apenas a coluna do 'JP'\n",
        "df['JP']"
      ],
      "metadata": {
        "id": "TZJ6JqbtVnSN"
      },
      "execution_count": null,
      "outputs": []
    },
    {
      "cell_type": "code",
      "source": [
        "# Exibindo quais linhas da coluna JP foram maiores (true) ou igual/menores que a media geral\n",
        "df['JP'] > media_geral"
      ],
      "metadata": {
        "id": "jl8EOeuSVq08"
      },
      "execution_count": null,
      "outputs": []
    },
    {
      "cell_type": "code",
      "source": [
        "#Filtrando as células da coluna 'JP' que foram maiores que a media geral\n",
        "df[df['JP'] > media_geral][['JP']]"
      ],
      "metadata": {
        "id": "lAHmc1dyVuOL"
      },
      "execution_count": null,
      "outputs": []
    },
    {
      "cell_type": "markdown",
      "source": [
        "## Operadores de Seleção\n",
        "\n",
        "Operadores de seleção\n",
        "úteis\n",
        "-  & (e)\n",
        "-  | (ou)"
      ],
      "metadata": {
        "id": "CT_7LyTBWRuA"
      }
    },
    {
      "cell_type": "code",
      "source": [
        "# dataFrame original\n",
        "df"
      ],
      "metadata": {
        "id": "gY24b09kWYBJ"
      },
      "execution_count": null,
      "outputs": []
    },
    {
      "cell_type": "code",
      "source": [
        "# valor da média geral\n",
        "media_geral"
      ],
      "metadata": {
        "id": "gJvluST_WZtn"
      },
      "execution_count": null,
      "outputs": []
    },
    {
      "cell_type": "code",
      "source": [
        "# desvio padrão das colunas\n",
        "df.std()"
      ],
      "metadata": {
        "id": "btfC0tsjWzNt"
      },
      "execution_count": null,
      "outputs": []
    },
    {
      "cell_type": "code",
      "source": [
        "# Calculando o desvio padrão de todos os valores\n",
        "desvio_padrao_geral = df.std().std()\n",
        "desvio_padrao_geral"
      ],
      "metadata": {
        "id": "C1kBce7hW4av"
      },
      "execution_count": null,
      "outputs": []
    },
    {
      "cell_type": "code",
      "source": [
        "# usando uma expressão a seleção\n",
        "df[(df > media_geral)]"
      ],
      "metadata": {
        "id": "-OpelGzaXFX5"
      },
      "execution_count": null,
      "outputs": []
    },
    {
      "cell_type": "code",
      "source": [
        "# usando o operador & para uma seleção com condição mais complexa\n",
        "df[(df > media_geral) & df[(df < media_geral + desvio_padrao_geral)]]"
      ],
      "metadata": {
        "id": "Oh8sogaGXNhU"
      },
      "execution_count": null,
      "outputs": []
    },
    {
      "cell_type": "markdown",
      "source": [
        "Recriando o índice (index)"
      ],
      "metadata": {
        "id": "25TtHzyyYSlU"
      }
    },
    {
      "cell_type": "code",
      "source": [
        "df"
      ],
      "metadata": {
        "id": "oH7w2Am1HBdY"
      },
      "execution_count": null,
      "outputs": []
    },
    {
      "cell_type": "code",
      "source": [
        "# Podemos querer reiniciar os índices para seguir novamente uma sequência númerica\n",
        "df.reset_index(inplace = True)\n",
        "df"
      ],
      "metadata": {
        "id": "jYQj1VhAYVHN"
      },
      "execution_count": null,
      "outputs": []
    },
    {
      "cell_type": "code",
      "source": [
        "df"
      ],
      "metadata": {
        "id": "h3UJrsiVHNNy"
      },
      "execution_count": null,
      "outputs": []
    },
    {
      "cell_type": "code",
      "source": [
        "df.set_index('index') # o índice pode ser mais de uma coluna"
      ],
      "metadata": {
        "id": "mF1LbYufa1vD"
      },
      "execution_count": null,
      "outputs": []
    },
    {
      "cell_type": "code",
      "source": [
        "#df.set_index('index').rename_axis(index=None, axis=1)"
      ],
      "metadata": {
        "id": "C5cgEYe4be5B"
      },
      "execution_count": null,
      "outputs": []
    },
    {
      "cell_type": "markdown",
      "source": [
        "# Importando dados com o Pandas\n",
        "\n",
        "![image.png](data:image/png;base64,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)"
      ],
      "metadata": {
        "id": "Kgt8lJ4vYqpz"
      }
    },
    {
      "cell_type": "markdown",
      "source": [
        "## Lendo um CSV\n",
        "\n",
        "[Fonte do CSV](https://databrowser.uis.unesco.org/view#indicatorPaths=UIS-SDG9Monitoring%3A0%3ARESDEN.INHAB.TFTE%2CUIS-ScienceOPRI%3A0%3AFRESP.THC&geoMode=countries&geoUnits=&browsePath=SCIENCE_TECHNOLOGY_INNOVATION%2FUIS-ScienceOPRI&timeMode=range&view=table&chartMode=multiple&tableIndicatorId=RESDEN.INHAB.TFTE&chartIndicatorId=RESDEN.INHAB.TFTE&chartHighlightSeries=&chartHighlightEnabled=true)"
      ],
      "metadata": {
        "id": "yjTWEHZUbDga"
      }
    },
    {
      "cell_type": "code",
      "source": [
        "df_csv = pd.read_csv('unesco_rd.csv')"
      ],
      "metadata": {
        "id": "198OYYdJYx68"
      },
      "execution_count": null,
      "outputs": []
    },
    {
      "cell_type": "code",
      "source": [
        "df_csv"
      ],
      "metadata": {
        "id": "kTK5creSbaXl"
      },
      "execution_count": null,
      "outputs": []
    },
    {
      "cell_type": "code",
      "source": [
        "df_csv.head()"
      ],
      "metadata": {
        "id": "IMuzbZp2q7MU"
      },
      "execution_count": null,
      "outputs": []
    },
    {
      "cell_type": "code",
      "source": [
        "df_csv.tail()"
      ],
      "metadata": {
        "id": "Li_NDGXlq8oK"
      },
      "execution_count": null,
      "outputs": []
    },
    {
      "cell_type": "code",
      "source": [
        "df_csv.info()"
      ],
      "metadata": {
        "id": "zX5dAYyjrCM3"
      },
      "execution_count": null,
      "outputs": []
    },
    {
      "cell_type": "code",
      "source": [
        "df_csv.isnull().sum()"
      ],
      "metadata": {
        "id": "1FPTzO_zrKyA"
      },
      "execution_count": null,
      "outputs": []
    },
    {
      "cell_type": "code",
      "source": [
        "del df_csv['qualifier']\n",
        "df_csv"
      ],
      "metadata": {
        "id": "oArzf4SHbeS0"
      },
      "execution_count": null,
      "outputs": []
    },
    {
      "cell_type": "code",
      "source": [
        "del df_csv['magnitude']\n",
        "df_csv"
      ],
      "metadata": {
        "id": "Zk3tzWcDbjma"
      },
      "execution_count": null,
      "outputs": []
    },
    {
      "cell_type": "code",
      "source": [
        "df_csv.to_csv('unesco_rd_modificado.csv')"
      ],
      "metadata": {
        "id": "4b5TNT9Sbl9n"
      },
      "execution_count": null,
      "outputs": []
    },
    {
      "cell_type": "markdown",
      "source": [
        "## Lendo dados de um Excel"
      ],
      "metadata": {
        "id": "WYLWAqV8b5iZ"
      }
    },
    {
      "cell_type": "code",
      "source": [
        "df_excel = pd.read_excel('unesco_rd.xls')"
      ],
      "metadata": {
        "id": "SrPX42lTb785"
      },
      "execution_count": null,
      "outputs": []
    },
    {
      "cell_type": "code",
      "source": [
        "df_excel"
      ],
      "metadata": {
        "id": "QEN_RdAQcp-h"
      },
      "execution_count": null,
      "outputs": []
    },
    {
      "cell_type": "markdown",
      "source": [
        "## Importando dados da Internet\n",
        "\n",
        "- pd.read_html\n",
        "\n",
        "\n",
        "[Fonte dos dados](https://www.fdic.gov/bank-failures/failed-bank-list)"
      ],
      "metadata": {
        "id": "Y7p0477bd4I6"
      }
    },
    {
      "cell_type": "code",
      "source": [
        "df_html = pd.read_html('https://www.fdic.gov/bank-failures/failed-bank-list')"
      ],
      "metadata": {
        "id": "u1yYaw8veGsk"
      },
      "execution_count": null,
      "outputs": []
    },
    {
      "cell_type": "code",
      "source": [
        "len(df_html)"
      ],
      "metadata": {
        "id": "a5rnjwEXePZK"
      },
      "execution_count": null,
      "outputs": []
    },
    {
      "cell_type": "code",
      "source": [
        "df_html"
      ],
      "metadata": {
        "id": "cboy8MRjehK-"
      },
      "execution_count": null,
      "outputs": []
    },
    {
      "cell_type": "code",
      "source": [
        "df_html[0]"
      ],
      "metadata": {
        "id": "wT4lIHblem-s"
      },
      "execution_count": null,
      "outputs": []
    }
  ]
}