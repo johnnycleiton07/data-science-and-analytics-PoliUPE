{
  "nbformat": 4,
  "nbformat_minor": 0,
  "metadata": {
    "colab": {
      "provenance": [],
      "private_outputs": true
    },
    "kernelspec": {
      "name": "python3",
      "display_name": "Python 3"
    }
  },
  "cells": [
    {
      "cell_type": "markdown",
      "metadata": {
        "id": "lIlNXu-iaSuY"
      },
      "source": [
        "# Variáveis e Tipos de Dados\n",
        "\n",
        "**Objetivo da aula:**\n",
        "\n",
        "\n",
        "*   Apresentar o conceito de variáveis e tipos de dados\n",
        "*   Apresentar a função de entrada de dados em Python\n",
        "\n",
        "\n",
        "##Variáveis\n",
        "\n",
        "Em programação variáveis são usadas para armazenar valores e para dar nome a uma área de memória do computador onde armazenamos dados.\n",
        "Podemos imaginar a memória  do computador como uma grande estante, em que cada  compartimento tem um nome.\n",
        "\n",
        "\n",
        "As variáveis nos permite guardar valores que serão manipulados no nosso programa. Fazendo uma analogia, podemos considerar que uma variável é uma gaveta de um gaveteiro (imagem abaixo). Nós podemos até nomear a gaveta para facilitar o acesso e manipulação.\n",
        "\n",
        "![Gaveteiro de peças](https://images.madeiramadeira.com.br/product/images/42180667-prateleira-gaveteiro-vonder-parafuso-pecas-chaves-25-gavetas6127025311-114-1-600x600.jpg)\n",
        "\n",
        "\n",
        "De forma geral, uma variável é uma posição da memória RAM no qual nós damos um nome e muitas vezes indicamos o tipo do conteúdo que será guardado (inteiro, real, cadeia de caractere...)*.\n",
        "\n",
        "\\* Python não precisa indicar o tipo do conteúdo da variável, apenas nomeá-la seguindo as regras da linguagem. A linguagem Python é considerada uma linguagem de tipagem dinâmica, isso significa que o tipo da variável é variável e depende do conteúdo que está sendo armazenado. Em uma parte do programa o tipo pode ser um valor inteiro e na linha seguinte, um valor de ponto flutuante (Leia [Python utiliza tipagem dinâmica e forte](http://blog.abraseucodigo.com.br/python-uma-linguagem-de-tipagem-dinamica-e-forte.html).\n",
        "\n",
        "Para armazenar um valor numa variável, nós usamos o símbolo de igualdade (=) entre o nome do compartimento (variável) e o valor que queremos armazenar.\n",
        "\n",
        "Como no exemplo abaixo:"
      ]
    },
    {
      "cell_type": "code",
      "metadata": {
        "id": "_DiZzbXKcsft"
      },
      "source": [
        "numero = 120"
      ],
      "execution_count": null,
      "outputs": []
    },
    {
      "cell_type": "code",
      "source": [
        "print(numero)"
      ],
      "metadata": {
        "id": "o2-gl14QpwfH"
      },
      "execution_count": null,
      "outputs": []
    },
    {
      "cell_type": "code",
      "source": [
        "nome = \"Rodrigo\"\n",
        "print(nome)"
      ],
      "metadata": {
        "id": "5dfjhXFzqhk-"
      },
      "execution_count": null,
      "outputs": []
    },
    {
      "cell_type": "markdown",
      "metadata": {
        "id": "6Z2fVwjzehKw"
      },
      "source": [
        "Na bloco de código acima o valor 120 é **atribuído** a variável de nome \"numero\". A operação de colocar um conteúdo (valor) numa variável é chamado de **atribuição**. Em Python, uma varíavel é criada através da operação de atribuição. Caso a variável já exista e sofra uma nova atribuição, o seu conteúdo  será modificado para o novo valor atribuído a ela.\n",
        "\n",
        "Em Python, nomes de variáveis devem iniciar obrigatoriamente com uma letra ou *underline* (_) mas também podem conter números.\n",
        "\n",
        "![Descrição da formulação do nome de uma variável](https://i.ibb.co/Kh8xkwD/variavel.png)\n",
        "\n",
        "Dessa forma indique se os nomes se variáveis abaixo são válidos:\n",
        "\n",
        "\n",
        "a1\n",
        "\n",
        "velocidade\n",
        "\n",
        "velocidade90\n",
        "\n",
        "salário_médio\n",
        "\n",
        "salario_medio\n",
        "\n",
        "salario medio\n",
        "\n",
        "_b\n",
        "\n",
        "1a\n",
        "\n",
        "__2\n",
        "\n",
        "\n",
        "Teste a sua resposta executando cada uma dos blocos abaixo: Caso não seja apresentado nenhum erro de *invalid syntax*, o nome é válido."
      ]
    },
    {
      "cell_type": "code",
      "metadata": {
        "id": "0S9TD0crh5Mm"
      },
      "source": [
        "a1 = 10"
      ],
      "execution_count": null,
      "outputs": []
    },
    {
      "cell_type": "code",
      "metadata": {
        "id": "6IXQ3VGCiDWe"
      },
      "source": [
        "velocidade = 200"
      ],
      "execution_count": null,
      "outputs": []
    },
    {
      "cell_type": "code",
      "metadata": {
        "id": "QQb572YLiHM8"
      },
      "source": [],
      "execution_count": null,
      "outputs": []
    },
    {
      "cell_type": "code",
      "metadata": {
        "id": "AWyCRe8SiJ3C"
      },
      "source": [],
      "execution_count": null,
      "outputs": []
    },
    {
      "cell_type": "code",
      "metadata": {
        "id": "JJ7v0f7qiPlv"
      },
      "source": [],
      "execution_count": null,
      "outputs": []
    },
    {
      "cell_type": "code",
      "metadata": {
        "id": "oxg_l-NXiSaO"
      },
      "source": [],
      "execution_count": null,
      "outputs": []
    },
    {
      "cell_type": "code",
      "metadata": {
        "id": "pmT9TCNFiTnR"
      },
      "source": [],
      "execution_count": null,
      "outputs": []
    },
    {
      "cell_type": "code",
      "metadata": {
        "id": "J8VwD-kliU6d"
      },
      "source": [
        "type(1.1)"
      ],
      "execution_count": null,
      "outputs": []
    },
    {
      "cell_type": "markdown",
      "metadata": {
        "id": "ep6Q30hxiys5"
      },
      "source": [
        "O tipo da variável define a natureza dos dados que a variável armazena. Python tem vários tipos de dados, mas os mais comuns são int, float, strings e bool.\n",
        "\n",
        "Cada linguagem define um conjunto de tipo de dados, a esses tipos são dados o nome de tipo de dados primitivos ou nativos (dados que já vem com a linguagem). Em contrapartida, existem os dados que podem ser criados pelos próprios usuários da linguagem através de composição de dados primitivos.\n",
        "\n",
        "Por exemplo, em Java um inteiro pode ser representado pelos tipos primitivos:\n",
        "\n",
        "* **byte**: é capaz de armazenar valores entre -128 até 127.\n",
        "* **short**: é capaz de armazenar valores entre – 32768 até 32767.\n",
        "* **int**: é capaz de armazenar valores entre –2147483648 até 2147483647.\n",
        "* **long**: é capaz de armazenar valores entre –9223372036854775808 até 9223372036854775807.\n",
        "\n",
        "## Tipos de dados Numéricos de Python (Int e Float)\n",
        "\n",
        "O tipo inteiro é um tipo numérico. Dizemos que uma variável é numérica quando armazena números inteiros (**int**) ou real /ponto flutuantes (**float**).\n",
        "\n",
        "Os valores denominados de ponto flutuante são representam todo o conjunto dos números que possuem a representação de casas décimas. Por exemplo: 100.2, 302.2, -0.2 ...\n",
        "É importante ficar evidente que o separador entra parte interia e a parte decimal é o ponto (**.**) e não a vírgula. Isso se dá ao fato das linguagens serem, na maioria das vezes, baseada na língua inglesa no qual o ponto é o separador.\n"
      ]
    },
    {
      "cell_type": "code",
      "source": [],
      "metadata": {
        "id": "iZREj6-Vxl_H"
      },
      "execution_count": null,
      "outputs": []
    },
    {
      "cell_type": "code",
      "metadata": {
        "id": "xHs_8a3ZlESP"
      },
      "source": [
        "idade = 22\n",
        "preco = 3.4"
      ],
      "execution_count": null,
      "outputs": []
    },
    {
      "cell_type": "code",
      "source": [
        "print(preco)\n",
        "print(idade)"
      ],
      "metadata": {
        "id": "ggzedEMJx2QD"
      },
      "execution_count": null,
      "outputs": []
    },
    {
      "cell_type": "markdown",
      "metadata": {
        "id": "z7J3i0q2lGxs"
      },
      "source": [
        "Importante: os Inteiros não possuem parte decimal. Qualquer número que possua uma parte fracionário é considerado do tipo float em Python."
      ]
    },
    {
      "cell_type": "markdown",
      "metadata": {
        "id": "dQlHYrejrKgh"
      },
      "source": [
        "\n",
        "Nos exemplos acima também é apresentada a função *type* que informa qual o tipo do conteúdo passado como parâmetro para ela.\n",
        "Entenda um pouco o funcionamento dela:"
      ]
    },
    {
      "cell_type": "code",
      "metadata": {
        "id": "f7LLNWBYru0l"
      },
      "source": [
        "print (type(2.0))"
      ],
      "execution_count": null,
      "outputs": []
    },
    {
      "cell_type": "code",
      "source": [],
      "metadata": {
        "id": "oz4cVKmEyCWW"
      },
      "execution_count": null,
      "outputs": []
    },
    {
      "cell_type": "code",
      "metadata": {
        "id": "smth6fvYsvMB"
      },
      "source": [
        "print (type(2))"
      ],
      "execution_count": null,
      "outputs": []
    },
    {
      "cell_type": "code",
      "metadata": {
        "id": "dhI8jRKUswfV"
      },
      "source": [
        "p = 2.0\n",
        "print (type(p))"
      ],
      "execution_count": null,
      "outputs": []
    },
    {
      "cell_type": "code",
      "metadata": {
        "id": "XK7olW5IsyDB"
      },
      "source": [
        "p = 2\n",
        "print (type(p))"
      ],
      "execution_count": null,
      "outputs": []
    },
    {
      "cell_type": "markdown",
      "metadata": {
        "id": "uztdDQ3Hs_QM"
      },
      "source": [
        "###Operadores Aritméticos\n",
        "\n",
        "Os operadores aritiméticos nos permite realizar operações aritméticas em Python. Os operadores são:\n",
        "\n",
        "![Operadores Aritméticos de Python](https://i.ibb.co/RYPtpqy/aritmeticos.png)\n",
        "\n",
        "Teste algumas operações:\n"
      ]
    },
    {
      "cell_type": "code",
      "source": [
        "num1 = 10\n",
        "num2 = 3"
      ],
      "metadata": {
        "id": "T2TKYSnWzIMv"
      },
      "execution_count": null,
      "outputs": []
    },
    {
      "cell_type": "code",
      "source": [
        "print(num1//num2)\n",
        "print(num1%num2)"
      ],
      "metadata": {
        "id": "cp0rQltJzM2x"
      },
      "execution_count": null,
      "outputs": []
    },
    {
      "cell_type": "code",
      "metadata": {
        "id": "CCe3UcsGvTAo"
      },
      "source": [
        "#Lembre-se, tudo que está após o # não é execultado num programa. O # é usado para\n",
        "#criarmos comentários que possam ajudar a entender o funcionamento do código.\n",
        "n1 = 10\n",
        "n2 = 3"
      ],
      "execution_count": null,
      "outputs": []
    },
    {
      "cell_type": "code",
      "metadata": {
        "id": "2RjyqZ-5vZrz"
      },
      "source": [
        "#soma\n",
        "resultado = n1 + n2\n",
        "print(resultado)"
      ],
      "execution_count": null,
      "outputs": []
    },
    {
      "cell_type": "code",
      "metadata": {
        "id": "sleS7mhivdxA"
      },
      "source": [
        "#subtração\n",
        "resultado = n1 - n2\n",
        "print(resultado)"
      ],
      "execution_count": null,
      "outputs": []
    },
    {
      "cell_type": "code",
      "metadata": {
        "id": "VhdlHoIevftx"
      },
      "source": [
        "#multiplicação\n",
        "resultado = n1 * n2\n",
        "print(resultado)"
      ],
      "execution_count": null,
      "outputs": []
    },
    {
      "cell_type": "markdown",
      "metadata": {
        "id": "BUwAEynbvset"
      },
      "source": [
        "Em Python existem dois tipos de operações de divisão, uma que dá um resultado fracionário (/) e a que dá o resultado inteiro da operação (/). Logo `5 / 2 == 2.5` enquanto que `5 // 2 = 2 `"
      ]
    },
    {
      "cell_type": "code",
      "metadata": {
        "id": "pMDmQSE3viZl"
      },
      "source": [
        "#divisão fracionária\n",
        "resultado = n1/n2\n",
        "print(resultado)"
      ],
      "execution_count": null,
      "outputs": []
    },
    {
      "cell_type": "code",
      "metadata": {
        "id": "OAeYIWt-vkB_"
      },
      "source": [
        "#divisão inteira\n",
        "resultado = n1//n2\n",
        "print(resultado)"
      ],
      "execution_count": null,
      "outputs": []
    },
    {
      "cell_type": "markdown",
      "metadata": {
        "id": "VJDLw4Z_xBmY"
      },
      "source": [
        "O módulo é um operador que dá como o resultado o resto da divisão. Por exemplo, o resto da divisião de 5 por 2 é 1, logo o valor da operação `5 % 2 == 1` . Caso não lembre, leia um [artigo do Brasil Escola exemplicando o que é o resto da divisão.](https://brasilescola.uol.com.br/matematica/o-resto-divisao.htm)"
      ]
    },
    {
      "cell_type": "code",
      "metadata": {
        "id": "pe10CiSPvlXM"
      },
      "source": [
        "#resto\n",
        "resultado = n1 % n2\n",
        "print(resultado)"
      ],
      "execution_count": null,
      "outputs": []
    },
    {
      "cell_type": "code",
      "metadata": {
        "id": "Ve8YqtKnvoR_"
      },
      "source": [
        "#exponeciação\n",
        "resultado = 3 ** n1\n",
        "print(resultado)"
      ],
      "execution_count": null,
      "outputs": []
    },
    {
      "cell_type": "code",
      "source": [
        "resultado = (10 - 3) ** 4\n",
        "print(resultado)"
      ],
      "metadata": {
        "id": "fTZ4T4eB01N3"
      },
      "execution_count": null,
      "outputs": []
    },
    {
      "cell_type": "markdown",
      "metadata": {
        "id": "Y1BAp3KbCA9_"
      },
      "source": [
        "Antes de iniciarmos a falar sobres variáveis lógicas, vamos discutir um pouco sobre precedência de operadores...\n",
        "Ao se executar uma operação que contém mais de um operador é seguido uma ordem (precedência) das operações. Por exemplo, execute a equação abaixo:\n"
      ]
    },
    {
      "cell_type": "code",
      "metadata": {
        "id": "-OBN9PSKCMB6"
      },
      "source": [
        "10 - 3 * 4"
      ],
      "execution_count": null,
      "outputs": []
    },
    {
      "cell_type": "code",
      "source": [
        "(10 - 3) * 4"
      ],
      "metadata": {
        "id": "L0xnEknI1es0"
      },
      "execution_count": null,
      "outputs": []
    },
    {
      "cell_type": "markdown",
      "metadata": {
        "id": "ivqaRTToCkko"
      },
      "source": [
        "Na operação acima, primeiro é realizado a multiplicação e em seguida a subtração. Caso você queira que a subtração seja realizada primeiro, a indicação é colocar parênteses para explicitar qual operação deve ser realizda no início da resolução da operação. Mesmo não querendo esse comportamento, é uma boa prática colocar os parênteses na operação de multiplicação"
      ]
    },
    {
      "cell_type": "code",
      "metadata": {
        "id": "KrIMreiUDM--"
      },
      "source": [
        "10 - (3 * 4)"
      ],
      "execution_count": null,
      "outputs": []
    },
    {
      "cell_type": "markdown",
      "metadata": {
        "id": "ZRu1HjCDDPWX"
      },
      "source": [
        "A operação acima é diferente de:"
      ]
    },
    {
      "cell_type": "code",
      "metadata": {
        "id": "Fds-_YwTDTA3"
      },
      "source": [
        "(10 - 3) * 4"
      ],
      "execution_count": null,
      "outputs": []
    },
    {
      "cell_type": "markdown",
      "metadata": {
        "id": "8ZzP62VN5-GA"
      },
      "source": [
        "## Tipo de dados Lógico\n",
        "\n",
        "Muitas vezes queremos armazenar um conteúdo simples: verdadeiro ou falso em uma variável. Nesse caso usamos o tipo lógico ou booleano, o tipo **bool** em Python.\n",
        "\n",
        "Em Python **True** representa o valor verdadeiro e **False**, falso. Esse tipo de variável só pode ser representada por um desses dois valores.\n"
      ]
    },
    {
      "cell_type": "code",
      "metadata": {
        "id": "8X2_TnH96lRs"
      },
      "source": [
        "resultado = True\n",
        "print (resultado)\n",
        "print(type(resultado))"
      ],
      "execution_count": null,
      "outputs": []
    },
    {
      "cell_type": "code",
      "metadata": {
        "id": "E2nsJYCp6oSn"
      },
      "source": [
        "resultado = False\n",
        "print (resultado)"
      ],
      "execution_count": null,
      "outputs": []
    },
    {
      "cell_type": "code",
      "source": [
        "n1 == 10"
      ],
      "metadata": {
        "id": "6yoVZZrE2vJ5"
      },
      "execution_count": null,
      "outputs": []
    },
    {
      "cell_type": "markdown",
      "metadata": {
        "id": "6dnVsyk369tR"
      },
      "source": [
        "###Operadores Relacionais\n",
        "\n",
        "Ao realizarmos comparações lógicas, utilizamos operadores relacionais. Os operadores relacionais são:\n",
        "\n",
        "![Operadores Relacionais](https://i.ibb.co/0VN5KY6/operadoresrelacionais.png)\n",
        "\n",
        "\n",
        "Alguns exemplos de utilização dos operadores relacionais:\n"
      ]
    },
    {
      "cell_type": "code",
      "metadata": {
        "id": "8b057yfo7t9i"
      },
      "source": [
        "#Lembre-se de executar esse trecho de código\n",
        "a = 1\n",
        "b = 5\n",
        "c = 2\n",
        "d = 1"
      ],
      "execution_count": null,
      "outputs": []
    },
    {
      "cell_type": "code",
      "metadata": {
        "id": "Fnmu2QLA71Mg"
      },
      "source": [
        "# 'a' é maior que 'b' ?\n",
        "a > b"
      ],
      "execution_count": null,
      "outputs": []
    },
    {
      "cell_type": "code",
      "source": [],
      "metadata": {
        "id": "ipnDR3le3Hc4"
      },
      "execution_count": null,
      "outputs": []
    },
    {
      "cell_type": "code",
      "metadata": {
        "id": "JyNZMYW38Bg0"
      },
      "source": [
        "# 'b' é maior que 'a' ?\n",
        "b > a"
      ],
      "execution_count": null,
      "outputs": []
    },
    {
      "cell_type": "code",
      "metadata": {
        "id": "9kvL95Ra8Dfd"
      },
      "source": [
        "# 'a' é menor que 'b' ?\n",
        "a<b"
      ],
      "execution_count": null,
      "outputs": []
    },
    {
      "cell_type": "code",
      "metadata": {
        "id": "Qkvg_j948Hhe"
      },
      "source": [
        "# 'a' é igual a 'd' ?\n",
        "a == d"
      ],
      "execution_count": null,
      "outputs": []
    },
    {
      "cell_type": "code",
      "metadata": {
        "id": "IB4vgR4P8KHk"
      },
      "source": [
        "# 'b' é maior ou igual 'a'?\n",
        "b >= a"
      ],
      "execution_count": null,
      "outputs": []
    },
    {
      "cell_type": "code",
      "metadata": {
        "id": "NOZph-xk8MRo"
      },
      "source": [
        "# 'c' é menor ou igual a 'b'?\n",
        "c <= b"
      ],
      "execution_count": null,
      "outputs": []
    },
    {
      "cell_type": "code",
      "metadata": {
        "id": "Fpb64-as8txo"
      },
      "source": [
        "# 'd' é diferente de 'a' ?\n",
        "d != a"
      ],
      "execution_count": null,
      "outputs": []
    },
    {
      "cell_type": "code",
      "metadata": {
        "id": "ux0m7ejx8vLI"
      },
      "source": [
        "# 'd' é diferente de 'b' ?\n",
        "d!=b"
      ],
      "execution_count": null,
      "outputs": []
    },
    {
      "cell_type": "markdown",
      "metadata": {
        "id": "TIGo8Zf6865b"
      },
      "source": [
        "### Operadores Lógicos\n",
        "\n",
        "Operadores lógicos são tipos de operadores que podem ser utilizados com as variáveis lógicas. Cada operador obedece um conjunto de regras expresso pela tabela verdade desse operador. Os principais operadores lógcicos são:\n",
        "\n",
        "![Operadores Lógicos](https://i.ibb.co/x3gbjr6/operadoreslogicos.png)\n",
        "\n",
        "\n",
        "\n",
        "Uma vez que já foi apresentado todos os operadores, precisamos apresentar as suas precedências. A precedência entre os operadores segue a seguinte regra: primeiro as operações aritméticas, depois as de comparação, por fim as lógicas. Contudo, expressẽos em parênteses são realizadas primeiro.\n",
        "\n",
        "![Precedência dos operadores](https://i.ibb.co/rs4VnMR/precedencia.png)\n",
        "\n",
        "analise a equação abaixo e tente indicar o resultado sem executá-la. Depois veja se o resultado corresponde ao indicado.\n"
      ]
    },
    {
      "cell_type": "code",
      "metadata": {
        "id": "FYctj2A8_Hn8"
      },
      "source": [
        "3 + 4 ** (2**1)"
      ],
      "execution_count": null,
      "outputs": []
    },
    {
      "cell_type": "markdown",
      "metadata": {
        "id": "Js0NSztVCb9m"
      },
      "source": [
        "#### Operador not (negação lógica)\n",
        "\n",
        "O operador **not** ou negação lógica é um operador unário que inverte o valor booleano. O True vira False e o False, True.\n",
        "\n",
        "Todos os operadores lógicos podem ser apresentados através de um tabela. Essa tabela chamada de **Tabela Verdade** apresenta o comportamento do operador para cada uma das possibilidades de valores.\n",
        "\n",
        "A tabela verdade do operador **not** está apresentada abaixo:\n",
        "\n",
        "![alt text](https://i.ibb.co/WfHh1VG/not.png)\n"
      ]
    },
    {
      "cell_type": "code",
      "metadata": {
        "id": "iMgMK_N_DEPe"
      },
      "source": [
        "not True"
      ],
      "execution_count": null,
      "outputs": []
    },
    {
      "cell_type": "code",
      "source": [
        "not (n1 >  10 and n2 < 4)"
      ],
      "metadata": {
        "id": "yL-X1Xws5EDP"
      },
      "execution_count": null,
      "outputs": []
    },
    {
      "cell_type": "code",
      "metadata": {
        "id": "gjXF8KI6HN8x"
      },
      "source": [
        "not False"
      ],
      "execution_count": null,
      "outputs": []
    },
    {
      "cell_type": "markdown",
      "metadata": {
        "id": "scTptEEUHXOG"
      },
      "source": [
        "### Operador or\n",
        "\n",
        "O operador **or** ou ou lógico, é um operador binário que tem o seguinte comportamento. O **or** é verdadeiro quando pelo menos um dos seus operandos é verdadeiro (True), caso contrário ele é falso (False). A tabela verdade do **or** está apresnetada abaixo:\n",
        "\n",
        "![tabela verdade or](https://i.ibb.co/mt80tpV/or.png)\n",
        "\n",
        "Antes de executar, tente indicar o valor das operações abaixo:"
      ]
    },
    {
      "cell_type": "code",
      "metadata": {
        "id": "wiCxgN8VIKsR"
      },
      "source": [
        "True or True"
      ],
      "execution_count": null,
      "outputs": []
    },
    {
      "cell_type": "code",
      "metadata": {
        "id": "txyoPsyFIN21"
      },
      "source": [
        "False or True"
      ],
      "execution_count": null,
      "outputs": []
    },
    {
      "cell_type": "code",
      "metadata": {
        "id": "1TSt0FV6IQSX"
      },
      "source": [
        "True or False or False"
      ],
      "execution_count": null,
      "outputs": []
    },
    {
      "cell_type": "code",
      "source": [
        "print(n1)\n",
        "print(n2)"
      ],
      "metadata": {
        "id": "JxAxsfoi6PZl"
      },
      "execution_count": null,
      "outputs": []
    },
    {
      "cell_type": "code",
      "source": [
        "n1 > 10 or n2 == 3"
      ],
      "metadata": {
        "id": "xSAfODsd6Tgc"
      },
      "execution_count": null,
      "outputs": []
    },
    {
      "cell_type": "markdown",
      "metadata": {
        "id": "zO4tWa_RIPy-"
      },
      "source": [
        "### Operador and\n",
        "\n",
        "O operador **and** ou e lógico, é um operador binário que tem o seguinte comportamento. O **and** é verdadeiro quando todos os seus operandos são verdadeiros (True), caso contrário ele é falso (False). A tabela verdade do **and** está apresnetada abaixo:\n",
        "\n",
        "![Tabela verdade and](https://i.ibb.co/mDTYsR6/and.png)\n",
        "\n",
        "Antes de executar, tente indicar o valor das operações abaixo:"
      ]
    },
    {
      "cell_type": "code",
      "metadata": {
        "id": "VslSJwmuI-_l"
      },
      "source": [
        "True and False"
      ],
      "execution_count": null,
      "outputs": []
    },
    {
      "cell_type": "code",
      "metadata": {
        "id": "WnRlmbTGJAt2"
      },
      "source": [
        "False and True"
      ],
      "execution_count": null,
      "outputs": []
    },
    {
      "cell_type": "code",
      "metadata": {
        "id": "3auWhy5yJDEv"
      },
      "source": [
        "True and True and False"
      ],
      "execution_count": null,
      "outputs": []
    },
    {
      "cell_type": "markdown",
      "metadata": {
        "id": "96yIt7-dJjIo"
      },
      "source": [
        "### Expressões Lógicas\n",
        "\n",
        "Podemos combinar os operadores descritos anteriormente para criar expressões lógicas, como apresentado no bloco de código abaixo."
      ]
    },
    {
      "cell_type": "code",
      "metadata": {
        "id": "zvao-J07J1wS"
      },
      "source": [
        "salario = 100\n",
        "idade = 20\n",
        "\n",
        "print (salario > 1000 and idade > 18)\n",
        "\n",
        "print (salario > 50 or idade < 19)"
      ],
      "execution_count": null,
      "outputs": []
    },
    {
      "cell_type": "markdown",
      "metadata": {
        "id": "KuythQSvKZXR"
      },
      "source": [
        "(Exercício 1) Escreva uma expressão que informe se o aluno foi aprovado ou não. Para ser aprovado, todas as médias do aluno devem ser maiores que 7. Considere que o aluno cursa apenas três matérias, e que as nota de cada uma está armazenada nas seguintes variáveis: materia1, materia2 e materia3. Teste sua expressão no bloco abaixo:\n"
      ]
    },
    {
      "cell_type": "code",
      "metadata": {
        "id": "Zck_jz94Km-z"
      },
      "source": [
        "materia1 = 10\n",
        "materia2 = 8\n",
        "materia3 = 5\n",
        "aprovado = materia1 >= 7 and materia2 >=7 and materia3 >=7\n",
        "print(aprovado)"
      ],
      "execution_count": null,
      "outputs": []
    },
    {
      "cell_type": "markdown",
      "metadata": {
        "id": "wkYP9pCK7ooN"
      },
      "source": [
        "## Tipo de Dados String\n",
        "\n",
        "O tipo de dados **string** armazenam cadeias de caracteres como nomes e textos em geral. Cadeia de Caractere é uma sequência de símbolos como letras, números, sinais de pontuação, etc. Em python é delimitado por \", ' ou \"\"\".          \n",
        "\n",
        "\n",
        "Ex.: \"O valor é R$ 5.\"\n",
        "\n",
        "![alt text](https://i.ibb.co/rx73pQs/string.png)\n",
        "\n",
        "Toda string tem um tamanho definido.\n",
        "\n",
        "![alt text](https://i.ibb.co/Dz5bNrP/string2.png)\n",
        "\n",
        "A função **len** de Python é utilizado para retornar o tamanho de uma string."
      ]
    },
    {
      "cell_type": "code",
      "metadata": {
        "id": "qYKnccQd9n18"
      },
      "source": [
        "nome = 'Python'\n",
        "# Qual o tamanho da string armazenava da variável 'nome'?\n",
        "print(len(nome))"
      ],
      "execution_count": null,
      "outputs": []
    },
    {
      "cell_type": "code",
      "metadata": {
        "id": "Pbj_5D169wNA"
      },
      "source": [
        "print (len(\"A\"))"
      ],
      "execution_count": null,
      "outputs": []
    },
    {
      "cell_type": "code",
      "metadata": {
        "id": "4LyVYbXm9ymM"
      },
      "source": [
        "print (len(\"AB\"))"
      ],
      "execution_count": null,
      "outputs": []
    },
    {
      "cell_type": "code",
      "metadata": {
        "id": "m6sNdDYy91Ad"
      },
      "source": [
        "print (len(\"\"))"
      ],
      "execution_count": null,
      "outputs": []
    },
    {
      "cell_type": "code",
      "metadata": {
        "id": "Jw7aiqR6-YXd"
      },
      "source": [
        "print (len(\"O rato roeu a roupa\"))"
      ],
      "execution_count": null,
      "outputs": []
    },
    {
      "cell_type": "markdown",
      "metadata": {
        "id": "L8fDDtCH-wgP"
      },
      "source": [
        "Nós também podemos acessar faixas da String.\n",
        "\n",
        "![Indexação](https://i.ibb.co/bd2wQk5/indexacao.png)\n"
      ]
    },
    {
      "cell_type": "code",
      "metadata": {
        "id": "p0-I--U8CNr7"
      },
      "source": [
        "palavra = \"ABCDEF\""
      ],
      "execution_count": null,
      "outputs": []
    },
    {
      "cell_type": "markdown",
      "metadata": {
        "id": "ji5VCsmnC2lN"
      },
      "source": [
        "Vamos primeiro confirmar o tamanho da string"
      ]
    },
    {
      "cell_type": "code",
      "metadata": {
        "id": "u7FGEUeJCZ44"
      },
      "source": [
        "print (len(palavra))"
      ],
      "execution_count": null,
      "outputs": []
    },
    {
      "cell_type": "markdown",
      "metadata": {
        "id": "7ode277FC9Zu"
      },
      "source": [
        "É importante lembrar que a string tem como primeira posição, a posição de índice 0 ."
      ]
    },
    {
      "cell_type": "code",
      "metadata": {
        "id": "B0OVPVwECQYm"
      },
      "source": [
        "print (palavra[0])"
      ],
      "execution_count": null,
      "outputs": []
    },
    {
      "cell_type": "code",
      "metadata": {
        "id": "NvM_jG3TCSlY"
      },
      "source": [
        "print (palavra[5])"
      ],
      "execution_count": null,
      "outputs": []
    },
    {
      "cell_type": "markdown",
      "metadata": {
        "id": "mFV4B8vYCgFn"
      },
      "source": [
        "O que acontecerá se for acessado a posição 6 da string?"
      ]
    },
    {
      "cell_type": "code",
      "metadata": {
        "id": "OUqpHpcSCV8T"
      },
      "source": [
        "print (palavra[6])"
      ],
      "execution_count": null,
      "outputs": []
    },
    {
      "cell_type": "markdown",
      "metadata": {
        "id": "oCqWDwwxDuqy"
      },
      "source": [
        "O erro apresentado pelo interpretador (*String index out of range*) revela que estamos tentando acessar uma posição da String que está fora da faixa acessível. Uma vez que a String tem tamanho 6, os valores possíveis são 0, 1, 2, 3, 4 e 5."
      ]
    },
    {
      "cell_type": "markdown",
      "metadata": {
        "id": "s5PI6su6EMLU"
      },
      "source": [
        "### Concatenação de Strings\n",
        "\n",
        "Os conteúdos de variáveis strings podem ser concatenadas (somadas) ou repetidas. Para fazer tal operação usamos o operador + ou * com String\n"
      ]
    },
    {
      "cell_type": "code",
      "metadata": {
        "id": "--M9lCX1FJ5y"
      },
      "source": [
        "valor1 = \"ABC\"\n",
        "valor2 = \"DEF\""
      ],
      "execution_count": null,
      "outputs": []
    },
    {
      "cell_type": "code",
      "metadata": {
        "id": "RmRjFG7WFP4Q"
      },
      "source": [
        "valor1 + valor2"
      ],
      "execution_count": null,
      "outputs": []
    },
    {
      "cell_type": "code",
      "source": [
        "valor1 + str(3)"
      ],
      "metadata": {
        "id": "R8eWV35HDXqo"
      },
      "execution_count": null,
      "outputs": []
    },
    {
      "cell_type": "code",
      "metadata": {
        "id": "YFVoxdXHFRBK"
      },
      "source": [
        "valor2 * 3"
      ],
      "execution_count": null,
      "outputs": []
    },
    {
      "cell_type": "markdown",
      "metadata": {
        "id": "uglqLhX6FZkh"
      },
      "source": [
        "### Composição de String\n",
        "\n",
        "Juntar várias **strings** para compor uma mensagem nem sempre é fácil. Imagine que você queira exibir a idade de uma pessoa, mas ainda não sabe qual o valor que essa pessoa vai digitar. A mensagem que você quer exibir é:\n",
        "\n",
        "\"João tem x anos\"\n",
        "\n",
        "onde *x* é uma variável no programa. Se quisermos fazer um código que tenha esse comportamento\n",
        "\n"
      ]
    },
    {
      "cell_type": "markdown",
      "metadata": {
        "id": "JSkNnpblHlNM"
      },
      "source": [
        "O grande poder da composição se dar quando precisamos combinar vários valores para formar uma nova string.\n"
      ]
    },
    {
      "cell_type": "markdown",
      "metadata": {
        "id": "4XPBaWRpHv89"
      },
      "source": [
        "Através do método *format* (leia mais em https://docs.python.org/3/library/stdtypes.html#str) é possível fazer composição de strings.\n",
        "\n",
        "\n"
      ]
    },
    {
      "cell_type": "code",
      "metadata": {
        "id": "Kmd4bhOyIDR5"
      },
      "source": [
        "nome = \"Luiz\"\n",
        "idade = 22\n",
        "grana = 51.34\n",
        "\"{} tem {} anos e R${} no bolso\".format(nome, idade, grana)"
      ],
      "execution_count": null,
      "outputs": []
    },
    {
      "cell_type": "markdown",
      "source": [
        "O tipo string possui muitos outros métodos úteis:"
      ],
      "metadata": {
        "id": "uMPGaM-KlSxo"
      }
    },
    {
      "cell_type": "code",
      "metadata": {
        "id": "vkzsLhuwH2W4"
      },
      "source": [
        "palavra = \"casa\""
      ],
      "execution_count": null,
      "outputs": []
    },
    {
      "cell_type": "code",
      "metadata": {
        "id": "0bVCFX3dH5AD"
      },
      "source": [
        "palavra.replace(\"s\", \"ç\")"
      ],
      "execution_count": null,
      "outputs": []
    },
    {
      "cell_type": "code",
      "metadata": {
        "id": "0Im6Xd-RH8Ao"
      },
      "source": [
        "palavra.upper()"
      ],
      "execution_count": null,
      "outputs": []
    },
    {
      "cell_type": "markdown",
      "source": [
        "Sempre é possível acessar a documentação de um tipo de dados ou função através do help()"
      ],
      "metadata": {
        "id": "8VwpxYCEnxlJ"
      }
    },
    {
      "cell_type": "code",
      "source": [
        "help(str)"
      ],
      "metadata": {
        "id": "XeM3uKBpn40K"
      },
      "execution_count": null,
      "outputs": []
    },
    {
      "cell_type": "markdown",
      "metadata": {
        "id": "-dFqIpIwa9kl"
      },
      "source": [
        "A evolução da forma de composição é o chamado *f-strings* , uma nova forma de compor strings em Python."
      ]
    },
    {
      "cell_type": "code",
      "metadata": {
        "id": "3paZC0FgbKbB"
      },
      "source": [
        "nome = \"Rodrigo\"\n",
        "idade = 26\n",
        "grana = 91.33"
      ],
      "execution_count": null,
      "outputs": []
    },
    {
      "cell_type": "code",
      "source": [
        "\"{} tem {} e R${} no bolso\".format(nome, idade, grana)"
      ],
      "metadata": {
        "id": "34x0OqBCFswi"
      },
      "execution_count": null,
      "outputs": []
    },
    {
      "cell_type": "code",
      "metadata": {
        "id": "_LXSvFchbcd9"
      },
      "source": [
        "f\"{nome} tem {idade} e R${grana} no bolso\""
      ],
      "execution_count": null,
      "outputs": []
    },
    {
      "cell_type": "code",
      "metadata": {
        "id": "s7k31s9_bZ9D"
      },
      "source": [
        "f\"{nome:12} tem {idade:3} anos e R${grana:5.2f} no bolso\""
      ],
      "execution_count": null,
      "outputs": []
    },
    {
      "cell_type": "markdown",
      "metadata": {
        "id": "xhwmO7fYfH5L"
      },
      "source": [
        "### Fatiamento de Strings\n",
        "\n",
        "Fatiar significa pegar pedaços da string\n",
        "\n",
        "![Indexação negativa](https://i.ibb.co/4gGs4VB/fatiamento.png)"
      ]
    },
    {
      "cell_type": "code",
      "metadata": {
        "id": "yRsUoCSTfR1d"
      },
      "source": [
        "s = \"ABCDEFGHI\""
      ],
      "execution_count": null,
      "outputs": []
    },
    {
      "cell_type": "code",
      "metadata": {
        "id": "IbBX10kyfTZq"
      },
      "source": [
        "s[0:3]"
      ],
      "execution_count": null,
      "outputs": []
    },
    {
      "cell_type": "code",
      "metadata": {
        "id": "04sf5UnofVbm"
      },
      "source": [
        "s[1:2]"
      ],
      "execution_count": null,
      "outputs": []
    },
    {
      "cell_type": "code",
      "metadata": {
        "id": "S8SVVUjzfX0w"
      },
      "source": [
        "s[2:4]"
      ],
      "execution_count": null,
      "outputs": []
    },
    {
      "cell_type": "code",
      "metadata": {
        "id": "AdmQfqotfZa3"
      },
      "source": [
        "s[0:5]"
      ],
      "execution_count": null,
      "outputs": []
    },
    {
      "cell_type": "markdown",
      "metadata": {
        "id": "P9X-MHmwfd_v"
      },
      "source": [
        "Podemos também omitir um dos valores da direita ou da esquerda para representar início ou até o fim."
      ]
    },
    {
      "cell_type": "code",
      "metadata": {
        "id": "S5clnCrYfe4c"
      },
      "source": [
        "s[:4]"
      ],
      "execution_count": null,
      "outputs": []
    },
    {
      "cell_type": "code",
      "metadata": {
        "id": "Cj7QeEORfgdI"
      },
      "source": [
        "s[2:]"
      ],
      "execution_count": null,
      "outputs": []
    },
    {
      "cell_type": "markdown",
      "metadata": {
        "id": "MCsB6Amqfmtg"
      },
      "source": [
        "Podemos também usar valores negativos para indicar posições da direita para a esquerda.\n",
        "\n",
        "![Indexação negativa](https://i.ibb.co/4gGs4VB/fatiamento.png)"
      ]
    },
    {
      "cell_type": "code",
      "source": [
        "s[8]"
      ],
      "metadata": {
        "id": "Vg9FKPyZHZBH"
      },
      "execution_count": null,
      "outputs": []
    },
    {
      "cell_type": "code",
      "metadata": {
        "id": "D3JLGpGqfn8H"
      },
      "source": [
        "s[-1:]"
      ],
      "execution_count": null,
      "outputs": []
    },
    {
      "cell_type": "code",
      "metadata": {
        "id": "2bu9qPYzfqQN"
      },
      "source": [
        "s[-5:7]"
      ],
      "execution_count": null,
      "outputs": []
    },
    {
      "cell_type": "code",
      "metadata": {
        "id": "xW_MhgyFfrmJ"
      },
      "source": [
        "s[-2:-1]"
      ],
      "execution_count": null,
      "outputs": []
    },
    {
      "cell_type": "markdown",
      "metadata": {
        "id": "mj9Wsy_CP7zm"
      },
      "source": [
        "# Entrada de Dados\n",
        "\n",
        "A função **input** é utilizada para solicitar dados do usuário. Ela recebe um parâmetro que é a mensagem a ser exibida, e retorna o valor digitado pelo usuário. Esse valor retornado é por padrão do tipo String (cadeia de caractere)\n"
      ]
    },
    {
      "cell_type": "code",
      "metadata": {
        "id": "ESDEW3lEQO8b"
      },
      "source": [
        "num = input(\"Digite um número: \")\n",
        "print (num)"
      ],
      "execution_count": null,
      "outputs": []
    },
    {
      "cell_type": "code",
      "metadata": {
        "id": "fc5BFqwAQU3L"
      },
      "source": [
        "nome = input(\"Digite um nome: \")\n",
        "print (nome)"
      ],
      "execution_count": null,
      "outputs": []
    },
    {
      "cell_type": "code",
      "source": [
        "num = int(input(\"Digite um número: \"))\n",
        "#num = float(input(\"Digite um número: \"))\n",
        "resultado = num ** 2\n",
        "print (f\"O resultado da operação é {resultado}\")"
      ],
      "metadata": {
        "id": "kIZpFvl2IX2y"
      },
      "execution_count": null,
      "outputs": []
    },
    {
      "cell_type": "markdown",
      "metadata": {
        "id": "-UZgVTZhQbjw"
      },
      "source": [
        "Como informado anteriormente, a função **input** sempre retorna valores do tipo string, ou seja, não importa se digitamos apenas números, o resultado é sempre uma string.\n",
        "\n",
        "Para resolver esse problema utilizamos funções de conversão disponíveis em Python.\n"
      ]
    },
    {
      "cell_type": "code",
      "metadata": {
        "id": "MOuGoJJ3QmJn"
      },
      "source": [
        "a = \"2\"\n",
        "print (type(a))"
      ],
      "execution_count": null,
      "outputs": []
    },
    {
      "cell_type": "code",
      "metadata": {
        "id": "lfoyW40HQslg"
      },
      "source": [
        "novo_a = int(a)\n",
        "print (type(novo_a))"
      ],
      "execution_count": null,
      "outputs": []
    },
    {
      "cell_type": "markdown",
      "metadata": {
        "id": "5Zk0vPn9Q3IQ"
      },
      "source": [
        "Além da função int(), outras funções de conversão que podem ser utilizadas são:\n",
        "\n",
        "str()  - para converter um valor em string\n",
        "\n",
        "float() - para converter um valor no tipo float\n",
        "\n",
        "bool()  - para converter um valor no tipo booleano\n",
        "\n",
        "Diferentemete de outras linguagens que possuem operadores de *casting*, as funções de Python geram um novo valor do tipo da função de conversão utilizada."
      ]
    },
    {
      "cell_type": "markdown",
      "metadata": {
        "id": "sxARCrCxWsxb"
      },
      "source": [
        "#Leitura Complementar\n",
        "\n",
        "* https://realpython.com/python-data-types/\n",
        "\n",
        "* https://docs.python.org/3/library/stdtypes.html\n",
        "\n",
        "* https://www.journaldev.com/23435/python-complex-numbers-cmath\n",
        "\n",
        "* https://pyformat.info/\n",
        "\n",
        "* https://docs.python.org/3/tutorial/inputoutput.html#tut-f-strings\n",
        "\n",
        "* https://www.python.org/dev/peps/pep-0498/#examples-from-python-s-source-code\n",
        "\n"
      ]
    },
    {
      "cell_type": "markdown",
      "source": [
        "## Sugestões de Questões"
      ],
      "metadata": {
        "id": "A6WS6ha3m3EO"
      }
    },
    {
      "cell_type": "markdown",
      "source": [
        "Faça um programa que calcule a conversão de dinheiro de dólar para\n",
        "reais. Para isso, solicite do usuário a cotação do dólar para compra e\n",
        "quantos dólares ele deseja comprar.\n",
        "\n",
        "• Em seguida o programa deve calcular o valor correspondente em reais e\n",
        "exibir na tela com duas casas decimais.\n",
        "\n",
        "- Informe o valor da cotação do dólar para compra: 4.7905\n",
        "\n",
        "- Quantos dólares você deseja comprar? 50\n",
        "\n",
        "- O preço de U\\$ 50.00 corresponde a R\\$ 239.52 na cotação atual."
      ],
      "metadata": {
        "id": "uUIKC5Gho06L"
      }
    },
    {
      "cell_type": "code",
      "source": [
        "cotacao = float(input(\"Informe o valor da cotação do dólar para compra: \"))\n",
        "quantidade = float(input(\"Quantos dólares você deseja comprar? \"))\n",
        "montante_convertido = cotacao * quantidade\n",
        "print(f\"O preço de U$ {quantidade:.2f} corresponde a R$ {montante_convertido:.2f} na cotação atual.\")"
      ],
      "metadata": {
        "id": "FhqV2OvZpJmt"
      },
      "execution_count": null,
      "outputs": []
    },
    {
      "cell_type": "markdown",
      "source": [
        "![image.png](data:image/png;base64,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)"
      ],
      "metadata": {
        "id": "BNkAbRUsm7ms"
      }
    },
    {
      "cell_type": "code",
      "source": [],
      "metadata": {
        "id": "AWrZGCXInRUH"
      },
      "execution_count": null,
      "outputs": []
    },
    {
      "cell_type": "markdown",
      "source": [
        "![image.png](data:image/png;base64,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)"
      ],
      "metadata": {
        "id": "bJPLyi-mnLIA"
      }
    },
    {
      "cell_type": "code",
      "source": [],
      "metadata": {
        "id": "vGi4A3Pnm_hM"
      },
      "execution_count": null,
      "outputs": []
    }
  ]
}