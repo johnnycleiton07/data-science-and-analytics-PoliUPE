{
  "nbformat": 4,
  "nbformat_minor": 0,
  "metadata": {
    "colab": {
      "private_outputs": true,
      "provenance": []
    },
    "kernelspec": {
      "name": "python3",
      "display_name": "Python 3"
    },
    "language_info": {
      "name": "python"
    }
  },
  "cells": [
    {
      "cell_type": "markdown",
      "source": [
        "# Exercícios sobre Estrutura de Repetição"
      ],
      "metadata": {
        "id": "pn-kofDNVuWa"
      }
    },
    {
      "cell_type": "markdown",
      "source": [
        "1. Faça um programa que leia um numero inteiro positivo *N* e imprima todos os numeros pares de 1 até *N* ordem crescente."
      ],
      "metadata": {
        "id": "h3mxzyTIWFDP"
      }
    },
    {
      "cell_type": "code",
      "execution_count": null,
      "metadata": {
        "id": "dXm61n_iVr42"
      },
      "outputs": [],
      "source": [
        "n = int(input(\"Infome o número N: \"))\n",
        "\n",
        "cont = 1\n",
        "while cont <= n:\n",
        "  if cont % 2  == 0:\n",
        "    print(cont)\n",
        "  cont = cont + 1"
      ]
    },
    {
      "cell_type": "markdown",
      "source": [
        "2. Faça um programa que peça ao usuario para digitar 10 valores e no final apresente a soma dos números digitados."
      ],
      "metadata": {
        "id": "-2wsrxeyV_95"
      }
    },
    {
      "cell_type": "code",
      "source": [
        "cont = 1\n",
        "soma = 0\n",
        "while cont <= 5:\n",
        "  print(f\"Valor parcial da soma: {soma:.2f}\")\n",
        "  valor = float(input(f\"Informe o valor ({cont}): \"))\n",
        "  soma = soma + valor\n",
        "  cont = cont + 1\n",
        "\n",
        "print(f\"A soma é {soma:.2f}\")"
      ],
      "metadata": {
        "id": "S4m54rpbWEeq"
      },
      "execution_count": null,
      "outputs": []
    },
    {
      "cell_type": "markdown",
      "source": [
        "3. Chico tem 1.50 metro e cresce 2 centímetros por ano, enquanto Ze tem 1.10 metros e cresce 3 centímetros por ano. Escreva um programa que calcule e imprima quantos anos serao necessários para que Zé seja maior que Chico."
      ],
      "metadata": {
        "id": "xbh2ifG0Wlbm"
      }
    },
    {
      "cell_type": "code",
      "source": [
        "chico = 1.5\n",
        "ze = 1.1\n",
        "ano = 0\n",
        "while ze <= chico :\n",
        "  chico = chico + 0.02\n",
        "  ze = ze + 0.03\n",
        "  ano = ano + 1\n",
        "\n",
        "print(ano)\n",
        "print(f\"Altura de chico: {chico:.2f}\")\n",
        "print(f\"Altura de Zé: {ze:.2f}\")"
      ],
      "metadata": {
        "id": "bmgNYRW1XUG1"
      },
      "execution_count": null,
      "outputs": []
    },
    {
      "cell_type": "markdown",
      "source": [
        "4. Faça um programa que leia números inteiros positivos menores que 100, calcule e mostre:  \n",
        "\n",
        "(a) A soma dos números digitados  \n",
        "(b) A quantidade de números digitados  \n",
        "(c) A media dos números digitados  \n",
        "(d) O maior número digitado  \n",
        "(e) O menor número digitado  \n",
        "(f) A media dos números pares  \n",
        "\n",
        "Se o número digitado for inválido, indique ao usuário que ele deve digitar um número válido. Finalize a entrada de dados caso o usuário informe o valor 0."
      ],
      "metadata": {
        "id": "X0Whc9J1XUkc"
      }
    },
    {
      "cell_type": "markdown",
      "source": [
        "Break\n",
        "continue"
      ],
      "metadata": {
        "id": "VtjXsSq_MGeA"
      }
    },
    {
      "cell_type": "code",
      "source": [
        "soma = 0\n",
        "quantidade = 0\n",
        "maior = -1\n",
        "menor = 1000\n",
        "\n",
        "soma_pares = 0\n",
        "qtd_pares = 0\n",
        "\n",
        "while True:\n",
        "  numero = int(input(\"Informe o numero: \"))\n",
        "\n",
        "  if numero == 0:\n",
        "    break\n",
        "  elif numero < 0 or numero > 100:\n",
        "    print(\"Informe um número válido (1, 100)!\")\n",
        "    continue\n",
        "\n",
        "  #Operações\n",
        "  if numero > maior:\n",
        "    maior = numero\n",
        "\n",
        "  if numero < menor:\n",
        "    menor = numero\n",
        "\n",
        "  if numero % 2 == 0:\n",
        "    soma_pares = soma_pares + numero\n",
        "    qtd_pares = qtd_pares + 1\n",
        "\n",
        "  soma = soma + numero\n",
        "  quantidade = quantidade + 1\n",
        "\n",
        "print(\"Exibindo as respostas...\")\n",
        "print(f\"A soma total foi: {soma:.2f}\")\n",
        "print(f\"A quantidade de números é {quantidade}\")\n",
        "print(f\"A média de números é {soma/quantidade:.2f}\")\n",
        "print(f\"O maior número é {maior}, o menor número é {menor}.\")\n",
        "print(f\"A quantidade de pares é {qtd_pares} e a média deles é {soma_pares/qtd_pares:.2f}\")"
      ],
      "metadata": {
        "id": "dazO4dSFYKcd"
      },
      "execution_count": null,
      "outputs": []
    }
  ]
}