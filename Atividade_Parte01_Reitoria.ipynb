{
  "cells": [
    {
      "cell_type": "markdown",
      "metadata": {
        "id": "view-in-github",
        "colab_type": "text"
      },
      "source": [
        "<a href=\"https://colab.research.google.com/github/johnnycleiton07/data-science-and-analytics-PoliUPE/blob/main/Atividade_Parte01_Reitoria.ipynb\" target=\"_parent\"><img src=\"https://colab.research.google.com/assets/colab-badge.svg\" alt=\"Open In Colab\"/></a>"
      ]
    },
    {
      "cell_type": "markdown",
      "source": [
        "**Aluno**:\n",
        "\n",
        "- Johnny"
      ],
      "metadata": {
        "id": "K3WVv-SjbiLG"
      }
    },
    {
      "cell_type": "markdown",
      "metadata": {
        "id": "DVEozxMjq4qT"
      },
      "source": [
        "## Introduzindo Operações Básicas com Tipos Numéricos e Booleanos"
      ]
    },
    {
      "cell_type": "markdown",
      "metadata": {
        "id": "k3RWYbNB5clO"
      },
      "source": [
        "1 - Compute a saída da seguinte expressão matemática sem realizar nenhuma simplificação:\n",
        "$ a^{2} + \\frac{3}{4} \\times b \\times 987(c - \\frac{10^{-9}}{\\sqrt{0.5^{3}}}) $. Assuma que os valores das variáveis a, b e c correpondam a 2, 4 e 8, respectivamente. Armazene o resultado em uma variável.\n",
        "\n",
        "Dica: consulte os operadores aritméticos disponíveis no Python. Utilize a biblioteca math para operação de raiz."
      ]
    },
    {
      "cell_type": "code",
      "execution_count": null,
      "metadata": {
        "id": "Y6UcwvJw57MC",
        "colab": {
          "base_uri": "https://localhost:8080/"
        },
        "outputId": "3772bd9a-5e83-49c3-9614-d83132bcd6d6"
      },
      "outputs": [
        {
          "output_type": "stream",
          "name": "stdout",
          "text": [
            "23691.999991625027\n"
          ]
        }
      ],
      "source": [
        "# Insira a resposta abaixo.\n",
        "import math\n",
        "\n",
        "a = 2\n",
        "b = 4\n",
        "c = 8\n",
        "\n",
        "resultado = a**2 + (3/4) * b * 987 * (c - (10**-9) / math.sqrt(0.5**3))\n",
        "print (resultado)"
      ]
    },
    {
      "cell_type": "markdown",
      "metadata": {
        "id": "YTUAjlIWVM6C"
      },
      "source": [
        "2 - Armazene em uma variável o resto da divisão da expressão anterior por 23691."
      ]
    },
    {
      "cell_type": "code",
      "execution_count": null,
      "metadata": {
        "id": "hPB1-d0GVM_9",
        "colab": {
          "base_uri": "https://localhost:8080/"
        },
        "outputId": "ffb276f4-1866-475a-c4e3-60af0c0221c1"
      },
      "outputs": [
        {
          "output_type": "stream",
          "name": "stdout",
          "text": [
            "0.9999916250271781\n"
          ]
        }
      ],
      "source": [
        "# Insira a resposta abaixo.\n",
        "resto = resultado % 23691\n",
        "print (resto)"
      ]
    },
    {
      "cell_type": "markdown",
      "metadata": {
        "id": "Xddy2CmgIqzJ"
      },
      "source": [
        "3 - Cheque se a saída do resto da divisão é ***i) igual a 1***, ***ii) maior que 1***, ***iii) menor ou igual que 1*** e ***iv) diferente de 1***. Utilize a função *print* para exibir a saída de cada checagem. Consulte os operadores relacionais disponívels no Python.\n",
        "> Não precisa usar estrutura de decisão, apenas a expressão com o operador relacional"
      ]
    },
    {
      "cell_type": "code",
      "execution_count": null,
      "metadata": {
        "id": "HfNOkdqdJMVG",
        "colab": {
          "base_uri": "https://localhost:8080/"
        },
        "outputId": "92da3920-21cb-4063-a02f-0b18d014099f"
      },
      "outputs": [
        {
          "output_type": "stream",
          "name": "stdout",
          "text": [
            "False\n",
            "False\n",
            "True\n",
            "True\n"
          ]
        }
      ],
      "source": [
        "# Insira a resposta abaixo.\n",
        "print (resto == 1)\n",
        "print (resto > 1)\n",
        "print (resto <= 1)\n",
        "print (resto != 1)"
      ]
    },
    {
      "cell_type": "markdown",
      "metadata": {
        "id": "OhCPDEUc6INz"
      },
      "source": [
        "4 - Escreva a seguinte expressão booleana **(A + B) . (¬B . A)**. Considere que \"+\" indica uma operação  OR; \".\" indica uma operação AND e ''¬'' indica uma operação de negação (NOT). Defina previamente a variávei *A* com valor verdadeiro e a variávei *B* com valor falso."
      ]
    },
    {
      "cell_type": "code",
      "execution_count": null,
      "metadata": {
        "id": "uDy9e_grMP2m",
        "colab": {
          "base_uri": "https://localhost:8080/"
        },
        "outputId": "0f533e3d-f89b-44f6-d3c6-2be5f7087698"
      },
      "outputs": [
        {
          "output_type": "stream",
          "name": "stdout",
          "text": [
            "True\n"
          ]
        }
      ],
      "source": [
        "# Insira a resposta abaixo.\n",
        "a = True\n",
        "b = False\n",
        "\n",
        "booleano = (a or b) and (not(b and a))\n",
        "print (booleano)\n"
      ]
    },
    {
      "cell_type": "markdown",
      "metadata": {
        "id": "WqIZVzrCpuqp"
      },
      "source": [
        "## Introduzindo Operações com Strings\n",
        "\n",
        "Dica: você pode utilizar a função *help(arg)* para visualizar os métodos que podem ser acessados a partir de uma variável de um tipo qualquer.\n",
        "\n",
        "Segue abaixo alguns exemplos:\n",
        "\n",
        "```\n",
        "# Exemplo usando como argumento a função que representa o tipo de dado\n",
        "help(str)\n",
        "\n",
        "# Exemplo usando uma variavel qualquer\n",
        "a = \"teste\"\n",
        "help(a)\n",
        "\n",
        "# Exemplo utilizando uma variavel do tipo dicionário\n",
        "dicionario = {\"chave\":\"valor\"}\n",
        "help(dicionario)\n",
        "\n",
        "\n",
        "```\n",
        "Você também pode usar a documentação do tipo string\n",
        "https://docs.python.org/pt-br/3/library/stdtypes.html#string-methods\n"
      ]
    },
    {
      "cell_type": "code",
      "source": [
        "help(str)"
      ],
      "metadata": {
        "colab": {
          "base_uri": "https://localhost:8080/"
        },
        "id": "8rrjm16WqOkw",
        "outputId": "dc93facf-e7ce-4e9c-9ce3-3354cb9b33a9"
      },
      "execution_count": null,
      "outputs": [
        {
          "output_type": "stream",
          "name": "stdout",
          "text": [
            "Help on class str in module builtins:\n",
            "\n",
            "class str(object)\n",
            " |  str(object='') -> str\n",
            " |  str(bytes_or_buffer[, encoding[, errors]]) -> str\n",
            " |\n",
            " |  Create a new string object from the given object. If encoding or\n",
            " |  errors is specified, then the object must expose a data buffer\n",
            " |  that will be decoded using the given encoding and error handler.\n",
            " |  Otherwise, returns the result of object.__str__() (if defined)\n",
            " |  or repr(object).\n",
            " |  encoding defaults to sys.getdefaultencoding().\n",
            " |  errors defaults to 'strict'.\n",
            " |\n",
            " |  Methods defined here:\n",
            " |\n",
            " |  __add__(self, value, /)\n",
            " |      Return self+value.\n",
            " |\n",
            " |  __contains__(self, key, /)\n",
            " |      Return bool(key in self).\n",
            " |\n",
            " |  __eq__(self, value, /)\n",
            " |      Return self==value.\n",
            " |\n",
            " |  __format__(self, format_spec, /)\n",
            " |      Return a formatted version of the string as described by format_spec.\n",
            " |\n",
            " |  __ge__(self, value, /)\n",
            " |      Return self>=value.\n",
            " |\n",
            " |  __getitem__(self, key, /)\n",
            " |      Return self[key].\n",
            " |\n",
            " |  __getnewargs__(...)\n",
            " |\n",
            " |  __gt__(self, value, /)\n",
            " |      Return self>value.\n",
            " |\n",
            " |  __hash__(self, /)\n",
            " |      Return hash(self).\n",
            " |\n",
            " |  __iter__(self, /)\n",
            " |      Implement iter(self).\n",
            " |\n",
            " |  __le__(self, value, /)\n",
            " |      Return self<=value.\n",
            " |\n",
            " |  __len__(self, /)\n",
            " |      Return len(self).\n",
            " |\n",
            " |  __lt__(self, value, /)\n",
            " |      Return self<value.\n",
            " |\n",
            " |  __mod__(self, value, /)\n",
            " |      Return self%value.\n",
            " |\n",
            " |  __mul__(self, value, /)\n",
            " |      Return self*value.\n",
            " |\n",
            " |  __ne__(self, value, /)\n",
            " |      Return self!=value.\n",
            " |\n",
            " |  __repr__(self, /)\n",
            " |      Return repr(self).\n",
            " |\n",
            " |  __rmod__(self, value, /)\n",
            " |      Return value%self.\n",
            " |\n",
            " |  __rmul__(self, value, /)\n",
            " |      Return value*self.\n",
            " |\n",
            " |  __sizeof__(self, /)\n",
            " |      Return the size of the string in memory, in bytes.\n",
            " |\n",
            " |  __str__(self, /)\n",
            " |      Return str(self).\n",
            " |\n",
            " |  capitalize(self, /)\n",
            " |      Return a capitalized version of the string.\n",
            " |\n",
            " |      More specifically, make the first character have upper case and the rest lower\n",
            " |      case.\n",
            " |\n",
            " |  casefold(self, /)\n",
            " |      Return a version of the string suitable for caseless comparisons.\n",
            " |\n",
            " |  center(self, width, fillchar=' ', /)\n",
            " |      Return a centered string of length width.\n",
            " |\n",
            " |      Padding is done using the specified fill character (default is a space).\n",
            " |\n",
            " |  count(...)\n",
            " |      S.count(sub[, start[, end]]) -> int\n",
            " |\n",
            " |      Return the number of non-overlapping occurrences of substring sub in\n",
            " |      string S[start:end].  Optional arguments start and end are\n",
            " |      interpreted as in slice notation.\n",
            " |\n",
            " |  encode(self, /, encoding='utf-8', errors='strict')\n",
            " |      Encode the string using the codec registered for encoding.\n",
            " |\n",
            " |      encoding\n",
            " |        The encoding in which to encode the string.\n",
            " |      errors\n",
            " |        The error handling scheme to use for encoding errors.\n",
            " |        The default is 'strict' meaning that encoding errors raise a\n",
            " |        UnicodeEncodeError.  Other possible values are 'ignore', 'replace' and\n",
            " |        'xmlcharrefreplace' as well as any other name registered with\n",
            " |        codecs.register_error that can handle UnicodeEncodeErrors.\n",
            " |\n",
            " |  endswith(...)\n",
            " |      S.endswith(suffix[, start[, end]]) -> bool\n",
            " |\n",
            " |      Return True if S ends with the specified suffix, False otherwise.\n",
            " |      With optional start, test S beginning at that position.\n",
            " |      With optional end, stop comparing S at that position.\n",
            " |      suffix can also be a tuple of strings to try.\n",
            " |\n",
            " |  expandtabs(self, /, tabsize=8)\n",
            " |      Return a copy where all tab characters are expanded using spaces.\n",
            " |\n",
            " |      If tabsize is not given, a tab size of 8 characters is assumed.\n",
            " |\n",
            " |  find(...)\n",
            " |      S.find(sub[, start[, end]]) -> int\n",
            " |\n",
            " |      Return the lowest index in S where substring sub is found,\n",
            " |      such that sub is contained within S[start:end].  Optional\n",
            " |      arguments start and end are interpreted as in slice notation.\n",
            " |\n",
            " |      Return -1 on failure.\n",
            " |\n",
            " |  format(...)\n",
            " |      S.format(*args, **kwargs) -> str\n",
            " |\n",
            " |      Return a formatted version of S, using substitutions from args and kwargs.\n",
            " |      The substitutions are identified by braces ('{' and '}').\n",
            " |\n",
            " |  format_map(...)\n",
            " |      S.format_map(mapping) -> str\n",
            " |\n",
            " |      Return a formatted version of S, using substitutions from mapping.\n",
            " |      The substitutions are identified by braces ('{' and '}').\n",
            " |\n",
            " |  index(...)\n",
            " |      S.index(sub[, start[, end]]) -> int\n",
            " |\n",
            " |      Return the lowest index in S where substring sub is found,\n",
            " |      such that sub is contained within S[start:end].  Optional\n",
            " |      arguments start and end are interpreted as in slice notation.\n",
            " |\n",
            " |      Raises ValueError when the substring is not found.\n",
            " |\n",
            " |  isalnum(self, /)\n",
            " |      Return True if the string is an alpha-numeric string, False otherwise.\n",
            " |\n",
            " |      A string is alpha-numeric if all characters in the string are alpha-numeric and\n",
            " |      there is at least one character in the string.\n",
            " |\n",
            " |  isalpha(self, /)\n",
            " |      Return True if the string is an alphabetic string, False otherwise.\n",
            " |\n",
            " |      A string is alphabetic if all characters in the string are alphabetic and there\n",
            " |      is at least one character in the string.\n",
            " |\n",
            " |  isascii(self, /)\n",
            " |      Return True if all characters in the string are ASCII, False otherwise.\n",
            " |\n",
            " |      ASCII characters have code points in the range U+0000-U+007F.\n",
            " |      Empty string is ASCII too.\n",
            " |\n",
            " |  isdecimal(self, /)\n",
            " |      Return True if the string is a decimal string, False otherwise.\n",
            " |\n",
            " |      A string is a decimal string if all characters in the string are decimal and\n",
            " |      there is at least one character in the string.\n",
            " |\n",
            " |  isdigit(self, /)\n",
            " |      Return True if the string is a digit string, False otherwise.\n",
            " |\n",
            " |      A string is a digit string if all characters in the string are digits and there\n",
            " |      is at least one character in the string.\n",
            " |\n",
            " |  isidentifier(self, /)\n",
            " |      Return True if the string is a valid Python identifier, False otherwise.\n",
            " |\n",
            " |      Call keyword.iskeyword(s) to test whether string s is a reserved identifier,\n",
            " |      such as \"def\" or \"class\".\n",
            " |\n",
            " |  islower(self, /)\n",
            " |      Return True if the string is a lowercase string, False otherwise.\n",
            " |\n",
            " |      A string is lowercase if all cased characters in the string are lowercase and\n",
            " |      there is at least one cased character in the string.\n",
            " |\n",
            " |  isnumeric(self, /)\n",
            " |      Return True if the string is a numeric string, False otherwise.\n",
            " |\n",
            " |      A string is numeric if all characters in the string are numeric and there is at\n",
            " |      least one character in the string.\n",
            " |\n",
            " |  isprintable(self, /)\n",
            " |      Return True if all characters in the string are printable, False otherwise.\n",
            " |\n",
            " |      A character is printable if repr() may use it in its output.\n",
            " |\n",
            " |  isspace(self, /)\n",
            " |      Return True if the string is a whitespace string, False otherwise.\n",
            " |\n",
            " |      A string is whitespace if all characters in the string are whitespace and there\n",
            " |      is at least one character in the string.\n",
            " |\n",
            " |  istitle(self, /)\n",
            " |      Return True if the string is a title-cased string, False otherwise.\n",
            " |\n",
            " |      In a title-cased string, upper- and title-case characters may only\n",
            " |      follow uncased characters and lowercase characters only cased ones.\n",
            " |\n",
            " |  isupper(self, /)\n",
            " |      Return True if the string is an uppercase string, False otherwise.\n",
            " |\n",
            " |      A string is uppercase if all cased characters in the string are uppercase and\n",
            " |      there is at least one cased character in the string.\n",
            " |\n",
            " |  join(self, iterable, /)\n",
            " |      Concatenate any number of strings.\n",
            " |\n",
            " |      The string whose method is called is inserted in between each given string.\n",
            " |      The result is returned as a new string.\n",
            " |\n",
            " |      Example: '.'.join(['ab', 'pq', 'rs']) -> 'ab.pq.rs'\n",
            " |\n",
            " |  ljust(self, width, fillchar=' ', /)\n",
            " |      Return a left-justified string of length width.\n",
            " |\n",
            " |      Padding is done using the specified fill character (default is a space).\n",
            " |\n",
            " |  lower(self, /)\n",
            " |      Return a copy of the string converted to lowercase.\n",
            " |\n",
            " |  lstrip(self, chars=None, /)\n",
            " |      Return a copy of the string with leading whitespace removed.\n",
            " |\n",
            " |      If chars is given and not None, remove characters in chars instead.\n",
            " |\n",
            " |  partition(self, sep, /)\n",
            " |      Partition the string into three parts using the given separator.\n",
            " |\n",
            " |      This will search for the separator in the string.  If the separator is found,\n",
            " |      returns a 3-tuple containing the part before the separator, the separator\n",
            " |      itself, and the part after it.\n",
            " |\n",
            " |      If the separator is not found, returns a 3-tuple containing the original string\n",
            " |      and two empty strings.\n",
            " |\n",
            " |  removeprefix(self, prefix, /)\n",
            " |      Return a str with the given prefix string removed if present.\n",
            " |\n",
            " |      If the string starts with the prefix string, return string[len(prefix):].\n",
            " |      Otherwise, return a copy of the original string.\n",
            " |\n",
            " |  removesuffix(self, suffix, /)\n",
            " |      Return a str with the given suffix string removed if present.\n",
            " |\n",
            " |      If the string ends with the suffix string and that suffix is not empty,\n",
            " |      return string[:-len(suffix)]. Otherwise, return a copy of the original\n",
            " |      string.\n",
            " |\n",
            " |  replace(self, old, new, count=-1, /)\n",
            " |      Return a copy with all occurrences of substring old replaced by new.\n",
            " |\n",
            " |        count\n",
            " |          Maximum number of occurrences to replace.\n",
            " |          -1 (the default value) means replace all occurrences.\n",
            " |\n",
            " |      If the optional argument count is given, only the first count occurrences are\n",
            " |      replaced.\n",
            " |\n",
            " |  rfind(...)\n",
            " |      S.rfind(sub[, start[, end]]) -> int\n",
            " |\n",
            " |      Return the highest index in S where substring sub is found,\n",
            " |      such that sub is contained within S[start:end].  Optional\n",
            " |      arguments start and end are interpreted as in slice notation.\n",
            " |\n",
            " |      Return -1 on failure.\n",
            " |\n",
            " |  rindex(...)\n",
            " |      S.rindex(sub[, start[, end]]) -> int\n",
            " |\n",
            " |      Return the highest index in S where substring sub is found,\n",
            " |      such that sub is contained within S[start:end].  Optional\n",
            " |      arguments start and end are interpreted as in slice notation.\n",
            " |\n",
            " |      Raises ValueError when the substring is not found.\n",
            " |\n",
            " |  rjust(self, width, fillchar=' ', /)\n",
            " |      Return a right-justified string of length width.\n",
            " |\n",
            " |      Padding is done using the specified fill character (default is a space).\n",
            " |\n",
            " |  rpartition(self, sep, /)\n",
            " |      Partition the string into three parts using the given separator.\n",
            " |\n",
            " |      This will search for the separator in the string, starting at the end. If\n",
            " |      the separator is found, returns a 3-tuple containing the part before the\n",
            " |      separator, the separator itself, and the part after it.\n",
            " |\n",
            " |      If the separator is not found, returns a 3-tuple containing two empty strings\n",
            " |      and the original string.\n",
            " |\n",
            " |  rsplit(self, /, sep=None, maxsplit=-1)\n",
            " |      Return a list of the substrings in the string, using sep as the separator string.\n",
            " |\n",
            " |        sep\n",
            " |          The separator used to split the string.\n",
            " |\n",
            " |          When set to None (the default value), will split on any whitespace\n",
            " |          character (including \\n \\r \\t \\f and spaces) and will discard\n",
            " |          empty strings from the result.\n",
            " |        maxsplit\n",
            " |          Maximum number of splits.\n",
            " |          -1 (the default value) means no limit.\n",
            " |\n",
            " |      Splitting starts at the end of the string and works to the front.\n",
            " |\n",
            " |  rstrip(self, chars=None, /)\n",
            " |      Return a copy of the string with trailing whitespace removed.\n",
            " |\n",
            " |      If chars is given and not None, remove characters in chars instead.\n",
            " |\n",
            " |  split(self, /, sep=None, maxsplit=-1)\n",
            " |      Return a list of the substrings in the string, using sep as the separator string.\n",
            " |\n",
            " |        sep\n",
            " |          The separator used to split the string.\n",
            " |\n",
            " |          When set to None (the default value), will split on any whitespace\n",
            " |          character (including \\n \\r \\t \\f and spaces) and will discard\n",
            " |          empty strings from the result.\n",
            " |        maxsplit\n",
            " |          Maximum number of splits.\n",
            " |          -1 (the default value) means no limit.\n",
            " |\n",
            " |      Splitting starts at the front of the string and works to the end.\n",
            " |\n",
            " |      Note, str.split() is mainly useful for data that has been intentionally\n",
            " |      delimited.  With natural text that includes punctuation, consider using\n",
            " |      the regular expression module.\n",
            " |\n",
            " |  splitlines(self, /, keepends=False)\n",
            " |      Return a list of the lines in the string, breaking at line boundaries.\n",
            " |\n",
            " |      Line breaks are not included in the resulting list unless keepends is given and\n",
            " |      true.\n",
            " |\n",
            " |  startswith(...)\n",
            " |      S.startswith(prefix[, start[, end]]) -> bool\n",
            " |\n",
            " |      Return True if S starts with the specified prefix, False otherwise.\n",
            " |      With optional start, test S beginning at that position.\n",
            " |      With optional end, stop comparing S at that position.\n",
            " |      prefix can also be a tuple of strings to try.\n",
            " |\n",
            " |  strip(self, chars=None, /)\n",
            " |      Return a copy of the string with leading and trailing whitespace removed.\n",
            " |\n",
            " |      If chars is given and not None, remove characters in chars instead.\n",
            " |\n",
            " |  swapcase(self, /)\n",
            " |      Convert uppercase characters to lowercase and lowercase characters to uppercase.\n",
            " |\n",
            " |  title(self, /)\n",
            " |      Return a version of the string where each word is titlecased.\n",
            " |\n",
            " |      More specifically, words start with uppercased characters and all remaining\n",
            " |      cased characters have lower case.\n",
            " |\n",
            " |  translate(self, table, /)\n",
            " |      Replace each character in the string using the given translation table.\n",
            " |\n",
            " |        table\n",
            " |          Translation table, which must be a mapping of Unicode ordinals to\n",
            " |          Unicode ordinals, strings, or None.\n",
            " |\n",
            " |      The table must implement lookup/indexing via __getitem__, for instance a\n",
            " |      dictionary or list.  If this operation raises LookupError, the character is\n",
            " |      left untouched.  Characters mapped to None are deleted.\n",
            " |\n",
            " |  upper(self, /)\n",
            " |      Return a copy of the string converted to uppercase.\n",
            " |\n",
            " |  zfill(self, width, /)\n",
            " |      Pad a numeric string with zeros on the left, to fill a field of the given width.\n",
            " |\n",
            " |      The string is never truncated.\n",
            " |\n",
            " |  ----------------------------------------------------------------------\n",
            " |  Static methods defined here:\n",
            " |\n",
            " |  __new__(*args, **kwargs)\n",
            " |      Create and return a new object.  See help(type) for accurate signature.\n",
            " |\n",
            " |  maketrans(...)\n",
            " |      Return a translation table usable for str.translate().\n",
            " |\n",
            " |      If there is only one argument, it must be a dictionary mapping Unicode\n",
            " |      ordinals (integers) or characters to Unicode ordinals, strings or None.\n",
            " |      Character keys will be then converted to ordinals.\n",
            " |      If there are two arguments, they must be strings of equal length, and\n",
            " |      in the resulting dictionary, each character in x will be mapped to the\n",
            " |      character at the same position in y. If there is a third argument, it\n",
            " |      must be a string, whose characters will be mapped to None in the result.\n",
            "\n"
          ]
        }
      ]
    },
    {
      "cell_type": "markdown",
      "metadata": {
        "id": "V_Du1ew3MXy8"
      },
      "source": [
        "5 - Defina uma variável com o valor \"hello wORld\". Utilize as funções de string do Python para reproduzir as seguintes saídas: \"Hello World\", \"hello world\", \"HELLO WORLD\".  Dica: para visualizar as funções disponíveis digite em uma célula de código `'str' ` e em seguida tecle tab.\n"
      ]
    },
    {
      "cell_type": "code",
      "execution_count": null,
      "metadata": {
        "id": "tRPJVsT0tbsh",
        "colab": {
          "base_uri": "https://localhost:8080/"
        },
        "outputId": "396d02fc-12d6-4a80-8029-c84f26ed4be8"
      },
      "outputs": [
        {
          "output_type": "stream",
          "name": "stdout",
          "text": [
            "Hello World\n",
            "hello world\n",
            "HELLO WORLD\n"
          ]
        }
      ],
      "source": [
        "# Insira a resposta abaixo.\n",
        "hello_world = \"hello wORld\"\n",
        "\n",
        "print (hello_world.title())\n",
        "print (hello_world.lower())\n",
        "print (hello_world.upper())"
      ]
    },
    {
      "cell_type": "markdown",
      "metadata": {
        "id": "-x6qgUMjN4Po"
      },
      "source": [
        "6 - Dada a seguinte frase \" *Esse é o seu primeiro tweet.* \", remova os espaços em branco das extremidades. Em seguida, substitua a palavra *'primeiro'* por *'segundo'*.\n",
        "\n",
        "\n",
        "\n",
        "**Observação:** a operação para remoção de espaços não atua em um modo '*in-place*', isto é, não altera diretamente o objeto, apenas retorna uma cópia modificada que pode ser armazenada em uma variável. A seguir, pode-se conferir um exemplo de uma operação que não é in-place e requer que assinalemos uma variável para receber a modificação."
      ]
    },
    {
      "cell_type": "code",
      "execution_count": null,
      "metadata": {
        "id": "j-5VN4jTy3vn",
        "colab": {
          "base_uri": "https://localhost:8080/"
        },
        "outputId": "22747916-18b5-4a80-c568-9cac9f23d965"
      },
      "outputs": [
        {
          "output_type": "stream",
          "name": "stdout",
          "text": [
            "teste\n",
            "testa\n"
          ]
        }
      ],
      "source": [
        "# EXEMPLO: operação que não atua em modo 'in-place'\n",
        "\n",
        "a = 'teste'\n",
        "\n",
        "# primeiro caso\n",
        "a.replace('ste', 'sta')\n",
        "print(a)\n",
        "\n",
        "# segundo caso\n",
        "a = a.replace('ste', 'sta')\n",
        "print(a)"
      ]
    },
    {
      "cell_type": "code",
      "execution_count": null,
      "metadata": {
        "id": "FStrq8MgO-w1",
        "colab": {
          "base_uri": "https://localhost:8080/"
        },
        "outputId": "6ed36d40-6fb8-4d67-8ed2-63c3d3dd81d8"
      },
      "outputs": [
        {
          "output_type": "stream",
          "name": "stdout",
          "text": [
            "Esse é o seu segundo tweet\n"
          ]
        }
      ],
      "source": [
        "# Insira a resposta abaixo.\n",
        "frase = \" Esse é o seu primeiro tweet \"\n",
        "frase_sem_espaco = frase.strip()\n",
        "frase_final = frase_sem_espaco.replace(\"primeiro\", \"segundo\")\n",
        "\n",
        "print (frase_final)"
      ]
    },
    {
      "cell_type": "markdown",
      "metadata": {
        "id": "-hy5Hx4mjKpZ"
      },
      "source": [
        "7 - Fazendo uso do resultado da questão anterior, exiba a quantidade de ocorrências da palavra *'segundo'* e em seguida a quantidade de caracteres *'s'*. Dica: existe um método na string que permite a contagem de ocorrências de uma determinada string."
      ]
    },
    {
      "cell_type": "code",
      "execution_count": null,
      "metadata": {
        "id": "2bqwnWxo2brg",
        "colab": {
          "base_uri": "https://localhost:8080/"
        },
        "outputId": "d46302ec-0f3f-4c0c-a36a-83c5ddf06225"
      },
      "outputs": [
        {
          "output_type": "stream",
          "name": "stdout",
          "text": [
            "A palavra segundo aparece 1 vez(es)\n",
            "A letra S aparece 4 vez(es) na frase\n"
          ]
        }
      ],
      "source": [
        "# Insira a resposta abaixo.\n",
        "count_segundo = frase_final.count(\"segundo\")\n",
        "count_s = frase_final.count(\"s\")\n",
        "\n",
        "print (f\"A palavra segundo aparece {count_segundo} vez(es)\")\n",
        "print (f\"A letra S aparece {count_s} vez(es) na frase\")"
      ]
    },
    {
      "cell_type": "markdown",
      "metadata": {
        "id": "Ah4Io41N3q5w"
      },
      "source": [
        "8 - Concatene duas variáveis do tipo strings com valores arbitrários e exiba o resultado.\n",
        "\n",
        "**Observação:** A string resultante deve possuir no mínimo quatro caracteres."
      ]
    },
    {
      "cell_type": "code",
      "execution_count": null,
      "metadata": {
        "id": "VQklMBD-2agi",
        "colab": {
          "base_uri": "https://localhost:8080/"
        },
        "outputId": "0f7e794f-d571-4cb7-b4de-9af5d1bb7397"
      },
      "outputs": [
        {
          "output_type": "stream",
          "name": "stdout",
          "text": [
            "maçã verde\n"
          ]
        }
      ],
      "source": [
        "# Insira a resposta abaixo.\n",
        "fruta = \"maçã\"\n",
        "cor = \"verde\"\n",
        "\n",
        "resultado = fruta + \" \" + cor\n",
        "print (resultado)"
      ]
    },
    {
      "cell_type": "markdown",
      "metadata": {
        "id": "-8Oy9MrNDJPV"
      },
      "source": [
        "9 - Utilize a indexação e exiba apenas do segundo ao quarto caractere da variável do tipo string resultante questão imediatamente anterior."
      ]
    },
    {
      "cell_type": "code",
      "execution_count": null,
      "metadata": {
        "id": "1qQLmrNrDXmM",
        "colab": {
          "base_uri": "https://localhost:8080/"
        },
        "outputId": "ad26ff24-47c6-47f6-da38-32aea364ee07"
      },
      "outputs": [
        {
          "output_type": "stream",
          "name": "stdout",
          "text": [
            "açã\n"
          ]
        }
      ],
      "source": [
        "# Insira a resposta abaixo.\n",
        "print (resultado[1:4])\n"
      ]
    },
    {
      "cell_type": "markdown",
      "metadata": {
        "id": "KsBiozVOxEEF"
      },
      "source": [
        "10 - Exiba a string \"Mensagem: \" seguida pela string armazenada na variável *msg* definida abaixo. Dica: utilize a função format() ou *f-string*."
      ]
    },
    {
      "cell_type": "code",
      "execution_count": null,
      "metadata": {
        "id": "nRqtTDFTxDuL",
        "colab": {
          "base_uri": "https://localhost:8080/"
        },
        "outputId": "88e296c8-a1c1-4f3a-9d59-9b923c9d4f92"
      },
      "outputs": [
        {
          "output_type": "stream",
          "name": "stdout",
          "text": [
            "Mensagem: This is your first tweet.\n",
            "Mensagem: This is your first tweet.\n"
          ]
        }
      ],
      "source": [
        "msg = \"This is your first tweet.\"\n",
        "# Insira a resposta abaixo.\n",
        "\n",
        "#f-string\n",
        "print (f\"Mensagem: {msg}\")\n",
        "\n",
        "#format()\n",
        "print(\"Mensagem: {}\".format(msg))"
      ]
    },
    {
      "cell_type": "markdown",
      "metadata": {
        "id": "6afUv7-Q8XRT"
      },
      "source": [
        "11  - Reproduza as próximas três mensagens a partir das variáveis definidas na célula de código."
      ]
    },
    {
      "cell_type": "markdown",
      "metadata": {
        "id": "j4__WoXI_XGe"
      },
      "source": [
        "**Mensagem**: Definir uma string com três aspas simples permite construir textos com quebra de linha automática."
      ]
    },
    {
      "cell_type": "code",
      "execution_count": null,
      "metadata": {
        "id": "Iluu-cdN_WSD",
        "colab": {
          "base_uri": "https://localhost:8080/"
        },
        "outputId": "804aed62-bf91-42e4-da70-16cd0e9195bb"
      },
      "outputs": [
        {
          "output_type": "stream",
          "name": "stdout",
          "text": [
            "Definir uma string com três aspas simples permite construir textos com quebra de linha automática\n",
            "Definir uma string com três aspas simples permite construir textos com quebra de linha automática\n"
          ]
        }
      ],
      "source": [
        "tipo_var = \"string\"\n",
        "qtd = \"três\"\n",
        "# Insira a resposta abaixo.\n",
        "print (f\"Definir uma {tipo_var} com {qtd} aspas simples permite construir textos com quebra de linha automática\")\n",
        "print (\"Definir uma {} com {} aspas simples permite construir textos com quebra de linha automática\".format(tipo_var, qtd))\n"
      ]
    },
    {
      "cell_type": "markdown",
      "metadata": {
        "id": "9bj-p6aVAYSF"
      },
      "source": [
        "**Mensagem**:  O número pi é aproximadamente 3.14"
      ]
    },
    {
      "cell_type": "code",
      "execution_count": null,
      "metadata": {
        "id": "cUJ1s40-8UIu",
        "colab": {
          "base_uri": "https://localhost:8080/"
        },
        "outputId": "612efa69-90a9-4db5-c92f-1ef4fe991de9"
      },
      "outputs": [
        {
          "output_type": "stream",
          "name": "stdout",
          "text": [
            "O número pi é aproximadamente 3.14\n",
            "O número pi é aproximadamente 3.14\n"
          ]
        }
      ],
      "source": [
        "pi = 3.14159\n",
        "# Insira a resposta abaixo.\n",
        "\n",
        "# f-string\n",
        "print(f\"O número pi é aproximadamente {pi:.2f}\")\n",
        "\n",
        "#  format()\n",
        "print(\"O número pi é aproximadamente {:.2f}\".format(pi))\n"
      ]
    },
    {
      "cell_type": "markdown",
      "metadata": {
        "id": "pkdZ39rrhx4q"
      },
      "source": [
        "**Mensagem**: O meu nome é [*receber string via input*] e eu tenho [*receber inteiro via input*] anos."
      ]
    },
    {
      "cell_type": "code",
      "execution_count": null,
      "metadata": {
        "id": "8ukjvm0ghyD1",
        "colab": {
          "base_uri": "https://localhost:8080/"
        },
        "outputId": "04bb07b5-75d1-4880-a344-c73e6495e38f"
      },
      "outputs": [
        {
          "output_type": "stream",
          "name": "stdout",
          "text": [
            "nome: luis\n",
            "idade: 23\n",
            "O meu nome é luis e eu tenho 23 anos\n",
            "O meu nome é luis e eu tenho 23 anos\n"
          ]
        }
      ],
      "source": [
        "# Insira a resposta abaixo.\n",
        "nome = (input(\"nome: \"))\n",
        "idade = (input(\"idade: \"))\n",
        "\n",
        "print (f\"O meu nome é {nome} e eu tenho {idade} anos\")\n",
        "print (\"O meu nome é {} e eu tenho {} anos\".format(nome, idade))\n"
      ]
    },
    {
      "cell_type": "markdown",
      "metadata": {
        "id": "WKfYhv8Cqr4u"
      },
      "source": [
        "## Introduzindo Estruturas de Dados\n",
        "\n",
        "Nessa sessão serão exploradas as estruturas de dados do tipo lista, tupla e dicionário. Para realizar os exercícios abaixos baseados em listas podem ser utilizados métodos como *sum(arg), extend(), reverse(), append(), insert(index, element), sort()*."
      ]
    },
    {
      "cell_type": "markdown",
      "metadata": {
        "id": "jdd5yFSNrljL"
      },
      "source": [
        "### Listas"
      ]
    },
    {
      "cell_type": "markdown",
      "metadata": {
        "id": "NUOrqskrkZdF"
      },
      "source": [
        "12 - Realize as seguintes operações:\n",
        "\n",
        "\n",
        "1. Crie uma lista vazia.\n",
        "2. Adicione três elementos do tipo inteiro ao final da lista (*o método para adição de novos elementos em uma lista atua de forma in-place, portanto, basta invocá-lo.*).\n",
        "3. Adicione um novo elemento na segunda posição da lista (*método in-place).\n",
        "4. Exiba a soma dos quatro elementos (*python já possui uma função built-in para esssa operação*.)\n",
        "5. Re-assinale o elemento da terceiro posição com um valor do tipo float.\n",
        "6. Repita o passo 4.\n",
        "7. Inverta os elementos da lista atual. (*função para inversão é in-place*)\n",
        "8. Re-ordene os elementos da lista.\n",
        "9. Armazene uma nova lista em uma variável qualquer com 2 números inteiros.\n",
        "10. Concatena a nova lista criada com a lista resultante do passo 7.\n",
        "11. Exiba o valor máximo e mínimo da resultante do passo anterior.\n"
      ]
    },
    {
      "cell_type": "code",
      "execution_count": null,
      "metadata": {
        "id": "7-HFpK9RtwHb",
        "colab": {
          "base_uri": "https://localhost:8080/"
        },
        "outputId": "10ab98d7-0188-47bc-de35-d93a6c35ea4d"
      },
      "outputs": [
        {
          "output_type": "stream",
          "name": "stdout",
          "text": [
            "Soma dos elementos: 11\n",
            "Soma atualizada: 34.5\n",
            "Lista invertida: [3, 25.5, 5, 1]\n",
            "Lista ordenada: [1, 3, 5, 25.5]\n",
            "Lista concatenada: [1, 3, 5, 25.5, 10, 20]\n",
            "Valor máximo: 25.5\n",
            "Valor mínimo: 1\n"
          ]
        }
      ],
      "source": [
        "# Insira a resposta abaixo.\n",
        "\n",
        "#1\n",
        "lista = []\n",
        "\n",
        "#2\n",
        "lista.append(1)\n",
        "lista.append(2)\n",
        "lista.append(3)\n",
        "\n",
        "#3\n",
        "lista.insert(1, 5)\n",
        "\n",
        "#4\n",
        "print(\"Soma dos elementos:\", sum(lista))\n",
        "\n",
        "#5\n",
        "lista[2] = 25.5\n",
        "\n",
        "#6\n",
        "print(\"Soma atualizada:\", sum(lista))\n",
        "\n",
        "#7\n",
        "lista.reverse()\n",
        "print(\"Lista invertida:\", lista)\n",
        "\n",
        "#8\n",
        "lista.sort()\n",
        "print(\"Lista ordenada:\", lista)\n",
        "\n",
        "#9\n",
        "nova_lista = [10, 20]\n",
        "\n",
        "#10\n",
        "lista_final = lista + nova_lista\n",
        "print(\"Lista concatenada:\", lista_final)\n",
        "\n",
        "#11\n",
        "print(\"Valor máximo:\", max(lista_final))\n",
        "print(\"Valor mínimo:\", min(lista_final))"
      ]
    },
    {
      "cell_type": "markdown",
      "metadata": {
        "id": "0Z5yLIA2hDW3"
      },
      "source": [
        "13 - Converta a string definida abaixo em uma lista de palavras, armazene a lista em uma variável. Dica: cheque as operações disponíveis para strings."
      ]
    },
    {
      "cell_type": "code",
      "execution_count": null,
      "metadata": {
        "id": "ZBsyU1D7hDfA",
        "colab": {
          "base_uri": "https://localhost:8080/"
        },
        "outputId": "bdb04e14-eaf5-46cf-f85c-37ed86d260f4"
      },
      "outputs": [
        {
          "output_type": "stream",
          "name": "stdout",
          "text": [
            "['Formação', 'de', 'Recursos', 'Humanos', 'Qualificados', 'em', 'Inteligência', 'Artificial']\n"
          ]
        }
      ],
      "source": [
        "frase = \"Formação de Recursos Humanos Qualificados em Inteligência Artificial\"\n",
        "# Insira a resposta abaixo.\n",
        "print (frase.split())\n"
      ]
    },
    {
      "cell_type": "markdown",
      "metadata": {
        "id": "Ty3XskmQl95g"
      },
      "source": [
        "14 - Verifique se a palavra \"Humanos\" está contida na lista de palavras criada anteriormente. Exiba True ou False para indicar a resposta."
      ]
    },
    {
      "cell_type": "code",
      "execution_count": null,
      "metadata": {
        "id": "qHQtRHw7l9_q",
        "colab": {
          "base_uri": "https://localhost:8080/"
        },
        "outputId": "a36d3d34-e0a3-437b-abbe-fd0cd93a30f3"
      },
      "outputs": [
        {
          "output_type": "stream",
          "name": "stdout",
          "text": [
            "True\n"
          ]
        }
      ],
      "source": [
        "# Insira a resposta abaixo.\n",
        "print(\"Humanos\" in frase)"
      ]
    },
    {
      "cell_type": "markdown",
      "metadata": {
        "id": "GJVq-7Fzo0Xo"
      },
      "source": [
        "15 - Crie automaticamente uma lista contendo 50 elementos de valor 3 e armazene-a em uma variável. Dica: utilize o operador de multiplicação."
      ]
    },
    {
      "cell_type": "code",
      "execution_count": null,
      "metadata": {
        "id": "dORyLchqo0fE",
        "colab": {
          "base_uri": "https://localhost:8080/"
        },
        "outputId": "7a7cc6d6-a1b5-4df8-e1e6-c7554dbcad7f"
      },
      "outputs": [
        {
          "output_type": "stream",
          "name": "stdout",
          "text": [
            "[3, 3, 3, 3, 3, 3, 3, 3, 3, 3, 3, 3, 3, 3, 3, 3, 3, 3, 3, 3, 3, 3, 3, 3, 3, 3, 3, 3, 3, 3, 3, 3, 3, 3, 3, 3, 3, 3, 3, 3, 3, 3, 3, 3, 3, 3, 3, 3, 3, 3]\n"
          ]
        }
      ],
      "source": [
        "# Insira a resposta abaixo.\n",
        "lista = [3] * 50\n",
        "\n",
        "print(lista)"
      ]
    },
    {
      "cell_type": "markdown",
      "metadata": {
        "id": "tjXYlf9drhd-"
      },
      "source": [
        "### Tuplas"
      ]
    },
    {
      "cell_type": "markdown",
      "metadata": {
        "id": "mK1S6LhTx8NT"
      },
      "source": [
        "16 - Converta a lista resultante da primeira questão sobre Listas para uma tupla e exiba o tipo de dados do objeto criado. Após realizar o casting, utilize a indexação para exibir todos os elementos com exceção do primeiro e último."
      ]
    },
    {
      "cell_type": "code",
      "execution_count": null,
      "metadata": {
        "id": "VRRDYbbAx7ti",
        "colab": {
          "base_uri": "https://localhost:8080/"
        },
        "outputId": "89e8b92d-16e0-42f8-db0e-daf2bc5a1f71"
      },
      "outputs": [
        {
          "output_type": "stream",
          "name": "stdout",
          "text": [
            "<class 'tuple'>\n",
            "(3, 5, 25.5, 10)\n"
          ]
        }
      ],
      "source": [
        "# Insira a resposta abaixo.\n",
        "tupla = tuple(lista_final)\n",
        "print (type(tupla))\n",
        "\n",
        "# slicing para pegar do segundo elemento até o penúltimo\n",
        "print (tupla[1:-1])"
      ]
    },
    {
      "cell_type": "markdown",
      "metadata": {
        "id": "ItO6S8D2_FlO"
      },
      "source": [
        "17 - Exiba os atributos/métodos disponíveis a partir objetos do tipo lista e tuple utilizados na questão anterior. Dica: utilize a função dir."
      ]
    },
    {
      "cell_type": "code",
      "execution_count": null,
      "metadata": {
        "id": "gQt0x4--twHo",
        "colab": {
          "base_uri": "https://localhost:8080/"
        },
        "outputId": "bc69256a-a8b9-406f-bc9a-88c017708e96"
      },
      "outputs": [
        {
          "output_type": "stream",
          "name": "stdout",
          "text": [
            "Métodos para listas:\n",
            "['__add__', '__class__', '__class_getitem__', '__contains__', '__delattr__', '__delitem__', '__dir__', '__doc__', '__eq__', '__format__', '__ge__', '__getattribute__', '__getitem__', '__getstate__', '__gt__', '__hash__', '__iadd__', '__imul__', '__init__', '__init_subclass__', '__iter__', '__le__', '__len__', '__lt__', '__mul__', '__ne__', '__new__', '__reduce__', '__reduce_ex__', '__repr__', '__reversed__', '__rmul__', '__setattr__', '__setitem__', '__sizeof__', '__str__', '__subclasshook__', 'append', 'clear', 'copy', 'count', 'extend', 'index', 'insert', 'pop', 'remove', 'reverse', 'sort']\n",
            "\n",
            "Métodos para tuplas:\n",
            "['__add__', '__class__', '__class_getitem__', '__contains__', '__delattr__', '__dir__', '__doc__', '__eq__', '__format__', '__ge__', '__getattribute__', '__getitem__', '__getnewargs__', '__getstate__', '__gt__', '__hash__', '__init__', '__init_subclass__', '__iter__', '__le__', '__len__', '__lt__', '__mul__', '__ne__', '__new__', '__reduce__', '__reduce_ex__', '__repr__', '__rmul__', '__setattr__', '__sizeof__', '__str__', '__subclasshook__', 'count', 'index']\n"
          ]
        }
      ],
      "source": [
        "# Insira a resposta abaixo.\n",
        "\n",
        "print(\"Métodos para listas:\")\n",
        "print(dir(lista_final))\n",
        "\n",
        "print(\"\\nMétodos para tuplas:\")\n",
        "print(dir(tupla))\n"
      ]
    },
    {
      "cell_type": "markdown",
      "metadata": {
        "id": "vl1jgOxQtwHp"
      },
      "source": [
        "18 - Crie uma tupla contendo 5 números inteiros quaisquer. Em seguida, exiba o valor máximo e o valor mínimo da tupla criada."
      ]
    },
    {
      "cell_type": "code",
      "execution_count": null,
      "metadata": {
        "id": "Y8EZf8ZCtwHp",
        "colab": {
          "base_uri": "https://localhost:8080/"
        },
        "outputId": "507f145b-0f63-46ed-9864-cc563ceb9537"
      },
      "outputs": [
        {
          "output_type": "stream",
          "name": "stdout",
          "text": [
            "Valor máximo da Tupla: 5\n",
            "Vamor mínimo da Tupla: 1\n"
          ]
        }
      ],
      "source": [
        "# Insira a resposta abaixo.\n",
        "nova_tupla = (1, 2, 3, 4, 5)\n",
        "print (f\"Valor máximo da Tupla: {max(nova_tupla)}\")\n",
        "print (f\"Vamor mínimo da Tupla: {min(nova_tupla)}\")"
      ]
    },
    {
      "cell_type": "markdown",
      "metadata": {
        "id": "BaCwt9hTrafF"
      },
      "source": [
        "### Dicionários"
      ]
    },
    {
      "cell_type": "markdown",
      "metadata": {
        "id": "lSpj33z39Wej"
      },
      "source": [
        "19 - A partir do dicionário inicializado abaixo com quatro items, adicione três novos items com chaves \"three\", \"four\" e \"five\" e valores \"três\", \"quatro\" e \"cinco\"."
      ]
    },
    {
      "cell_type": "code",
      "execution_count": null,
      "metadata": {
        "id": "3Bomk_PZ9W2g"
      },
      "outputs": [],
      "source": [
        "my_dict = {}\n",
        "my_dict[\"one\"] = \"um\"\n",
        "my_dict[\"two\"] = \"dois\"\n",
        "my_dict[(1,2)] = [\"um\",\"dois\"]\n",
        "my_dict[1.3] = \"um ponto três\"\n",
        "\n",
        "my_dict[\"three\"] = \"três\"\n",
        "my_dict[\"four\"] = \"quatro\"\n",
        "my_dict[\"five\"] = \"cinco\""
      ]
    },
    {
      "cell_type": "markdown",
      "metadata": {
        "id": "KXFvgEp-twHp"
      },
      "source": [
        "20 - A partir do dicionário definido anteriormente, remova o item (\"one\", \"um\") do dicionário."
      ]
    },
    {
      "cell_type": "code",
      "execution_count": null,
      "metadata": {
        "id": "YuuzDIuXtwHq",
        "colab": {
          "base_uri": "https://localhost:8080/"
        },
        "outputId": "eaff4f5c-422a-485b-bfc7-2bc773fa3303"
      },
      "outputs": [
        {
          "output_type": "stream",
          "name": "stdout",
          "text": [
            "{'two': 'dois', (1, 2): ['um', 'dois'], 1.3: 'um ponto três', 'three': 'três', 'four': 'quatro', 'five': 'cinco'}\n"
          ]
        }
      ],
      "source": [
        "# Insira a resposta abaixo\n",
        "my_dict.pop(\"one\")\n",
        "\n",
        "print (my_dict)"
      ]
    },
    {
      "cell_type": "markdown",
      "metadata": {
        "id": "Pl1J-LIM9XHl"
      },
      "source": [
        "21 - A partir do dicionário definido anteriormente, realize as seguintes operações ordenadamente.\n",
        "\n",
        "1.   Exiba a quantidade de items do dicionário.\n",
        "2.   Gere automaticamente uma lista contendo as  chaves do dicionário.\n",
        "3.   Gere automaticamente uma lista contendo os valores do dicionário.\n",
        "4.   Gere automaticamente uma lista composta por tuplas do tipo (chave, valor).\n",
        "5.   Remova os items cuja chaves são (1,2) e 1.3.\n",
        "6.   Exiba o dicionário final\n",
        "\n",
        "\n",
        "\n",
        "\n",
        "\n"
      ]
    },
    {
      "cell_type": "code",
      "execution_count": null,
      "metadata": {
        "id": "SJBytyCftwHq",
        "colab": {
          "base_uri": "https://localhost:8080/"
        },
        "outputId": "5edbac97-ed10-4eb8-9eb5-b437de69325e"
      },
      "outputs": [
        {
          "output_type": "stream",
          "name": "stdout",
          "text": [
            "O dicionário possui 6 itens\n",
            "Lista de chaves: ['two', (1, 2), 1.3, 'three', 'four', 'five']\n",
            "Lista de valores: ['dois', ['um', 'dois'], 'um ponto três', 'três', 'quatro', 'cinco']\n",
            "lista de tuplas: [('two', 'dois'), ((1, 2), ['um', 'dois']), (1.3, 'um ponto três'), ('three', 'três'), ('four', 'quatro'), ('five', 'cinco')]\n",
            "Dicionário final: {'two': 'dois', 'three': 'três', 'four': 'quatro', 'five': 'cinco'}\n"
          ]
        }
      ],
      "source": [
        "# Insira a resposta abaixo\n",
        "\n",
        "# Passo 1\n",
        "print (f\"O dicionário possui {len(my_dict)} itens\")\n",
        "\n",
        "# Passo 2\n",
        "my_dict_keys = list(my_dict.keys())\n",
        "print (f\"Lista de chaves: {my_dict_keys}\")\n",
        "\n",
        "# Passo 3\n",
        "my_dict_values = list(my_dict.values())\n",
        "print (f\"Lista de valores: {my_dict_values}\")\n",
        "\n",
        "# Passo 4\n",
        "my_dict_items = list(my_dict.items())\n",
        "print (f\"lista de tuplas: {my_dict_items}\")\n",
        "\n",
        "# Passo 5\n",
        "my_dict.pop((1,2))\n",
        "my_dict.pop(1.3)\n",
        "\n",
        "\n",
        "# Passo 6\n",
        "print(\"Dicionário final:\", my_dict)\n"
      ]
    },
    {
      "cell_type": "markdown",
      "metadata": {
        "id": "iNDUUfFPqNsC"
      },
      "source": [
        "22 - A partir dos dicionários '*en*' e '*pt_br*' definidos abaixo, crie um terceiro dicionário denominado '*translator*' cujas chaves são, respectivamente, 'en' e 'pt_br' e os valores sejam os dicionários correspondentes. Exiba o dicionário criado."
      ]
    },
    {
      "cell_type": "code",
      "execution_count": null,
      "metadata": {
        "id": "iIv7lR8zqNy1",
        "colab": {
          "base_uri": "https://localhost:8080/"
        },
        "outputId": "a2d8a46a-1fd6-494c-9272-50d99a77e707"
      },
      "outputs": [
        {
          "output_type": "stream",
          "name": "stdout",
          "text": [
            "{'pt_br': {1: 'um', 2: 'dois', 3: 'tres'}, 'en': {1: 'one', 2: 'two', 3: 'three'}}\n"
          ]
        }
      ],
      "source": [
        "pt_br = {1:\"um\", 2:\"dois\", 3:\"tres\"}\n",
        "en = {1:\"one\", 2:\"two\", 3:\"three\"}\n",
        "\n",
        "# Insira a resposta abaixo\n",
        "translator = {\"pt_br\":pt_br, \"en\":en}\n",
        "print (translator)\n"
      ]
    },
    {
      "cell_type": "markdown",
      "source": [
        "resultado esperado\n",
        "```\n",
        "{ \"pt_br\" : {1:\"um\", 2:\"dois\", 3:\"tres\"}, \"en\" : {1:\"one\", 2:\"two\", 3:\"three\"}}\n",
        "```"
      ],
      "metadata": {
        "id": "-6WFsdAaQQj-"
      }
    },
    {
      "cell_type": "markdown",
      "metadata": {
        "id": "cK-nN01LpxwW"
      },
      "source": [
        "### Estruturas de Decisão"
      ]
    },
    {
      "cell_type": "markdown",
      "metadata": {
        "id": "PDkLty8ayY9p"
      },
      "source": [
        "23 - Utilize estruturas de decisão se-senão para construir um script que simule a árvore de decisão disposta na figura abaixo. Para cada nó da árvore, o usuário deve fornecer um valor a ser armazenado em uma variável e utilizado para verificar o fluxo que deve ser seguido até atingir uma das folha, exibindo algum dos valores \"Opção 1\", \"Opção 2\" ou \"Opção 3\".\n",
        "\n",
        "\n",
        "![alt text](https://docs.google.com/uc?export=download&id=1i5518GVTI9vh3proj3C1dblBXOJtHAvP)"
      ]
    },
    {
      "cell_type": "code",
      "execution_count": null,
      "metadata": {
        "id": "YjVkjZGCyZAi",
        "colab": {
          "base_uri": "https://localhost:8080/"
        },
        "outputId": "54311e4e-a838-4697-bc85-ec45ed6df46c"
      },
      "outputs": [
        {
          "output_type": "stream",
          "name": "stdout",
          "text": [
            "x1: 2\n",
            "x2: 4\n",
            "x3: 5\n",
            "Opção 2\n"
          ]
        }
      ],
      "source": [
        "# Insira a resposta abaixo.\n",
        "# NÓ 1\n",
        "x1 = float(input(\"x1: \"))\n",
        "\n",
        "if (x1 > 3.77):\n",
        "  print (\"Opção 1\")\n",
        "\n",
        "else:\n",
        "  # NÓ 2\n",
        "  x2 = float(input(\"x2: \"))\n",
        "  if (x2 > 0.5):\n",
        "    # NÓ 3\n",
        "    x3 = float(input(\"x3: \"))\n",
        "    if (x3 >= 0.78):\n",
        "      print (\"Opção 2\")\n",
        "    else:\n",
        "      print (\"Opção 1\")\n",
        "\n",
        "  else:\n",
        "    # NÓ 4\n",
        "    x4 = float(input(\"x4: \"))\n",
        "    if (x4 < 0.5) and (x4 > 0.25):\n",
        "      print (\"Opção 1\")\n",
        "    elif (x4 == 0.5):\n",
        "      print (\"Opção 3\")\n",
        "    elif (x4 > 0.5) or (x4 <= 0.5):\n",
        "      print (\"Opção 2\")"
      ]
    },
    {
      "cell_type": "markdown",
      "metadata": {
        "id": "b-Td-fgNp2HM"
      },
      "source": [
        "### Estruturas de Repetição\n",
        "\n",
        "for (with range), while, list comprehension"
      ]
    },
    {
      "cell_type": "markdown",
      "metadata": {
        "id": "mIhOW0di8iZh"
      },
      "source": [
        "24 - Crie um programa que receba do usuário uma entrada referente a string \"Please, type 'q' to quit\". Enquanto o usuário não digitar o caractere 'q', o programa deve exibir \"Sorry, try again.\" e continuar solicitando a informação. Dica: utilize o comando break para interrupção."
      ]
    },
    {
      "cell_type": "code",
      "execution_count": null,
      "metadata": {
        "id": "BKxPv3BB8ihm",
        "colab": {
          "base_uri": "https://localhost:8080/"
        },
        "outputId": "854262d6-adce-46f4-c710-6f387121b5aa"
      },
      "outputs": [
        {
          "name": "stdout",
          "output_type": "stream",
          "text": [
            "Please, type 'q' to quit: e\n",
            "Sorry, try again\n",
            "Please, type 'q' to quit: u\n",
            "Sorry, try again\n",
            "Please, type 'q' to quit: iooo\n",
            "Sorry, try again\n",
            "Please, type 'q' to quit: q\n"
          ]
        }
      ],
      "source": [
        "# Insira a resposta abaixo.\n",
        "entrada = \"a\"\n",
        "\n",
        "while entrada != \"q\":\n",
        "  entrada = input(\"Please, type 'q' to quit: \")\n",
        "  if (entrada == \"q\"):\n",
        "    break\n",
        "  else:\n",
        "    print (\"Sorry, try again\")\n"
      ]
    },
    {
      "cell_type": "markdown",
      "metadata": {
        "id": "nnA67LDY8iqI"
      },
      "source": [
        "25 - Crie um programa que imprima apenas os números ímpares entre 1 e 100."
      ]
    },
    {
      "cell_type": "code",
      "execution_count": null,
      "metadata": {
        "id": "2_x3vAUe8izO",
        "colab": {
          "base_uri": "https://localhost:8080/"
        },
        "outputId": "d623befb-cad1-410e-f5d3-a6b6a3beed23"
      },
      "outputs": [
        {
          "output_type": "stream",
          "name": "stdout",
          "text": [
            "1\n",
            "3\n",
            "5\n",
            "7\n",
            "9\n",
            "11\n",
            "13\n",
            "15\n",
            "17\n",
            "19\n",
            "21\n",
            "23\n",
            "25\n",
            "27\n",
            "29\n",
            "31\n",
            "33\n",
            "35\n",
            "37\n",
            "39\n",
            "41\n",
            "43\n",
            "45\n",
            "47\n",
            "49\n",
            "51\n",
            "53\n",
            "55\n",
            "57\n",
            "59\n",
            "61\n",
            "63\n",
            "65\n",
            "67\n",
            "69\n",
            "71\n",
            "73\n",
            "75\n",
            "77\n",
            "79\n",
            "81\n",
            "83\n",
            "85\n",
            "87\n",
            "89\n",
            "91\n",
            "93\n",
            "95\n",
            "97\n",
            "99\n"
          ]
        }
      ],
      "source": [
        "# Insira a resposta abaixo.\n",
        "for i in range(101):\n",
        "  if (i % 2) != 0:\n",
        "    print (i)\n"
      ]
    },
    {
      "cell_type": "markdown",
      "metadata": {
        "id": "m0QJ9fIe7rOl"
      },
      "source": [
        "26 - A partir da lista definida abaixo, crie uma nova lista contendo apenas os números negativos. Dica: considere utilizar o modo list comprehension."
      ]
    },
    {
      "cell_type": "code",
      "execution_count": null,
      "metadata": {
        "id": "CHAeZEOw7rWc",
        "colab": {
          "base_uri": "https://localhost:8080/"
        },
        "outputId": "daba37fb-852a-4b32-f70d-07bba442726b"
      },
      "outputs": [
        {
          "output_type": "stream",
          "name": "stdout",
          "text": [
            "[-6, -22, -17, -21, -11]\n"
          ]
        }
      ],
      "source": [
        "lista = [-6, 21, -22, 4, -17, -21, 22, -11, 3, 28]\n",
        "# Insira a resposta abaixo.\n",
        "\n",
        "# [expressão for item in iterável if condição]\n",
        "lista_negativos = [num for num in lista if num < 0]\n",
        "print (lista_negativos)"
      ]
    },
    {
      "cell_type": "markdown",
      "metadata": {
        "id": "-S18HnsCtKqj"
      },
      "source": [
        "## Funções"
      ]
    },
    {
      "cell_type": "markdown",
      "metadata": {
        "id": "cA_GKn6o46WH"
      },
      "source": [
        "27 - Crie uma função que calcule o fatorial de um número passado como argumento. Caso o número seja negativo, retorne um valor nulo. Caso positivo, retorne o resultado do fatorial. Dica: utilize recursividade e lembre-se de considerar que o fatorial de 0 é 1.\n"
      ]
    },
    {
      "cell_type": "code",
      "execution_count": null,
      "metadata": {
        "id": "_hs1s18U45_P",
        "colab": {
          "base_uri": "https://localhost:8080/"
        },
        "outputId": "b32e4928-3615-4415-d247-d7ae548c9c26"
      },
      "outputs": [
        {
          "output_type": "stream",
          "name": "stdout",
          "text": [
            "Digite o número: 5\n",
            "120\n"
          ]
        }
      ],
      "source": [
        "# Insira a resposta abaixo\n",
        "numero = int(input(\"Digite o número: \"))\n",
        "\n",
        "def fatorial(n):\n",
        "    if n < 0:\n",
        "      # caso o número seja negativo, retorne um valor nulo\n",
        "        return None\n",
        "    elif n == 0:\n",
        "      # lembre-se de considerar que o fatorial de 0 é 1\n",
        "      return 1\n",
        "    else:\n",
        "      # caso positivo, retorne o resultado do fatorial\n",
        "      return n * fatorial(n - 1)\n",
        "\n",
        "print(fatorial(numero))"
      ]
    },
    {
      "cell_type": "markdown",
      "metadata": {
        "id": "XiVGNaWwEBRl"
      },
      "source": [
        "28 - Define uma função que receba um número arbitrário de argumentos e retorne a sua soma. Exiba o resultado de uma chamada dessa função passando como argumentos números inteiros."
      ]
    },
    {
      "cell_type": "code",
      "execution_count": 1,
      "metadata": {
        "id": "0SmmOKbJIw-X",
        "colab": {
          "base_uri": "https://localhost:8080/"
        },
        "outputId": "185a2f82-965e-4a1d-fa58-286de7e0d385"
      },
      "outputs": [
        {
          "output_type": "stream",
          "name": "stdout",
          "text": [
            "25\n"
          ]
        }
      ],
      "source": [
        "# Insira a resposta abaixo.\n",
        "def soma_total(*args):\n",
        "    return sum(args)\n",
        "\n",
        "resultado = soma_total(3, 7, 10, 5)\n",
        "print(resultado)"
      ]
    },
    {
      "cell_type": "markdown",
      "metadata": {
        "id": "vbGhkdcjp5cm"
      },
      "source": [
        "### Funções Especiais\n",
        "\n",
        "Nessa sessão serão explorados exercícios baseados em funções especiais do Python, tais como range, lambda, map, filter, enumerate e zip."
      ]
    },
    {
      "cell_type": "markdown",
      "metadata": {
        "id": "wHkgbW1ICOp_"
      },
      "source": [
        "29 - Utilize a função *range* para criar uma lista de números inteiros que vai de 100 a -100, seguindo uma ordem decrescente e com intervalos de duas unidades. Exiba a lista gerada."
      ]
    },
    {
      "cell_type": "code",
      "execution_count": 2,
      "metadata": {
        "id": "s01McQtz1Szd",
        "colab": {
          "base_uri": "https://localhost:8080/"
        },
        "outputId": "fa877e8c-9ff5-44d5-ece6-18210702ee2b"
      },
      "outputs": [
        {
          "output_type": "stream",
          "name": "stdout",
          "text": [
            "[100, 98, 96, 94, 92, 90, 88, 86, 84, 82, 80, 78, 76, 74, 72, 70, 68, 66, 64, 62, 60, 58, 56, 54, 52, 50, 48, 46, 44, 42, 40, 38, 36, 34, 32, 30, 28, 26, 24, 22, 20, 18, 16, 14, 12, 10, 8, 6, 4, 2, 0, -2, -4, -6, -8, -10, -12, -14, -16, -18, -20, -22, -24, -26, -28, -30, -32, -34, -36, -38, -40, -42, -44, -46, -48, -50, -52, -54, -56, -58, -60, -62, -64, -66, -68, -70, -72, -74, -76, -78, -80, -82, -84, -86, -88, -90, -92, -94, -96, -98, -100]\n"
          ]
        }
      ],
      "source": [
        "# Insira a resposta abaixo.\n",
        "numeros = list(range(100, -101, -2))\n",
        "print(numeros)"
      ]
    },
    {
      "cell_type": "markdown",
      "metadata": {
        "id": "qh2Wc1d5_r4S"
      },
      "source": [
        "30 - Uma pesquisa de satisfação dos empregados de uma determinada empresa reuniu dados referente a um questionário no qual foi computado o nível de satisfação do empregado em relação ao salário recebido. Os valores salariais estão armazenados na variávei 'salarios' e pontuação do questionário está armazenada na variável 'satisfacao_empregado'. Realize os seguintes procedimentos.\n",
        "\n",
        "1. A partir da lista satisfacao_empregados, gere uma nova lista com valores normalizados entre 0 e 1.  Fórmula para normalização: $ \\frac{x_i - x_{min}}{x_{max} - x_{min}} $\n",
        "2. Crie a seguinte função: $ f(x) = 0.0004x -0.4 $. A função recebe como entrada um unico número inteiro. Use lambda para definir essa função.\n",
        "3. Utilize a função criada no passo anterior para criar uma nova lista a partir da lista '*salarios*'. Armazene-a em uma variável denominada '*satisfacao_estimada*'.\n",
        "4. Crie uma função que receba como entrada duas listas e compute $ \\frac{1}{n}\\sum_{i=0}^{n}(a_i - b_i)^2 $. Assuma que $n$ seja o número de elementos de qualquer uma das listas e $a$ e $b$ correspondam a valores das listas em uma mesma posição $i$.\n",
        "\n",
        "Dica: considere utilizar a função map e a função anônima lambda para os procedimentos simples como, por exemplo, dos passos 1 ao 3."
      ]
    },
    {
      "cell_type": "code",
      "execution_count": 3,
      "metadata": {
        "id": "MoGWCkce_r_6",
        "colab": {
          "base_uri": "https://localhost:8080/"
        },
        "outputId": "6a27d1ff-cb3c-40ae-9c98-ce224f958bb6"
      },
      "outputs": [
        {
          "output_type": "stream",
          "name": "stdout",
          "text": [
            "2.5679065925163142e-33\n"
          ]
        }
      ],
      "source": [
        "# Insira a resposta abaixo.\n",
        "salarios = [1000, 1500, 2000, 2500, 3000, 3500]\n",
        "satisfacao_empregados = [40, 50, 60, 70, 80, 90]\n",
        "\n",
        "# Insira abaixo a funcao para normalizar a lista satisfacao_empregados\n",
        "normalizar = lambda lista: list(map(lambda x: (x - min(lista)) / (max(lista) - min(lista)), lista))\n",
        "satisfacao_empregados_normalizado = normalizar(satisfacao_empregados)\n",
        "\n",
        "# Insira abaixo a funcao para calcular a satisfacao\n",
        "f = lambda x: 0.0004 * x - 0.4\n",
        "\n",
        "# passo 3\n",
        "satisfacao_estimada = list(map(f, salarios))\n",
        "\n",
        "# Insira a funcao para calcular o erro quadratico minimo\n",
        "erro_medio = lambda a, b: (1 / len(a)) * sum(map(lambda x, y: (x - y) ** 2, a, b))\n",
        "\n",
        "\n",
        "print(erro_medio(satisfacao_empregados_normalizado, satisfacao_estimada))"
      ]
    },
    {
      "cell_type": "markdown",
      "metadata": {
        "id": "UxrISLw--kIE"
      },
      "source": [
        "31 - A partir da lista definida abaixo, filtre-a de forma que somente as palavras com menos de 3 caracteres sejam mantidas. Dica: utilize a função filter."
      ]
    },
    {
      "cell_type": "code",
      "execution_count": 4,
      "metadata": {
        "id": "onMCh04A-kQF",
        "colab": {
          "base_uri": "https://localhost:8080/"
        },
        "outputId": "f387b6a8-3b26-4649-a798-205e9bdfcf73"
      },
      "outputs": [
        {
          "output_type": "stream",
          "name": "stdout",
          "text": [
            "['a.', 'mi', 'eu', 'Ut', 'ut', 'a', 'at', 'in', 'et', 'ac']\n"
          ]
        }
      ],
      "source": [
        "lista = ['tempor', 'erat,', 'in,', 'elit', 'Etiam', 'tincidunt.', 'rutrum', 'ut,', 'lacinia', 'Integer', 'Nam', 'turpis', 'Nulla', 'non.', 'vehicula', 'diam', 'porttitor', 'blandit', 'Sed', 'pharetra', 'erat', 'hendrerit', 'tristique', 'vulputate', 'faucibus.', 'augue.', 'potenti.', 'vel', 'eros', 'imperdiet,', 'a.', 'dolor.', 'pretium', 'Fusce', 'sit', 'ornare', 'Morbi', 'quis', 'fringilla', 'lobortis', 'tempus', 'mauris', 'ante,', 'lacus', 'porta.', 'faucibus,', 'quis.', 'vestibulum', 'primis', 'luctus,', 'ullamcorper.', 'augue', 'nec', 'mollis', 'lectus', 'dolor', 'sodales', 'ligula,', 'dignissim', 'sem', 'varius', 'mi', 'eu', 'elit.', 'semper', 'id,', 'tempus.', 'finibus.', 'neque', 'quam.', 'scelerisque', 'lorem', 'diam,', 'Cras', 'nisi', 'Lorem', 'leo,', 'Ut', 'ut', 'feugiat.', 'ante', 'venenatis', 'fermentum', 'congue', 'urna', 'Praesent', 'Donec', 'Vestibulum', 'purus.', 'Nullam', 'tincidunt', 'efficitur', 'velit', 'commodo.', 'iaculis', 'sed,', 'volutpat', 'amet', 'mauris.', 'odio', 'a', 'Interdum', 'neque.', 'risus', 'vitae', 'consectetur', 'adipiscing', 'at', 'Aliquam', 'molestie', 'euismod', 'odio.', 'sed', 'in', 'suscipit', 'augue,', 'sapien', 'posuere', 'euismod,', 'ipsum', 'et.', 'maximus.', 'risus,', 'Suspendisse', 'et', 'facilisis', 'elementum', 'efficitur,', 'ac', 'nulla.', 'quam', 'arcu', 'fames', 'Nunc', 'pharetra,', 'laoreet', 'ligula', 'fermentum,', 'auctor', 'tortor,', 'Curabitur', 'eget', 'finibus', 'ultrices', 'malesuada', 'purus', 'congue,', 'amet,', 'fermentum.', 'dui']\n",
        "\n",
        "# Insira a resposta abaixo.\n",
        "palavras_curta = list(filter(lambda palavra: len(palavra) < 3, lista))\n",
        "\n",
        "print(palavras_curta)\n"
      ]
    },
    {
      "cell_type": "markdown",
      "metadata": {
        "id": "Mvu_3JcQ0JZj"
      },
      "source": [
        "32 - A partir da lista definida abaixo, gere automaticamente e exiba um dicionário enumerado do tipo:\n",
        "\n",
        "```\n",
        "dicionario = {0: 'Preprocessing', 1: 'Feature Extraction', 2: 'Feature Selection' ...}\n",
        "\n",
        "```\n",
        "\n",
        "Em seguida, gere a seguinte saída:\n",
        "\n",
        "Step 1 - Preprocessing\n",
        "\n",
        "Step 2 - Feature Extraction\n",
        "\n",
        "Step 3 - Feature Selection\n",
        "\n",
        "Step 4 - Classification\n",
        "\n",
        "Step 5 - Post Processing"
      ]
    },
    {
      "cell_type": "code",
      "execution_count": 5,
      "metadata": {
        "id": "jNIHsLKw0Jhm",
        "colab": {
          "base_uri": "https://localhost:8080/"
        },
        "outputId": "516ddacc-3a77-4f47-e3ea-0b6791bb46cc"
      },
      "outputs": [
        {
          "output_type": "stream",
          "name": "stdout",
          "text": [
            "{0: 'Preprocessing', 1: 'Feature Extraction', 2: 'Feature Selection', 3: 'Classification', 4: 'Post Processing'}\n",
            "\n",
            "Step 1 - Preprocessing\n",
            "\n",
            "Step 2 - Feature Extraction\n",
            "\n",
            "Step 3 - Feature Selection\n",
            "\n",
            "Step 4 - Classification\n",
            "\n",
            "Step 5 - Post Processing\n"
          ]
        }
      ],
      "source": [
        "lst = [\"Preprocessing\", \"Feature Extraction\", \"Feature Selection\", \"Classification\", \"Post Processing\"]\n",
        "\n",
        "# Insira a resposta abaixo.\n",
        "dicionario = dict(enumerate(lst))\n",
        "print(dicionario)\n",
        "\n",
        "for i, etapa in enumerate(lst, start=1):\n",
        "    print (f\"\\nStep {i} - {etapa}\")"
      ]
    },
    {
      "cell_type": "markdown",
      "metadata": {
        "id": "wb6C_-EszkKA"
      },
      "source": [
        "33 - Realize os seguintes procedimentos:\n",
        "1. Crie uma lista de números inteiros de 1 a 4 com incremento de 1 em 1.\n",
        "2. Crie uma lista contendo quatro strings.\n",
        "3. Utilize uma única estrutura de repetição do tipo *for* para iterar paralelamente sobre os quatro elementos de cada uma das duas listas. Exiba os elementos."
      ]
    },
    {
      "cell_type": "code",
      "execution_count": 6,
      "metadata": {
        "id": "2bEJ3OYmzkQy",
        "colab": {
          "base_uri": "https://localhost:8080/"
        },
        "outputId": "5039b5a8-40f3-46b0-ee5e-8908ed7869a8"
      },
      "outputs": [
        {
          "output_type": "stream",
          "name": "stdout",
          "text": [
            "1 um\n",
            "2 dois\n",
            "3 três\n",
            "4 quatro\n"
          ]
        }
      ],
      "source": [
        "# Insira o código abaixo.\n",
        "numeros = list(range(1, 5))\n",
        "\n",
        "palavras = [\"um\", \"dois\", \"três\", \"quatro\"]\n",
        "\n",
        "for numero, palavra in zip(numeros, palavras):\n",
        "    print (numero, palavra)"
      ]
    }
  ],
  "metadata": {
    "colab": {
      "provenance": [],
      "include_colab_link": true
    },
    "kernelspec": {
      "display_name": "Python 3",
      "language": "python",
      "name": "python3"
    },
    "language_info": {
      "codemirror_mode": {
        "name": "ipython",
        "version": 3
      },
      "file_extension": ".py",
      "mimetype": "text/x-python",
      "name": "python",
      "nbconvert_exporter": "python",
      "pygments_lexer": "ipython3",
      "version": "3.6.4"
    }
  },
  "nbformat": 4,
  "nbformat_minor": 0
}